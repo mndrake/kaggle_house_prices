{
 "cells": [
  {
   "cell_type": "code",
   "execution_count": 59,
   "metadata": {
    "collapsed": false
   },
   "outputs": [],
   "source": [
    "%matplotlib inline\n",
    "import pandas as pd\n",
    "import numpy as np\n",
    "import xgboost as xgb\n",
    "from xgboost import XGBRegressor\n",
    "from sklearn.model_selection import KFold, RandomizedSearchCV, GridSearchCV\n",
    "from sklearn.metrics import make_scorer, mean_squared_error\n",
    "from sklearn.pipeline import make_pipeline, BaseEstimator, TransformerMixin\n",
    "from sklearn.preprocessing import Imputer"
   ]
  },
  {
   "cell_type": "code",
   "execution_count": 41,
   "metadata": {
    "collapsed": true
   },
   "outputs": [],
   "source": [
    "def rmse(y_true, y_pred):\n",
    "    return np.sqrt(mean_squared_error(y_true, y_pred))"
   ]
  },
  {
   "cell_type": "code",
   "execution_count": 42,
   "metadata": {
    "collapsed": false
   },
   "outputs": [],
   "source": [
    "class ProcessDataFrame(BaseEstimator, TransformerMixin):\n",
    "    def fit(self, X, y=None):\n",
    "        return self\n",
    "    def transform(self, X, y=None):\n",
    "        X_result = X.copy().drop(['Id'], axis=1)\n",
    "        ordered_levels = {\n",
    "            \"Alley\": [\"Grvl\", \"Pave\"],\n",
    "            \"BsmtCond\": [\"Po\", \"Fa\", \"TA\", \"Gd\"],\n",
    "            \"BsmtExposure\": [\"No\", \"Mn\", \"Av\", \"Gd\"],\n",
    "            \"BsmtFinType1\": [\"Unf\", \"LwQ\", \"Rec\", \"BLQ\", \"ALQ\", \"GLQ\"],\n",
    "            \"BsmtFinType2\": [\"Unf\", \"LwQ\", \"Rec\", \"BLQ\", \"ALQ\", \"GLQ\"],\n",
    "            \"BsmtQual\": [\"Fa\", \"TA\", \"Gd\", \"Ex\"],\n",
    "            \"CentralAir\": [\"N\", \"Y\"],\n",
    "            \"Electrical\": [\"Mix\", \"FuseP\", \"FuseF\", \"FuseA\", \"SBrkr\"],\n",
    "            \"ExterCond\": [\"Po\", \"Fa\", \"TA\", \"Gd\", \"Ex\"],\n",
    "            \"ExterQual\": [\"Fa\", \"TA\", \"Gd\", \"Ex\"],\n",
    "            \"Fence\": [\"MnWw\", \"GdWo\", \"MnPrv\", \"GdPrv\"],\n",
    "            \"FireplaceQu\": [\"Po\", \"Fa\", \"TA\", \"Gd\", \"Ex\"],\n",
    "            \"GarageCond\": [\"Po\", \"Fa\", \"TA\", \"Gd\", \"Ex\"],\n",
    "            \"GarageFinish\": [\"Unf\", \"RFn\", \"Fin\"],\n",
    "            \"GarageQual\": [\"Po\", \"Fa\", \"TA\", \"Gd\", \"Ex\"],\n",
    "            \"HeatingQC\": [\"Po\", \"Fa\", \"TA\", \"Gd\", \"Ex\"],\n",
    "            \"KitchenQual\": [\"Fa\", \"TA\", \"Gd\", \"Ex\"],\n",
    "            \"LotShape\": [\"IR3\", \"IR2\", \"IR1\", \"Reg\"],\n",
    "            \"PavedDrive\": [\"N\", \"P\", \"Y\"],\n",
    "            \"PoolQC\": [\"Fa\", \"Gd\", \"Ex\"],\n",
    "            \"Street\": [\"Grvl\", \"Pave\"],   \n",
    "            \"Utilities\": [\"NoSeWa\", \"AllPub\"]}\n",
    "\n",
    "        unordered_levels = {\n",
    "            'BldgType': ['1Fam', '2fmCon', 'Duplex', 'TwnhsE', 'Twnhs'],\n",
    "            'Condition1': ['Norm', 'Feedr', 'PosN', 'Artery', 'RRAe', 'RRNn', 'RRAn', 'PosA', 'RRNe'],\n",
    "            'Condition2': ['Norm', 'Artery', 'RRNn', 'Feedr', 'PosN', 'PosA', 'RRAn', 'RRAe'],\n",
    "            'Exterior1st': ['VinylSd', 'MetalSd', 'Wd Sdng', 'HdBoard', 'BrkFace', 'WdShing', 'CemntBd', 'Plywood', \n",
    "                            'AsbShng','Stucco', 'BrkComm', 'AsphShn', 'Stone', 'ImStucc', 'CBlock'],\n",
    "            'Exterior2nd': ['VinylSd', 'MetalSd', 'Wd Shng', 'HdBoard', 'Plywood', 'Wd Sdng', 'CmentBd', 'BrkFace', \n",
    "                            'Stucco', 'AsbShng', 'Brk Cmn', 'ImStucc', 'AsphShn', 'Stone', 'Other', 'CBlock'],\n",
    "            'Foundation': ['PConc', 'CBlock', 'BrkTil', 'Wood', 'Slab', 'Stone'],\n",
    "            'Functional': ['Typ', 'Min1', 'Maj1', 'Min2', 'Mod', 'Maj2', 'Sev'],\n",
    "            'GarageType': ['Attchd', 'Detchd', 'BuiltIn', 'CarPort', 'Basment', '2Types'],\n",
    "            'Heating': ['GasA', 'GasW', 'Grav', 'Wall', 'OthW', 'Floor'],\n",
    "            'HouseStyle': ['2Story', '1Story', '1.5Fin', '1.5Unf', 'SFoyer', 'SLvl', '2.5Unf', '2.5Fin'],\n",
    "            'LandContour': ['Lvl', 'Bnk', 'Low', 'HLS'],\n",
    "            'LandSlope': ['Gtl', 'Mod', 'Sev'],\n",
    "            'LotConfig': ['Inside', 'FR2', 'Corner', 'CulDSac', 'FR3'],\n",
    "            'MSZoning': ['RL', 'RM', 'C (all)', 'FV', 'RH'],\n",
    "            'MasVnrType': ['BrkFace', 'None', 'Stone', 'BrkCmn'],\n",
    "            'MiscFeature': ['Shed', 'Gar2', 'Othr', 'TenC'],\n",
    "            'Neighborhood': ['CollgCr', 'Veenker', 'Crawfor', 'NoRidge', 'Mitchel', 'Somerst', 'NWAmes', \n",
    "                             'OldTown', 'BrkSide', 'Sawyer', 'NridgHt', 'NAmes', 'SawyerW', 'IDOTRR', \n",
    "                             'MeadowV', 'Edwards', 'Timber', 'Gilbert', 'StoneBr', 'ClearCr', 'NPkVill', \n",
    "                             'Blmngtn', 'BrDale', 'SWISU', 'Blueste'],\n",
    "            'RoofMatl': ['CompShg', 'WdShngl', 'Metal', 'WdShake', 'Membran', 'Tar&Grv', 'Roll', 'ClyTile'],\n",
    "            'RoofStyle': ['Gable', 'Hip', 'Gambrel', 'Mansard', 'Flat', 'Shed'],\n",
    "            'SaleCondition': ['Normal', 'Abnorml', 'Partial', 'AdjLand', 'Alloca', 'Family'],\n",
    "            'SaleType': ['WD', 'New', 'COD', 'ConLD', 'ConLI', 'CWD', 'ConLw', 'Con', 'Oth']}\n",
    "        \n",
    "        for c in X_result.columns:\n",
    "            #convert ordered categorical to integers\n",
    "            if c in ordered_levels:\n",
    "                X_result[c] = X_result[c].astype('category', categories=ordered_levels[c], ordered=True).cat.codes\n",
    "            #apply levels to unordered categorical columns\n",
    "            if c in unordered_levels:\n",
    "                X_result[c] = X_result[c].astype('category', categories=unordered_levels[c])\n",
    "        \n",
    "        #convert unordered categorical to dummy columns        \n",
    "        X_result = pd.get_dummies(X_result)\n",
    "        return X_result\n",
    "    \n",
    "    def fit_transform(self, X, y=None):\n",
    "        result = self.transform(X)\n",
    "        return result"
   ]
  },
  {
   "cell_type": "code",
   "execution_count": 43,
   "metadata": {
    "collapsed": true
   },
   "outputs": [],
   "source": [
    "def load_data():\n",
    "    train = pd.read_csv('../input/train.csv')\n",
    "    test = pd.read_csv('../input/test.csv')            \n",
    "    y = np.log(train['SalePrice'].values)\n",
    "    X = train.drop(['SalePrice'], axis=1)\n",
    "    X_submission = test\n",
    "    ids_submission = test['Id'].values\n",
    "    return y, X, X_submission, ids_submission"
   ]
  },
  {
   "cell_type": "code",
   "execution_count": 44,
   "metadata": {
    "collapsed": false
   },
   "outputs": [],
   "source": [
    "# load data\n",
    "y, X, X_submission, ids_submission = load_data()"
   ]
  },
  {
   "cell_type": "code",
   "execution_count": 45,
   "metadata": {
    "collapsed": false
   },
   "outputs": [],
   "source": [
    "parameters = {'xgbregressor__max_depth': [5],\n",
    "              'xgbregressor__learning_rate': [0.1],\n",
    "              'xgbregressor__n_estimators': [200],\n",
    "              'xgbregressor__min_child_weight': [2],\n",
    "              'xgbregressor__subsample': [0.65],\n",
    "              'xgbregressor__colsample_bytree': [0.65]}\n",
    "\n",
    "pipeline = make_pipeline(ProcessDataFrame(),\n",
    "                         Imputer(strategy='most_frequent'),\n",
    "                         XGBRegressor(silent = True, objective='reg:linear', nthread=4, seed = 1773))\n",
    "\n",
    "folds = KFold(10, random_state=42)\n",
    "\n",
    "model = GridSearchCV(pipeline,\n",
    "                     parameters, \n",
    "                     #n_iter=60, \n",
    "                     #random_state=1773,\n",
    "                     scoring=make_scorer(rmse, greater_is_better=False), \n",
    "                     cv=folds)"
   ]
  },
  {
   "cell_type": "code",
   "execution_count": 47,
   "metadata": {
    "collapsed": false
   },
   "outputs": [
    {
     "name": "stdout",
     "output_type": "stream",
     "text": [
      "best score: -0.117796324311\n",
      "best parameters: {'xgbregressor__learning_rate': 0.1, 'xgbregressor__subsample': 0.65, 'xgbregressor__n_estimators': 200, 'xgbregressor__colsample_bytree': 0.65, 'xgbregressor__max_depth': 5, 'xgbregressor__min_child_weight': 2}\n",
      "CPU times: user 27.1 s, sys: 386 ms, total: 27.5 s\n",
      "Wall time: 7.14 s\n"
     ]
    }
   ],
   "source": [
    "%%time\n",
    "model.fit(X,y);\n",
    "print 'best score:', model.best_score_\n",
    "print 'best parameters:', model.best_params_"
   ]
  }
 ],
 "metadata": {
  "anaconda-cloud": {},
  "kernelspec": {
   "display_name": "Python [Root]",
   "language": "python",
   "name": "Python [Root]"
  },
  "language_info": {
   "codemirror_mode": {
    "name": "ipython",
    "version": 2
   },
   "file_extension": ".py",
   "mimetype": "text/x-python",
   "name": "python",
   "nbconvert_exporter": "python",
   "pygments_lexer": "ipython2",
   "version": "2.7.12"
  }
 },
 "nbformat": 4,
 "nbformat_minor": 0
}
