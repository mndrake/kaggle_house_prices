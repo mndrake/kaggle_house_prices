{
 "cells": [
  {
   "cell_type": "code",
   "execution_count": null,
   "metadata": {
    "collapsed": false
   },
   "outputs": [],
   "source": [
    "#! pip install git+git://github.com/hyperopt/hyperopt-sklearn.git"
   ]
  },
  {
   "cell_type": "code",
   "execution_count": 3,
   "metadata": {
    "collapsed": false
   },
   "outputs": [],
   "source": [
    "from __future__ import print_function\n",
    "import numpy as np\n",
    "from sklearn import datasets\n",
    "from sklearn.cross_validation import train_test_split\n",
    "from hyperopt import tpe\n",
    "import hpsklearn\n",
    "import sys\n",
    "import pandas as pd\n",
    "from sklearn.linear_model import Lasso, ElasticNet, LinearRegression\n",
    "from sklearn.metrics import mean_squared_error\n",
    "from sklearn.model_selection import cross_val_score, cross_val_predict , KFold, GridSearchCV\n",
    "from sklearn.pipeline import make_pipeline\n",
    "from sklearn.preprocessing import Normalizer, StandardScaler\n",
    "from sklearn.svm import SVR\n",
    "from sklearn.ensemble import RandomForestRegressor, BaggingRegressor, AdaBoostRegressor\n",
    "from sklearn.tree import DecisionTreeRegressor\n",
    "from scipy.stats import hmean\n",
    "from tqdm import tnrange, tqdm_notebook, tqdm\n",
    "import xgboost as xgb\n",
    "import forum_features"
   ]
  },
  {
   "cell_type": "markdown",
   "metadata": {},
   "source": [
    "## scoring methods"
   ]
  },
  {
   "cell_type": "code",
   "execution_count": 4,
   "metadata": {
    "collapsed": true
   },
   "outputs": [],
   "source": [
    "def rmse_cv(model, X, y, n_folds=5):\n",
    "    cv_scores = cross_val_score(model, X, y, scoring='neg_mean_squared_error', \n",
    "                                cv=KFold(n_folds, shuffle=True, random_state=42))\n",
    "    print('mean: {:.4f}'.format(np.mean(np.sqrt(-cv_scores))))\n",
    "    print('std:  {:.4f}'.format(np.std(np.sqrt(-cv_scores))))"
   ]
  },
  {
   "cell_type": "code",
   "execution_count": 5,
   "metadata": {
    "collapsed": true
   },
   "outputs": [],
   "source": [
    "def rmse(y_true, y_pred):\n",
    "    return np.sqrt(mean_squared_error(y_true, y_pred))"
   ]
  },
  {
   "cell_type": "code",
   "execution_count": 6,
   "metadata": {
    "collapsed": true
   },
   "outputs": [],
   "source": [
    "def rmse_cv_avg(model, X, y, n_folds=5):\n",
    "    y_pred = cross_val_predict(model, X, y, cv=KFold(n_folds, shuffle=True, random_state=42))\n",
    "    score = rmse(y, y_pred)\n",
    "    print('RMSE: {:.4f}'.format(score))"
   ]
  },
  {
   "cell_type": "markdown",
   "metadata": {},
   "source": [
    "## load data"
   ]
  },
  {
   "cell_type": "code",
   "execution_count": 7,
   "metadata": {
    "collapsed": false
   },
   "outputs": [],
   "source": [
    "X, y, X_submission, ids_submission = forum_features.load_data()"
   ]
  },
  {
   "cell_type": "code",
   "execution_count": 8,
   "metadata": {
    "collapsed": false
   },
   "outputs": [],
   "source": [
    "X_train, X_test, y_train, y_test = train_test_split(X.values, y.values, test_size=.25, random_state=1)"
   ]
  },
  {
   "cell_type": "markdown",
   "metadata": {},
   "source": [
    "## find new models"
   ]
  },
  {
   "cell_type": "code",
   "execution_count": 35,
   "metadata": {
    "collapsed": false
   },
   "outputs": [],
   "source": [
    "estimator = hpsklearn.HyperoptEstimator(\n",
    "    preprocessing=hpsklearn.components.any_preprocessing('pp'),\n",
    "    regressor=hpsklearn.components.any_regressor('reg'),\n",
    "    loss_fn=rmse,\n",
    "    algo=tpe.suggest,\n",
    "    trial_timeout=300.0,\n",
    "    max_evals=120,\n",
    "    seed=1337\n",
    ")"
   ]
  },
  {
   "cell_type": "code",
   "execution_count": 36,
   "metadata": {
    "collapsed": false
   },
   "outputs": [
    {
     "name": "stdout",
     "output_type": "stream",
     "text": [
      "Trial 0 loss: 12.0044842971\n",
      "Trial 1 loss: 1.40082119653\n",
      "Trial 2 loss: 0.373522174397\n",
      "Trial 3 loss: 0.253603385891\n",
      "Trial 4 loss: 0.229742816947\n",
      "Trial 5 loss: 0.198690352756\n",
      "Trial 6 loss: 0.159869649397\n",
      "Trial 7 loss: 0.155089062591\n",
      "Trial 8 loss: 0.148801063361\n",
      "Trial 9 loss: 0.145863561449\n",
      "Trial 12 loss: 0.142887522448\n",
      "Trial 13 loss: 0.108873930901\n",
      "Trial 20 loss: 0.107778105737\n",
      "Trial 69 loss: 0.107019906189\n",
      "Trial 78 loss: None\n",
      "\n"
     ]
    }
   ],
   "source": [
    "iterator = estimator.fit_iter(X_train, y_train)\n",
    "next(iterator)\n",
    "\n",
    "best = np.infty\n",
    "\n",
    "bar = tnrange(estimator.max_evals, desc='trial')\n",
    "\n",
    "for n_trial in bar:\n",
    "    iterator.send(1)  # -- try one more model\n",
    "    trial_score = estimator.trials.losses()[-1]\n",
    "    if trial_score < best:\n",
    "        best = trial_score\n",
    "        bar.write('Trial {} loss: {}'.format(n_trial, best))"
   ]
  },
  {
   "cell_type": "code",
   "execution_count": 37,
   "metadata": {
    "collapsed": false
   },
   "outputs": [
    {
     "data": {
      "text/plain": [
       "{'ex_preprocs': (),\n",
       " 'learner': SVR(C=1.95702079447, cache_size=512, coef0=0.0, degree=1,\n",
       "   epsilon=0.0116084150734, gamma=0.00363369397057, kernel='rbf',\n",
       "   max_iter=166519567.0, shrinking=True, tol=0.0016221625196, verbose=False),\n",
       " 'preprocs': (StandardScaler(copy=True, with_mean=False, with_std=False),)}"
      ]
     },
     "execution_count": 37,
     "metadata": {},
     "output_type": "execute_result"
    }
   ],
   "source": [
    "model = estimator.best_model()\n",
    "model"
   ]
  },
  {
   "cell_type": "markdown",
   "metadata": {},
   "source": [
    "## models to review"
   ]
  },
  {
   "cell_type": "code",
   "execution_count": null,
   "metadata": {
    "collapsed": true
   },
   "outputs": [],
   "source": [
    "reg1 = BaggingRegressor(Lasso(alpha=0.00015, max_iter=5000),\n",
    "                        random_state=1337,\n",
    "                        n_estimators=100,\n",
    "                        oob_score=True,\n",
    "                        max_samples=0.4,\n",
    "                        max_features=1.0)"
   ]
  },
  {
   "cell_type": "code",
   "execution_count": null,
   "metadata": {
    "collapsed": true
   },
   "outputs": [],
   "source": [
    "reg1 = BaggingRegressor(Lasso(alpha=0.00015, max_iter=5000),\n",
    "                        random_state=1337,\n",
    "                        n_estimators=100,\n",
    "                        oob_score=True,\n",
    "                        max_samples=0.4,\n",
    "                        max_features=1.0)"
   ]
  },
  {
   "cell_type": "code",
   "execution_count": 287,
   "metadata": {
    "collapsed": true
   },
   "outputs": [],
   "source": [
    "model1 = AdaBoostRegressor(DecisionTreeRegressor(max_depth=8, max_features=0.7, min_samples_leaf=2),\n",
    "                           n_estimators=150, \n",
    "                           learning_rate=0.8, \n",
    "                           loss='linear', \n",
    "                           random_state=1337)"
   ]
  },
  {
   "cell_type": "code",
   "execution_count": 288,
   "metadata": {
    "collapsed": true
   },
   "outputs": [],
   "source": [
    "#0.1333"
   ]
  },
  {
   "cell_type": "code",
   "execution_count": 289,
   "metadata": {
    "collapsed": false
   },
   "outputs": [
    {
     "name": "stdout",
     "output_type": "stream",
     "text": [
      "RMSE: 0.1325\n",
      "CPU times: user 30.9 s, sys: 142 ms, total: 31.1 s\n",
      "Wall time: 31.3 s\n"
     ]
    }
   ],
   "source": [
    "%%time\n",
    "rmse_cv_avg(model1, X, y, n_folds=5)"
   ]
  },
  {
   "cell_type": "code",
   "execution_count": 37,
   "metadata": {
    "collapsed": false
   },
   "outputs": [
    {
     "name": "stdout",
     "output_type": "stream",
     "text": [
      "score: 0.120812359806\n",
      "params: {'reg_alpha': 0.65, 'colsample_bytree': 0.4, 'min_child_weight': 3, 'subsample': 0.95, 'reg_lambda': 0.5, 'max_depth': 16, 'gamma': 0.04}\n"
     ]
    }
   ],
   "source": [
    "reg3=xgb.XGBRegressor(colsample_bytree=0.4,\n",
    "                      gamma=0.045,\n",
    "                      learning_rate=0.05, #0.07\n",
    "                      max_depth=20,\n",
    "                      min_child_weight=1.5,\n",
    "                      n_estimators=1500, #300\n",
    "                      reg_alpha=0.65,\n",
    "                      reg_lambda=0.45,\n",
    "                      subsample=0.95)\n",
    "\n",
    "params = {'colsample_bytree': [0.4],\n",
    "          'max_depth': [16],\n",
    "          'min_child_weight': [3],\n",
    "          'subsample': [0.95],\n",
    "          'gamma': [0.04],\n",
    "          'reg_alpha': [0.65],\n",
    "          'reg_lambda': [0.5]\n",
    "}\n",
    "\n",
    "grid = GridSearchCV(reg3, params, scoring='neg_mean_squared_error', \n",
    "                    cv=KFold(10, shuffle=True, random_state=42))\n",
    "grid.fit(X,y)\n",
    "\n",
    "print('score: {}'.format(np.sqrt(-grid.best_score_)))\n",
    "print('params: {}'.format(grid.best_params_))"
   ]
  },
  {
   "cell_type": "code",
   "execution_count": 19,
   "metadata": {
    "collapsed": false
   },
   "outputs": [],
   "source": [
    "#reg3.get_params()"
   ]
  },
  {
   "cell_type": "code",
   "execution_count": null,
   "metadata": {
    "collapsed": true
   },
   "outputs": [],
   "source": [
    "#0.120812359806 - 1500\n",
    "#0.120897432807 - 1200\n",
    "#0.121032529194 - 900\n",
    "#0.121150609378 - 700\n",
    "#0.121244175186 - 600\n",
    "#0.121350323311 - 500\n",
    "#0.121530616329 - 400\n",
    "#0.121825438415 - 300\n",
    "#0.121774543292\n",
    "#0.126984446284 - 0.15\n",
    "#0.123554835113"
   ]
  },
  {
   "cell_type": "code",
   "execution_count": null,
   "metadata": {
    "collapsed": true
   },
   "outputs": [],
   "source": []
  },
  {
   "cell_type": "code",
   "execution_count": 52,
   "metadata": {
    "collapsed": true
   },
   "outputs": [],
   "source": [
    "model3 = make_pipeline(StandardScaler(copy=True, with_mean=False, with_std=False),\n",
    "                       SVR(C=1.95702079447, cache_size=512, coef0=0.0, degree=1,\n",
    "                           epsilon=0.0116084150734, gamma=0.00363369397057, kernel='rbf',\n",
    "                           max_iter=166519567.0, shrinking=True, tol=0.0016221625196, verbose=False))"
   ]
  },
  {
   "cell_type": "code",
   "execution_count": 84,
   "metadata": {
    "collapsed": false
   },
   "outputs": [
    {
     "name": "stdout",
     "output_type": "stream",
     "text": [
      "score: 0.108641420758\n",
      "params: {'svr__gamma': 0.00115, 'svr__epsilon': 0.0435, 'svr__C': 5.0}\n"
     ]
    }
   ],
   "source": [
    "params = {'svr__C': [4.50, 4.75, 5.00],\n",
    "          'svr__gamma': [0.00105, 0.00115, 0.00125],\n",
    "          'svr__epsilon': [0.0415, 0.0425, 0.0435]}\n",
    "\n",
    "# 'svr__C': 1.95702079447,\n",
    "#  'svr__cache_size': 512,\n",
    "#  'svr__coef0': 0.0,\n",
    "#  'svr__degree': 1,\n",
    "#  'svr__epsilon': 0.0116084150734,\n",
    "#  'svr__gamma': 0.00363369397057,\n",
    "#  'svr__kernel': 'rbf',\n",
    "#  'svr__max_iter': 166519567.0,\n",
    "#  'svr__shrinking': True,\n",
    "#  'svr__tol': 0.0016221625196,\n",
    "\n",
    "grid = GridSearchCV(model3, params, scoring='neg_mean_squared_error', \n",
    "                    cv=KFold(10, shuffle=True, random_state=42))\n",
    "grid.fit(X,y)\n",
    "\n",
    "print('score: {}'.format(np.sqrt(-grid.best_score_)))\n",
    "print('params: {}'.format(grid.best_params_))"
   ]
  },
  {
   "cell_type": "code",
   "execution_count": 75,
   "metadata": {
    "collapsed": false
   },
   "outputs": [],
   "source": [
    "# score: 0.10864547849\n",
    "# params: {'svr__gamma': 0.00115, 'svr__epsilon': 0.0425, 'svr__C': 4.75}"
   ]
  },
  {
   "cell_type": "code",
   "execution_count": 61,
   "metadata": {
    "collapsed": false
   },
   "outputs": [
    {
     "name": "stdout",
     "output_type": "stream",
     "text": [
      "RMSE: 0.1121\n",
      "CPU times: user 4.8 s, sys: 34.4 ms, total: 4.83 s\n",
      "Wall time: 4.84 s\n"
     ]
    }
   ],
   "source": [
    "%%time\n",
    "rmse_cv_avg(model3, X, y, n_folds=10)"
   ]
  },
  {
   "cell_type": "markdown",
   "metadata": {},
   "source": [
    "## models to keep"
   ]
  },
  {
   "cell_type": "code",
   "execution_count": 62,
   "metadata": {
    "collapsed": false
   },
   "outputs": [],
   "source": [
    "def oob_predictions(model, X, y, X_sub, n_folds=5):\n",
    "    folds = cv=KFold(n_folds, shuffle=True, random_state=42).split(X)\n",
    "    \n",
    "    if type(X).__name__ == 'SparseDataFrame':\n",
    "        X = X.values\n",
    "        X_sub = X.values\n",
    "        \n",
    "    if type(y).__name__ == 'Series':\n",
    "        y = y.values\n",
    "    \n",
    "    train_pred = np.zeros(np.shape(X)[0])\n",
    "    test_pred_i = np.zeros((np.shape(X_sub)[0], n_folds))\n",
    "        \n",
    "    for i in tnrange(n_folds, desc='split'):\n",
    "        train_index, test_index = folds.next()\n",
    "        X_train = X[train_index,:]\n",
    "        X_test = X[test_index,:]\n",
    "        y_train = y[train_index]\n",
    "        model.fit(X_train, y_train)\n",
    "        train_pred[test_index] = model.predict(X_test)\n",
    "        test_pred_i[:,i] = model.predict(X_sub)\n",
    "        \n",
    "    test_pred = hmean(test_pred_i, axis=1)\n",
    "    \n",
    "    print('RMSE: {}'.format(rmse(y, train_pred)))\n",
    "    \n",
    "    return train_pred, test_pred"
   ]
  },
  {
   "cell_type": "markdown",
   "metadata": {},
   "source": [
    "### \\*\\* bagged lasso **"
   ]
  },
  {
   "cell_type": "code",
   "execution_count": 39,
   "metadata": {
    "collapsed": false
   },
   "outputs": [],
   "source": [
    "reg1 = BaggingRegressor(Lasso(alpha=0.00013, #0.00015\n",
    "                              max_iter=10000),\n",
    "                        random_state=1337,\n",
    "                        n_estimators=100,\n",
    "                        oob_score=True,\n",
    "                        max_samples=0.4,\n",
    "                        max_features=1.0)"
   ]
  },
  {
   "cell_type": "code",
   "execution_count": 30,
   "metadata": {
    "collapsed": true
   },
   "outputs": [],
   "source": [
    "#0.109055823916"
   ]
  },
  {
   "cell_type": "code",
   "execution_count": 40,
   "metadata": {
    "collapsed": false
   },
   "outputs": [],
   "source": [
    "# %%time\n",
    "# reg1.fit(X,y)\n",
    "# print('RMSE:{}'.format(rmse(y, reg1.oob_prediction_)))"
   ]
  },
  {
   "cell_type": "code",
   "execution_count": 12,
   "metadata": {
    "collapsed": true
   },
   "outputs": [],
   "source": [
    "# mean: 0.1084\n",
    "# std:  0.0174\n",
    "# CPU times: user 2min 22s, sys: 898 ms, total: 2min 23s\n",
    "# Wall time: 2min 23s"
   ]
  },
  {
   "cell_type": "code",
   "execution_count": 32,
   "metadata": {
    "collapsed": false
   },
   "outputs": [
    {
     "name": "stdout",
     "output_type": "stream",
     "text": [
      "mean: 0.1084\n",
      "std:  0.0174\n",
      "CPU times: user 2min 39s, sys: 1.22 s, total: 2min 40s\n",
      "Wall time: 2min 41s\n"
     ]
    }
   ],
   "source": [
    "# %%time\n",
    "# rmse_cv(reg1, X, y, n_folds=10)"
   ]
  },
  {
   "cell_type": "markdown",
   "metadata": {},
   "source": [
    "### \\*\\* bagged elastic net **"
   ]
  },
  {
   "cell_type": "code",
   "execution_count": 41,
   "metadata": {
    "collapsed": false
   },
   "outputs": [],
   "source": [
    "reg2 = BaggingRegressor(ElasticNet(alpha=0.00013, l1_ratio=1.0, max_iter=3000),\n",
    "                        random_state=1337,\n",
    "                        n_estimators=100,\n",
    "                        oob_score=True,\n",
    "                        max_samples=0.4,\n",
    "                        max_features=1.0)"
   ]
  },
  {
   "cell_type": "code",
   "execution_count": null,
   "metadata": {
    "collapsed": true
   },
   "outputs": [],
   "source": [
    "# mean: 0.1094\n",
    "# std:  0.0157\n",
    "# CPU times: user 2min 40s, sys: 854 ms, total: 2min 41s\n",
    "# Wall time: 2min 41s"
   ]
  },
  {
   "cell_type": "code",
   "execution_count": 34,
   "metadata": {
    "collapsed": false
   },
   "outputs": [
    {
     "name": "stdout",
     "output_type": "stream",
     "text": [
      "mean: 0.1084\n",
      "std:  0.0174\n",
      "CPU times: user 2min 33s, sys: 1.07 s, total: 2min 34s\n",
      "Wall time: 2min 35s\n"
     ]
    }
   ],
   "source": [
    "%%time\n",
    "rmse_cv(reg2, X, y, n_folds=10)"
   ]
  },
  {
   "cell_type": "markdown",
   "metadata": {},
   "source": [
    "### \\*\\* xgboost **"
   ]
  },
  {
   "cell_type": "code",
   "execution_count": 42,
   "metadata": {
    "collapsed": false
   },
   "outputs": [],
   "source": [
    "reg3=xgb.XGBRegressor(colsample_bytree=0.4,\n",
    "                      gamma=0.04,\n",
    "                      learning_rate=0.05,\n",
    "                      max_depth=16,\n",
    "                      min_child_weight=3,\n",
    "                      n_estimators=1500,\n",
    "                      reg_alpha=0.65,\n",
    "                      reg_lambda=0.5,\n",
    "                      subsample=0.95)"
   ]
  },
  {
   "cell_type": "code",
   "execution_count": 212,
   "metadata": {
    "collapsed": true
   },
   "outputs": [],
   "source": [
    "# mean: 0.1233\n",
    "# std:  0.0136\n",
    "# CPU times: user 1min 19s, sys: 214 ms, total: 1min 19s\n",
    "# Wall time: 1min 19s"
   ]
  },
  {
   "cell_type": "code",
   "execution_count": 213,
   "metadata": {
    "collapsed": false
   },
   "outputs": [],
   "source": [
    "# %%time\n",
    "# rmse_cv(reg3, X, y, n_folds=10)"
   ]
  },
  {
   "cell_type": "markdown",
   "metadata": {},
   "source": [
    "### \\*\\* svm **"
   ]
  },
  {
   "cell_type": "code",
   "execution_count": 43,
   "metadata": {
    "collapsed": true
   },
   "outputs": [],
   "source": [
    "reg4 = make_pipeline(StandardScaler(copy=True, with_mean=False, with_std=False),\n",
    "                     SVR(C=5.0, cache_size=512, coef0=0.0, degree=1,\n",
    "                         epsilon=0.0435, gamma=0.00115, kernel='rbf',\n",
    "                         max_iter=166519567.0, shrinking=True, tol=0.0016221625196, verbose=False))"
   ]
  },
  {
   "cell_type": "code",
   "execution_count": 216,
   "metadata": {
    "collapsed": true
   },
   "outputs": [],
   "source": [
    "# mean: 0.1104\n",
    "# std:  0.0154\n",
    "# CPU times: user 10.4 s, sys: 67.2 ms, total: 10.5 s\n",
    "# Wall time: 10.5 s"
   ]
  },
  {
   "cell_type": "code",
   "execution_count": 86,
   "metadata": {
    "collapsed": false
   },
   "outputs": [
    {
     "name": "stdout",
     "output_type": "stream",
     "text": [
      "mean: 0.1072\n",
      "std:  0.0173\n",
      "CPU times: user 7.76 s, sys: 49.1 ms, total: 7.81 s\n",
      "Wall time: 7.85 s\n"
     ]
    }
   ],
   "source": [
    "%%time\n",
    "rmse_cv(reg4, X, y, n_folds=10)"
   ]
  },
  {
   "cell_type": "markdown",
   "metadata": {},
   "source": [
    "## blend results"
   ]
  },
  {
   "cell_type": "code",
   "execution_count": 44,
   "metadata": {
    "collapsed": false
   },
   "outputs": [],
   "source": [
    "regs = [reg1, reg3, reg4]"
   ]
  },
  {
   "cell_type": "code",
   "execution_count": 45,
   "metadata": {
    "collapsed": false
   },
   "outputs": [
    {
     "name": "stdout",
     "output_type": "stream",
     "text": [
      "\n",
      "RMSE: 0.109832474852\n",
      "\n",
      "RMSE: 0.120812359806\n",
      "\n",
      "RMSE: 0.108641420758\n",
      "CPU times: user 9min 4s, sys: 2.47 s, total: 9min 7s\n",
      "Wall time: 9min 8s\n"
     ]
    }
   ],
   "source": [
    "%%time\n",
    "reg_preds = [oob_predictions(reg, X, y, X_submission, 10) for reg in regs]"
   ]
  },
  {
   "cell_type": "code",
   "execution_count": 46,
   "metadata": {
    "collapsed": true
   },
   "outputs": [],
   "source": [
    "reg_train_preds, reg_test_preds = [x for x in zip(*reg_preds)]\n",
    "reg_train_preds = np.exp(np.transpose(reg_train_preds))\n",
    "reg_test_preds = np.exp(np.transpose(reg_test_preds))\n",
    "target = np.exp(y)"
   ]
  },
  {
   "cell_type": "code",
   "execution_count": 47,
   "metadata": {
    "collapsed": true
   },
   "outputs": [],
   "source": [
    "#[ 0.39275028  0.01606502  0.60732489]"
   ]
  },
  {
   "cell_type": "code",
   "execution_count": 48,
   "metadata": {
    "collapsed": false
   },
   "outputs": [
    {
     "name": "stdout",
     "output_type": "stream",
     "text": [
      "[ 0.39393419  0.0464162   0.57729749]\n"
     ]
    }
   ],
   "source": [
    "metalearner = Lasso(positive=True)\n",
    "metalearner.fit(reg_train_preds, target);\n",
    "print(metalearner.coef_)"
   ]
  },
  {
   "cell_type": "code",
   "execution_count": 49,
   "metadata": {
    "collapsed": true
   },
   "outputs": [],
   "source": [
    "full_preds = [reg.fit(X,y).predict(X_submission) for reg in regs]"
   ]
  },
  {
   "cell_type": "code",
   "execution_count": 64,
   "metadata": {
    "collapsed": true
   },
   "outputs": [],
   "source": [
    "meta_preds = cross_val_predict(metalearner, X, y, cv=10)"
   ]
  },
  {
   "cell_type": "code",
   "execution_count": 65,
   "metadata": {
    "collapsed": false
   },
   "outputs": [
    {
     "name": "stdout",
     "output_type": "stream",
     "text": [
      "blended RMSE: 9.54547092273\n"
     ]
    }
   ],
   "source": [
    "print('blended RMSE: {}'.format(rmse(y, np.log(meta_preds))))"
   ]
  },
  {
   "cell_type": "code",
   "execution_count": 67,
   "metadata": {
    "collapsed": false
   },
   "outputs": [
    {
     "name": "stdout",
     "output_type": "stream",
     "text": [
      "\n",
      "RMSE: 19560.4617677\n"
     ]
    },
    {
     "data": {
      "text/plain": [
       "0.10817783184163307"
      ]
     },
     "execution_count": 67,
     "metadata": {},
     "output_type": "execute_result"
    }
   ],
   "source": [
    "meta_preds = oob_predictions(metalearner, reg_train_preds, target, reg_test_preds, n_folds=10)\n",
    "rmse(y, np.log(meta_preds[0]))"
   ]
  },
  {
   "cell_type": "code",
   "execution_count": 69,
   "metadata": {
    "collapsed": false
   },
   "outputs": [],
   "source": [
    "pd.DataFrame({\"id\": ids_submission, \"SalePrice\": meta_preds[1]})\\\n",
    "  .to_csv(\"metalearner_full_submission_4.csv\", index = False)"
   ]
  },
  {
   "cell_type": "code",
   "execution_count": null,
   "metadata": {
    "collapsed": true
   },
   "outputs": [],
   "source": [
    "\n",
    "\n",
    "metalearner reg_train_preds, target)"
   ]
  },
  {
   "cell_type": "code",
   "execution_count": 52,
   "metadata": {
    "collapsed": false
   },
   "outputs": [
    {
     "name": "stdout",
     "output_type": "stream",
     "text": [
      "blended RMSE: 0.107699283544\n"
     ]
    }
   ],
   "source": [
    "# weights LASSO-0.9172 EN-0.0002 XGB-0.0909\n",
    "# blended RMSE: 0.110123029094 - actual RMSE 0.11460\n",
    "# blended RMSE: 0.109102465079 - actual RMSE 0.11586\n",
    "# blended RMSE: 0.108305024878 - actual RMSE 0.11429\n",
    "print('blended RMSE: {}'.format(rmse(y, np.log(metalearner.predict(reg_train_preds)))))"
   ]
  },
  {
   "cell_type": "code",
   "execution_count": null,
   "metadata": {
    "collapsed": true
   },
   "outputs": [],
   "source": [
    "#final_result = 0.50*lasso_preds + 0.24*xgb_preds+0.26*elas_preds\n",
    "#solution = pd.DataFrame({\"id\":ids_submission, \"SalePrice\":final_result}, columns=['id', 'SalePrice'])\n",
    "#solution.to_csv(\"blended_submission.csv\", index = False)"
   ]
  },
  {
   "cell_type": "code",
   "execution_count": 92,
   "metadata": {
    "collapsed": false
   },
   "outputs": [],
   "source": [
    "pd.DataFrame({\"id\":ids_submission, \"SalePrice\":metalearner.predict(reg_test_preds)})\\\n",
    "  .to_csv(\"metalearner_submission_4.csv\", index = False)"
   ]
  },
  {
   "cell_type": "code",
   "execution_count": 50,
   "metadata": {
    "collapsed": true
   },
   "outputs": [],
   "source": [
    "pd.DataFrame({\"id\": ids_submission, \"SalePrice\": metalearner.predict(np.exp(np.transpose(full_preds)))})\\\n",
    "  .to_csv(\"metalearner_full_submission_1.csv\", index = False)"
   ]
  },
  {
   "cell_type": "code",
   "execution_count": null,
   "metadata": {
    "collapsed": true
   },
   "outputs": [],
   "source": [
    "#0.11443"
   ]
  }
 ],
 "metadata": {
  "anaconda-cloud": {},
  "kernelspec": {
   "display_name": "Python [Root]",
   "language": "python",
   "name": "Python [Root]"
  },
  "language_info": {
   "codemirror_mode": {
    "name": "ipython",
    "version": 2
   },
   "file_extension": ".py",
   "mimetype": "text/x-python",
   "name": "python",
   "nbconvert_exporter": "python",
   "pygments_lexer": "ipython2",
   "version": "2.7.11"
  }
 },
 "nbformat": 4,
 "nbformat_minor": 0
}
