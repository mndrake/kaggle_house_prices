{
 "cells": [
  {
   "cell_type": "code",
   "execution_count": 595,
   "metadata": {
    "collapsed": false
   },
   "outputs": [],
   "source": [
    "# %matplotlib inline\n",
    "import pandas as pd\n",
    "import numpy as np\n",
    "# import matplotlib.pyplot as plt\n",
    "from sklearn.ensemble import GradientBoostingRegressor\n",
    "from random import Random\n",
    "from sklearn.model_selection import KFold, cross_val_predict\n",
    "# from sklearn.model_selection import KFold, RandomizedSearchCV, GridSearchCV, cross_val_predict\n",
    "from sklearn.metrics import make_scorer, mean_squared_error\n",
    "from sklearn.pipeline import make_pipeline, BaseEstimator, TransformerMixin\n",
    "from sklearn.preprocessing import Imputer\n",
    "# from sklearn.decomposition import PCA\n",
    "# from scipy.stats import percentileofscore\n",
    "from scipy.stats import hmean"
   ]
  },
  {
   "cell_type": "code",
   "execution_count": 596,
   "metadata": {
    "collapsed": true
   },
   "outputs": [],
   "source": [
    "def rmse(y_true, y_pred):\n",
    "    return np.sqrt(mean_squared_error(y_true, y_pred))"
   ]
  },
  {
   "cell_type": "code",
   "execution_count": 606,
   "metadata": {
    "collapsed": false
   },
   "outputs": [],
   "source": [
    "def load_data():\n",
    "    train = pd.read_csv('../input/train.csv')\n",
    "    test = pd.read_csv('../input/test.csv')\n",
    "    \n",
    "    y = np.log(train['SalePrice'].values)\n",
    "    ids_submission = test['Id'].values\n",
    "    \n",
    "    combined = train.append(test, ignore_index=True).drop(['SalePrice'], axis=1)\n",
    "    \n",
    "    ordered_levels = {\n",
    "        \"Alley\": [\"Grvl\", \"Pave\"],\n",
    "        \"BsmtCond\": [\"Po\", \"Fa\", \"TA\", \"Gd\"],\n",
    "        \"BsmtExposure\": [\"No\", \"Mn\", \"Av\", \"Gd\"],\n",
    "        \"BsmtFinType1\": [\"Unf\", \"LwQ\", \"Rec\", \"BLQ\", \"ALQ\", \"GLQ\"],\n",
    "        \"BsmtFinType2\": [\"Unf\", \"LwQ\", \"Rec\", \"BLQ\", \"ALQ\", \"GLQ\"],\n",
    "        \"BsmtQual\": [\"Fa\", \"TA\", \"Gd\", \"Ex\"],\n",
    "        \"CentralAir\": [\"N\", \"Y\"],\n",
    "        \"Electrical\": [\"Mix\", \"FuseP\", \"FuseF\", \"FuseA\", \"SBrkr\"],\n",
    "        \"ExterCond\": [\"Po\", \"Fa\", \"TA\", \"Gd\", \"Ex\"],\n",
    "        \"ExterQual\": [\"Fa\", \"TA\", \"Gd\", \"Ex\"],\n",
    "        \"Fence\": [\"MnWw\", \"GdWo\", \"MnPrv\", \"GdPrv\"],\n",
    "        \"FireplaceQu\": [\"Po\", \"Fa\", \"TA\", \"Gd\", \"Ex\"],\n",
    "        'Functional': ['Sev', 'Maj2', 'Maj1', 'Mod', 'Min2', 'Min1', 'Typ'],\n",
    "        \"GarageCond\": [\"Po\", \"Fa\", \"TA\", \"Gd\", \"Ex\"],\n",
    "        \"GarageFinish\": [\"Unf\", \"RFn\", \"Fin\"],\n",
    "        \"GarageQual\": [\"Po\", \"Fa\", \"TA\", \"Gd\", \"Ex\"],\n",
    "        \"HeatingQC\": [\"Po\", \"Fa\", \"TA\", \"Gd\", \"Ex\"],\n",
    "        \"KitchenQual\": [\"Fa\", \"TA\", \"Gd\", \"Ex\"],\n",
    "        \"LotShape\": [\"IR3\", \"IR2\", \"IR1\", \"Reg\"],\n",
    "        \"PavedDrive\": [\"N\", \"P\", \"Y\"],\n",
    "        \"PoolQC\": [\"Fa\", \"Gd\", \"Ex\"],\n",
    "        \"Street\": [\"Grvl\", \"Pave\"],   \n",
    "        \"Utilities\": [\"NoSeWa\", \"AllPub\"]\n",
    "    }\n",
    "    \n",
    "    for c in combined.columns:\n",
    "        if combined[c].dtype == 'object':\n",
    "            if c in ordered_levels:\n",
    "                combined[c] = combined[c].astype('category', categories = ordered_levels[c], ordered=True)\n",
    "            else:\n",
    "                combined[c] = combined[c].astype('category')\n",
    "                    \n",
    "    X = combined.iloc[:train.shape[0],:]\n",
    "    X_submission = combined.iloc[train.shape[0]:,:]\n",
    "    \n",
    "    return y, X, X_submission, ids_submission   \n",
    "\n",
    "y, X, X_submission, ids_submission = load_data()"
   ]
  },
  {
   "cell_type": "code",
   "execution_count": 607,
   "metadata": {
    "collapsed": false
   },
   "outputs": [],
   "source": [
    "class ProcessData(TransformerMixin):\n",
    "    def fit(self, X, y=None):\n",
    "        return self\n",
    "    def transform(self, X, y=None):\n",
    "        X = X.copy()\n",
    "        X.drop(['Id'], axis=1, inplace=True)\n",
    "        X[\"HasFireplace\"] = 1 - X[\"FireplaceQu\"].isnull() * 1\n",
    "        X[\"AttchdGarage\"] = (X['GarageType'] == \"Attchd\") * 1\n",
    "                \n",
    "        for c in X.columns:\n",
    "            if X[c].dtype.name == 'category':\n",
    "                if X[c].cat.ordered:\n",
    "                    X[c] = X[c].cat.codes\n",
    "                    \n",
    "        return pd.get_dummies(X)"
   ]
  },
  {
   "cell_type": "code",
   "execution_count": 703,
   "metadata": {
    "collapsed": false
   },
   "outputs": [],
   "source": [
    "model = make_pipeline(ProcessData(),\n",
    "                      Imputer(strategy='most_frequent'),\n",
    "                      GradientBoostingRegressor(random_state=1773,\n",
    "                                                learning_rate=0.1,\n",
    "                                                max_depth=4,\n",
    "                                                max_features=0.7,\n",
    "                                                min_samples_leaf=1,\n",
    "                                                n_estimators=250,\n",
    "                                                subsample=0.75))"
   ]
  },
  {
   "cell_type": "code",
   "execution_count": 704,
   "metadata": {
    "collapsed": false
   },
   "outputs": [],
   "source": [
    "def get_oof_preds(model, X, y, X_sub, n_folds=10, n_iter=1, seed=1234):\n",
    "    preds = np.zeros((np.shape(X)[0], n_iter))\n",
    "    preds_sub = np.zeros((np.shape(X_sub)[0], n_iter))\n",
    "    rng = Random(seed)\n",
    "    for i in range(n_iter):\n",
    "        rs = rng.randint(1,9999)\n",
    "        folds = KFold(n_folds, shuffle=True, random_state=rs)\n",
    "        preds_sub_j = np.zeros((np.shape(X_sub)[0], n_folds))\n",
    "        print 'iter: {}'.format(i)\n",
    "        for j, (train_index, test_index) in enumerate(folds.split(X)):\n",
    "            X_train = X.iloc[train_index, :]\n",
    "            X_test = X.iloc[test_index, :]\n",
    "            y_train = y[train_index]\n",
    "            model.fit(X_train, y_train)\n",
    "            preds[test_index, i] = model.predict(X_test)\n",
    "            preds_sub_j[:,j] = model.predict(X_sub)\n",
    "        preds_sub[:, i] = hmean(preds_sub_j, axis=1)\n",
    "    return preds, preds_sub"
   ]
  },
  {
   "cell_type": "code",
   "execution_count": 706,
   "metadata": {
    "collapsed": false
   },
   "outputs": [
    {
     "name": "stdout",
     "output_type": "stream",
     "text": [
      "iter: 0\n",
      "iter: 1\n",
      "iter: 2\n",
      "iter: 3\n",
      "iter: 4\n",
      "iter: 5\n",
      "iter: 6\n",
      "iter: 7\n",
      "iter: 8\n",
      "iter: 9\n",
      "iter: 10\n",
      "iter: 11\n",
      "iter: 12\n",
      "iter: 13\n",
      "iter: 14\n",
      "iter: 15\n",
      "iter: 16\n",
      "iter: 17\n",
      "iter: 18\n",
      "iter: 19\n",
      "CPU times: user 12min 56s, sys: 1.51 s, total: 12min 58s\n",
      "Wall time: 12min 58s\n"
     ]
    }
   ],
   "source": [
    "%%time\n",
    "oof_preds, bld_preds_sub = get_oof_preds(model, X, y, X_submission, n_folds=20, n_iter=20, seed=1337)"
   ]
  },
  {
   "cell_type": "code",
   "execution_count": 683,
   "metadata": {
    "collapsed": false
   },
   "outputs": [],
   "source": [
    "%matplotlib inline\n",
    "import matplotlib.pyplot as plt"
   ]
  },
  {
   "cell_type": "code",
   "execution_count": 708,
   "metadata": {
    "collapsed": false
   },
   "outputs": [
    {
     "name": "stdout",
     "output_type": "stream",
     "text": [
      "score: 0.124096394024 0.00216032764525\n"
     ]
    }
   ],
   "source": [
    "cv_scores = np.apply_along_axis(lambda x: rmse(y, x), axis=0, arr=oof_preds)\n",
    "print 'score:', hmean(cv_scores), np.std(cv_scores)"
   ]
  },
  {
   "cell_type": "code",
   "execution_count": 710,
   "metadata": {
    "collapsed": false
   },
   "outputs": [],
   "source": [
    "bld_preds_sub_hmean = hmean(bld_preds_sub, axis=1)\n",
    "bld_preds_sub_std = np.std(bld_preds_sub, axis=1)"
   ]
  },
  {
   "cell_type": "code",
   "execution_count": 711,
   "metadata": {
    "collapsed": false
   },
   "outputs": [
    {
     "name": "stdout",
     "output_type": "stream",
     "text": [
      "submission\n",
      "std (max): 0.0254741396425\n"
     ]
    }
   ],
   "source": [
    "print 'submission'\n",
    "print 'std (max):', np.max(bld_preds_sub_std)"
   ]
  },
  {
   "cell_type": "code",
   "execution_count": 712,
   "metadata": {
    "collapsed": true
   },
   "outputs": [],
   "source": [
    "oof_preds_hmean = hmean(oof_preds, axis=1)\n",
    "oof_preds_std = np.std(oof_preds, axis=1)"
   ]
  },
  {
   "cell_type": "code",
   "execution_count": 714,
   "metadata": {
    "collapsed": false
   },
   "outputs": [
    {
     "data": {
      "text/plain": [
       "0.19015253709481195"
      ]
     },
     "execution_count": 714,
     "metadata": {},
     "output_type": "execute_result"
    }
   ],
   "source": [
    "np.max(oof_preds_std)"
   ]
  },
  {
   "cell_type": "code",
   "execution_count": 685,
   "metadata": {
    "collapsed": true
   },
   "outputs": [],
   "source": [
    "#0.118766769276"
   ]
  },
  {
   "cell_type": "code",
   "execution_count": 715,
   "metadata": {
    "collapsed": false
   },
   "outputs": [
    {
     "name": "stdout",
     "output_type": "stream",
     "text": [
      "rmse: 0.118766769276\n"
     ]
    }
   ],
   "source": [
    "print 'rmse:', rmse(y, oof_preds_hmean)"
   ]
  },
  {
   "cell_type": "code",
   "execution_count": 719,
   "metadata": {
    "collapsed": false
   },
   "outputs": [
    {
     "name": "stdout",
     "output_type": "stream",
     "text": [
      "-1.14187386892\n",
      "524\n"
     ]
    }
   ],
   "source": [
    "max_error_index = np.argmax(np.abs(y - oof_preds_hmean))\n",
    "print (y - oof_preds_hmean)[max_error_index]\n",
    "print X['Id'][max_error_index]"
   ]
  },
  {
   "cell_type": "code",
   "execution_count": 718,
   "metadata": {
    "collapsed": false
   },
   "outputs": [
    {
     "data": {
      "image/png": "[encoded data removed]",
      "text/plain": [
       "<matplotlib.figure.Figure at 0x11374b3d0>"
      ]
     },
     "metadata": {},
     "output_type": "display_data"
    }
   ],
   "source": [
    "plt.scatter(x=oof_preds_hmean, y=y);"
   ]
  },
  {
   "cell_type": "code",
   "execution_count": 729,
   "metadata": {
    "collapsed": false
   },
   "outputs": [],
   "source": [
    "pd.DataFrame({'Id': ids_submission, 'SalePrice': np.exp(bld_preds_sub_hmean)})\\\n",
    "  .to_csv('../ensemble/models/bld_gbm_sub.csv', index=False)"
   ]
  },
  {
   "cell_type": "code",
   "execution_count": 727,
   "metadata": {
    "collapsed": true
   },
   "outputs": [],
   "source": [
    "model_output = {'train': list(oof_preds_hmean), 'test': list(bld_preds_sub_hmean)}"
   ]
  },
  {
   "cell_type": "code",
   "execution_count": 728,
   "metadata": {
    "collapsed": false
   },
   "outputs": [],
   "source": [
    "import json\n",
    "with open('../ensemble/models/bld_gbm.json', 'w') as outfile:\n",
    "    json.dump(model_output, outfile)"
   ]
  }
 ],
 "metadata": {
  "anaconda-cloud": {},
  "kernelspec": {
   "display_name": "Python [Root]",
   "language": "python",
   "name": "Python [Root]"
  },
  "language_info": {
   "codemirror_mode": {
    "name": "ipython",
    "version": 2
   },
   "file_extension": ".py",
   "mimetype": "text/x-python",
   "name": "python",
   "nbconvert_exporter": "python",
   "pygments_lexer": "ipython2",
   "version": "2.7.12"
  }
 },
 "nbformat": 4,
 "nbformat_minor": 0
}
