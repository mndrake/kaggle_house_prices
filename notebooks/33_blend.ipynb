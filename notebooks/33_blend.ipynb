{
 "cells": [
  {
   "cell_type": "code",
   "execution_count": 65,
   "metadata": {
    "collapsed": false
   },
   "outputs": [],
   "source": [
    "%matplotlib inline\n",
    "import pandas as pd\n",
    "import numpy as np\n",
    "import xgboost as xgb\n",
    "from random import Random\n",
    "from xgboost import XGBRegressor\n",
    "from sklearn.linear_model import ElasticNet, Lasso\n",
    "from sklearn.ensemble import GradientBoostingRegressor, RandomForestRegressor, ExtraTreesRegressor\n",
    "from sklearn.model_selection import KFold, RandomizedSearchCV, GridSearchCV, cross_val_predict\n",
    "from sklearn.metrics import make_scorer, mean_squared_error\n",
    "from sklearn.pipeline import make_pipeline, BaseEstimator, TransformerMixin\n",
    "from sklearn.preprocessing import Imputer, KernelCenterer, StandardScaler\n",
    "from scipy.stats import hmean, skew, boxcox\n",
    "from scipy.optimize import fmin_cobyla"
   ]
  },
  {
   "cell_type": "code",
   "execution_count": 3,
   "metadata": {
    "collapsed": true
   },
   "outputs": [],
   "source": [
    "def rmse(y_true, y_pred):\n",
    "    return np.sqrt(mean_squared_error(y_true, y_pred))"
   ]
  },
  {
   "cell_type": "code",
   "execution_count": 39,
   "metadata": {
    "collapsed": true
   },
   "outputs": [],
   "source": [
    "train = pd.read_csv('../input/train.csv')\n",
    "test = pd.read_csv('../input/test.csv')\n",
    "\n",
    "train[\"MSSubClass\"] = train[\"MSSubClass\"].astype('object')"
   ]
  },
  {
   "cell_type": "code",
   "execution_count": 71,
   "metadata": {
    "collapsed": false
   },
   "outputs": [],
   "source": [
    "class CategoricalFeatures(BaseEstimator, TransformerMixin):\n",
    "    def fit(self, X, y=None):\n",
    "        return self\n",
    "    def transform(self, X, y=None):\n",
    "        X = X.copy()\n",
    "        \n",
    "        X = X[['1stFlrSF', '2ndFlrSF', '3SsnPorch', 'Alley', 'BedroomAbvGr', 'BldgType', 'BsmtCond',\n",
    "               'BsmtExposure', 'BsmtFinSF1', 'BsmtFinSF2', 'BsmtFinType1', 'BsmtFinType2', 'BsmtFullBath',\n",
    "               'BsmtHalfBath', 'BsmtQual', 'BsmtUnfSF', 'CentralAir', 'Condition1', 'Condition2',\n",
    "               'Electrical', 'EnclosedPorch', 'ExterCond', 'ExterQual', 'Exterior1st', 'Exterior2nd',\n",
    "               'Fence', 'FireplaceQu', 'Fireplaces', 'Foundation', 'FullBath', 'Functional',\n",
    "               'GarageArea', 'GarageCars', 'GarageCond', 'GarageFinish', 'GarageQual', 'GarageType',\n",
    "               'GarageYrBlt', 'GrLivArea', 'HalfBath', 'Heating', 'HeatingQC', 'HouseStyle',\n",
    "               'KitchenAbvGr', 'KitchenQual', 'LandContour', 'LandSlope', 'LotArea', 'LotConfig',\n",
    "               'LotFrontage', 'LotShape', 'LowQualFinSF', 'MSSubClass', 'MSZoning', 'MasVnrArea',\n",
    "               'MasVnrType', 'MiscFeature', 'MiscVal', 'MoSold', 'Neighborhood', 'OpenPorchSF',\n",
    "               'OverallCond', 'OverallQual', 'PavedDrive', 'PoolArea', 'PoolQC', 'RoofMatl',\n",
    "               'RoofStyle', 'SaleCondition', 'SaleType', 'ScreenPorch', 'Street', 'TotRmsAbvGrd',\n",
    "               'TotalBsmtSF', 'Utilities', 'WoodDeckSF', 'YearBuilt', 'YearRemodAdd', 'YrSold']]\n",
    "        \n",
    "        # MSSubClass is a categorical and need to cast to object\n",
    "        X[\"MSSubClass\"] = X[\"MSSubClass\"].astype('object')\n",
    "        \n",
    "        categorical = {\n",
    "            \"ordered\": {\n",
    "                \"Alley\": [\"Grvl\", \"Pave\"],\n",
    "                \"BsmtCond\": [\"Po\", \"Fa\", \"TA\", \"Gd\"],\n",
    "                \"BsmtExposure\": [\"No\", \"Mn\", \"Av\", \"Gd\"],\n",
    "                \"BsmtFinType1\": [\"Unf\", \"LwQ\", \"Rec\", \"BLQ\", \"ALQ\", \"GLQ\"],\n",
    "                \"BsmtFinType2\": [\"Unf\", \"LwQ\", \"Rec\", \"BLQ\", \"ALQ\", \"GLQ\"],\n",
    "                \"BsmtQual\": [\"Fa\", \"TA\", \"Gd\", \"Ex\"],\n",
    "                \"CentralAir\": [\"N\", \"Y\"],\n",
    "                \"Electrical\": [\"FuseP\", \"FuseF\", \"FuseA\", \"Mix\", \"SBrkr\"],\n",
    "                \"ExterCond\": [\"Po\", \"Fa\", \"TA\", \"Gd\", \"Ex\"],\n",
    "                \"ExterQual\": [\"Fa\", \"TA\", \"Gd\", \"Ex\"],\n",
    "                \"Fence\": [\"MnWw\", \"GdWo\", \"MnPrv\", \"GdPrv\"],\n",
    "                \"FireplaceQu\": [\"Po\", \"Fa\", \"TA\", \"Gd\", \"Ex\"],\n",
    "                'Functional': ['Sev', 'Maj2', 'Maj1', 'Mod', 'Min2', 'Min1', 'Typ'],\n",
    "                \"GarageCond\": [\"Po\", \"Fa\", \"TA\", \"Gd\", \"Ex\"],\n",
    "                \"GarageFinish\": [\"Unf\", \"RFn\", \"Fin\"],\n",
    "                \"GarageQual\": [\"Po\", \"Fa\", \"TA\", \"Gd\", \"Ex\"],\n",
    "                \"HeatingQC\": [\"Po\", \"Fa\", \"TA\", \"Gd\", \"Ex\"],\n",
    "                \"KitchenQual\": [\"Fa\", \"TA\", \"Gd\", \"Ex\"],\n",
    "                \"LandSlope\": [\"Sev\", \"Mod\", \"Gtl\"],\n",
    "                \"LotShape\": [\"IR3\", \"IR2\", \"IR1\", \"Reg\"],\n",
    "                \"PavedDrive\": [\"N\", \"P\", \"Y\"],\n",
    "                \"PoolQC\": [\"Fa\", \"Gd\", \"Ex\"],\n",
    "                \"Street\": [\"Grvl\", \"Pave\"],   \n",
    "                \"Utilities\": [\"NoSeWa\", \"AllPub\"]},\n",
    "            \"unordered\": {\n",
    "                \"BldgType\": [\"1Fam\", \"2fmCon\", \"Duplex\", \"TwnhsE\", \"Twnhs\"],\n",
    "                \"Exterior1st\": [\"VinylSd\", \"MetalSd\", \"Wd Sdng\", \"HdBoard\", \"BrkFace\", \"WdShing\", \"CemntBd\", \"Plywood\", \"AsbShng\", \"Stucco\", \"BrkComm\", \"AsphShn\", \"Stone\", \"ImStucc\", \"CBlock\"],\n",
    "                \"Exterior2nd\": [\"VinylSd\", \"MetalSd\", \"Wd Shng\", \"HdBoard\", \"Plywood\", \"Wd Sdng\", \"CmentBd\", \"BrkFace\", \"Stucco\", \"AsbShng\", \"Brk Cmn\", \"ImStucc\", \"AsphShn\", \"Stone\", \"Other\", \"CBlock\"],\n",
    "                \"Condition1\": [\"Norm\", \"Feedr\", \"PosN\", \"Artery\", \"RRAe\", \"RRNn\", \"RRAn\", \"PosA\", \"RRNe\"],\n",
    "                \"Condition2\": [\"Norm\", \"Artery\", \"RRNn\", \"Feedr\", \"PosN\", \"PosA\", \"RRAn\", \"RRAe\"],\n",
    "                \"Foundation\": [\"PConc\", \"CBlock\", \"BrkTil\", \"Wood\", \"Slab\", \"Stone\"],\n",
    "                \"GarageType\": [\"Attchd\", \"Detchd\", \"BuiltIn\", \"CarPort\", \"Basment\", \"2Types\"],\n",
    "                \"Heating\": [\"GasA\", \"GasW\", \"Grav\", \"Wall\", \"OthW\", \"Floor\"],\n",
    "                \"HouseStyle\": [\"2Story\", \"1Story\", \"1.5Fin\", \"1.5Unf\", \"SFoyer\", \"SLvl\", \"2.5Unf\", \"2.5Fin\"],\n",
    "                \"LandContour\": [\"Lvl\", \"Bnk\", \"Low\", \"HLS\"],\n",
    "                \"LotConfig\": [\"Inside\", \"FR2\", \"Corner\", \"CulDSac\", \"FR3\"],\n",
    "                \"MasVnrType\": [\"BrkFace\", \"None\", \"Stone\", \"BrkCmn\"],\n",
    "                \"MSSubClass\": [20, 30, 40, 45, 50, 60, 70, 75, 80, 85, 90, 120, 150, 160, 180, 190],\n",
    "                \"MSZoning\": [\"RL\", \"RM\", \"C (all)\", \"FV\", \"RH\"],\n",
    "                \"Neighborhood\": [\"CollgCr\", \"Veenker\", \"Crawfor\", \"NoRidge\", \"Mitchel\", \"Somerst\", \"NWAmes\", \"OldTown\", \"BrkSide\", \"Sawyer\", \"NridgHt\", \"NAmes\", \"SawyerW\", \"IDOTRR\", \"MeadowV\", \"Edwards\", \"Timber\", \"Gilbert\", \"StoneBr\", \"ClearCr\", \"NPkVill\", \"Blmngtn\", \"BrDale\", \"SWISU\", \"Blueste\"],\n",
    "                \"MiscFeature\": [\"Shed\", \"Gar2\", \"Othr\", \"TenC\"],\n",
    "                \"RoofMatl\": [\"CompShg\", \"WdShngl\", \"Metal\", \"WdShake\", \"Membran\", \"Tar&Grv\", \"Roll\", \"ClyTile\"],\n",
    "                \"RoofStyle\": [\"Gable\", \"Hip\", \"Gambrel\", \"Mansard\", \"Flat\", \"Shed\"],\n",
    "                \"SaleCondition\": [\"Normal\", \"Abnorml\", \"Partial\", \"AdjLand\", \"Alloca\", \"Family\"],\n",
    "                \"SaleType\": [\"WD\", \"New\", \"COD\", \"ConLD\", \"ConLI\", \"CWD\", \"ConLw\", \"Con\", \"Oth\"]}}\n",
    "        \n",
    "        for c in X.columns:\n",
    "            if c in categorical[\"ordered\"]:\n",
    "                X[c] = X[c].astype(\"category\", categories=categorical[\"ordered\"][c], ordered=True)\n",
    "            elif c in categorical[\"unordered\"]:\n",
    "                X[c] = X[c].astype(\"category\", categories=categorical[\"unordered\"][c])\n",
    "                \n",
    "        return X"
   ]
  },
  {
   "cell_type": "code",
   "execution_count": 70,
   "metadata": {
    "collapsed": true
   },
   "outputs": [],
   "source": [
    "class TreeFeatures(BaseEstimator, TransformerMixin):\n",
    "    def fit(self, X, y=None):\n",
    "        return self\n",
    "    def transform(self, X, y=None):\n",
    "        X = X.copy()\n",
    "        X[\"HasFireplace\"] = 1 - X[\"FireplaceQu\"].isnull() * 1\n",
    "        X[\"AttchdGarage\"] = (X['GarageType'] == \"Attchd\") * 1\n",
    "                \n",
    "        for c in X.columns:\n",
    "            if X[c].dtype.name == 'category':\n",
    "                if X[c].cat.ordered:\n",
    "                    X[c] = X[c].cat.codes\n",
    "                    \n",
    "        return pd.get_dummies(X)"
   ]
  },
  {
   "cell_type": "code",
   "execution_count": 75,
   "metadata": {
    "collapsed": false
   },
   "outputs": [],
   "source": [
    "class LinearFeatures(BaseEstimator, TransformerMixin):\n",
    "    def fit(self, X, y=None):\n",
    "        return self\n",
    "    def transform(self, X, y=None):\n",
    "        X = X.copy()\n",
    "        X[\"HasFireplace\"] = 1 - X[\"FireplaceQu\"].isnull() * 1\n",
    "        X[\"AttchdGarage\"] = (X['GarageType'] == \"Attchd\") * 1\n",
    "        \n",
    "        for c in X.columns:\n",
    "            if X[c].dtype.name == 'category':\n",
    "                if X[c].cat.ordered:\n",
    "                    X[c] = X[c].cat.codes\n",
    "                    \n",
    "        # skewed columns\n",
    "        for c in ['LotFrontage', 'LotArea', 'MasVnrArea', 'BsmtFinSF2', '1stFlrSF', \n",
    "                  'GrLivArea', 'KitchenAbvGr', 'OpenPorchSF', 'PoolArea', 'MiscVal']:\n",
    "            X[c] = np.log1p(X[c])\n",
    "                                            \n",
    "        return pd.get_dummies(X, drop_first=True)"
   ]
  },
  {
   "cell_type": "code",
   "execution_count": 126,
   "metadata": {
    "collapsed": true
   },
   "outputs": [],
   "source": [
    "model_bagged_lasso = make_pipeline(CategoricalFeatures(),\n",
    "                                   LinearFeatures(),\n",
    "                                   Imputer(),\n",
    "                                   StandardScaler(),\n",
    "                                   Lasso())\n",
    "\n",
    "params = {'lasso__alpha': [0.002, 0.004, 0.006]}\n",
    "\n",
    "grid = GridSearchCV(model_bagged_lasso, params, scoring=\"neg_mean_squared_error\", cv=5)"
   ]
  },
  {
   "cell_type": "code",
   "execution_count": 127,
   "metadata": {
    "collapsed": false
   },
   "outputs": [
    {
     "name": "stdout",
     "output_type": "stream",
     "text": [
      "RMSE: 0.129986652351\n",
      "params: {'lasso__alpha': 0.004}\n"
     ]
    }
   ],
   "source": [
    "grid.fit(train, np.log(train.SalePrice))\n",
    "print \"RMSE: {}\".format(np.sqrt(-grid.best_score_))\n",
    "print \"params: {}\".format(grid.best_params_)"
   ]
  },
  {
   "cell_type": "code",
   "execution_count": 17,
   "metadata": {
    "collapsed": false
   },
   "outputs": [],
   "source": [
    "model_xgb = make_pipeline(ProcessTreeData(),\n",
    "                      Imputer(strategy='most_frequent'),\n",
    "                      XGBRegressor(silent = True, \n",
    "                                   objective='reg:linear', \n",
    "                                   seed=1773,\n",
    "                                   max_depth=5,\n",
    "                                   nthread=8,\n",
    "                                   learning_rate=0.05,\n",
    "                                   n_estimators=500,\n",
    "                                   min_child_weight=1,\n",
    "                                   subsample=0.65,\n",
    "                                   colsample_bytree=0.65))\n",
    "\n",
    "model_gbm = make_pipeline(ProcessTreeData(),\n",
    "                      Imputer(strategy='most_frequent'),\n",
    "                      GradientBoostingRegressor(random_state=1773, \n",
    "                                                learning_rate=0.1,\n",
    "                                                max_depth=4, \n",
    "                                                max_features=0.7, \n",
    "                                                min_samples_leaf=2,\n",
    "                                                n_estimators=250,\n",
    "                                                subsample=0.75\n",
    "                                               ))\n",
    "\n",
    "model_gbm = make_pipeline(ProcessTreeData(),\n",
    "                      Imputer(strategy='most_frequent'),\n",
    "                      GradientBoostingRegressor(random_state=1773,\n",
    "                                                learning_rate=0.1,\n",
    "                                                max_depth=4,\n",
    "                                                max_features=0.7,\n",
    "                                                min_samples_leaf=1,\n",
    "                                                n_estimators=250,\n",
    "                                                subsample=0.75))\n",
    "\n",
    "model_et = make_pipeline(ProcessTreeData(),\n",
    "                      Imputer(strategy='most_frequent'),\n",
    "                      ExtraTreesRegressor(n_estimators=250,\n",
    "                                          max_depth=14, \n",
    "                                          n_jobs=8,\n",
    "                                          random_state=1773, \n",
    "                                          max_features=0.7\n",
    "                                         ))\n",
    "\n",
    "model_en = make_pipeline(ProcessLinearData(),\n",
    "                         Imputer(strategy='most_frequent'),\n",
    "                         StandardScaler(),\n",
    "                         ElasticNet(l1_ratio=0.4, alpha=0.0009))"
   ]
  },
  {
   "cell_type": "code",
   "execution_count": 18,
   "metadata": {
    "collapsed": false
   },
   "outputs": [
    {
     "name": "stdout",
     "output_type": "stream",
     "text": [
      "rmse - en  5:  0.133634724721\n",
      "rmse - en 10:  0.133665158334\n"
     ]
    }
   ],
   "source": [
    "results_en_01 = get_oof_preds(model_en, X, y, X_submission, n_folds=5, n_iter=3, seed=1337)\n",
    "results_en_02 = get_oof_preds(model_en, X, y, X_submission, n_folds=10, n_iter=3, seed=1337)\n",
    "print 'rmse - en  5: ', rmse(y, results_en_01[0])\n",
    "print 'rmse - en 10: ', rmse(y, results_en_02[0])"
   ]
  },
  {
   "cell_type": "code",
   "execution_count": 19,
   "metadata": {
    "collapsed": false
   },
   "outputs": [
    {
     "name": "stdout",
     "output_type": "stream",
     "text": [
      "rmse - xgb  5:  0.120093131042\n",
      "rmse - xgb 10:  0.120525114003\n"
     ]
    }
   ],
   "source": [
    "results_xgb_01 = get_oof_preds(model_xgb, X, y, X_submission, n_folds=5, n_iter=3, seed=1337)\n",
    "results_xgb_02 = get_oof_preds(model_xgb, X, y, X_submission, n_folds=10, n_iter=3, seed=1337)\n",
    "print 'rmse - xgb  5: ', rmse(y, results_xgb_01[0])\n",
    "print 'rmse - xgb 10: ', rmse(y, results_xgb_02[0])"
   ]
  },
  {
   "cell_type": "code",
   "execution_count": 20,
   "metadata": {
    "collapsed": false
   },
   "outputs": [
    {
     "name": "stdout",
     "output_type": "stream",
     "text": [
      "rmse - et   5:  0.136789995158\n",
      "rmse - et  10:  0.136847957427\n"
     ]
    }
   ],
   "source": [
    "results_et_01 = get_oof_preds(model_et, X, y, X_submission, n_folds=5, n_iter=3, seed=1337)\n",
    "results_et_02 = get_oof_preds(model_et, X, y, X_submission, n_folds=10, n_iter=3, seed=1337)\n",
    "print 'rmse - et   5: ', rmse(y, results_et_01[0])\n",
    "print 'rmse - et  10: ', rmse(y, results_et_02[0])"
   ]
  },
  {
   "cell_type": "code",
   "execution_count": 21,
   "metadata": {
    "collapsed": false
   },
   "outputs": [
    {
     "name": "stdout",
     "output_type": "stream",
     "text": [
      "rmse - gbm  5:  0.121050217984\n",
      "rmse - gbm 10:  0.12098865258\n"
     ]
    }
   ],
   "source": [
    "results_gbm_01 = get_oof_preds(model_gbm, X, y, X_submission, n_folds=5, n_iter=3, seed=1337)\n",
    "results_gbm_02 = get_oof_preds(model_gbm, X, y, X_submission, n_folds=10, n_iter=3, seed=1337)\n",
    "print 'rmse - gbm  5: ', rmse(y, results_gbm_01[0])\n",
    "print 'rmse - gbm 10: ', rmse(y, results_gbm_02[0])"
   ]
  },
  {
   "cell_type": "markdown",
   "metadata": {},
   "source": [
    "## blend results"
   ]
  },
  {
   "cell_type": "code",
   "execution_count": 23,
   "metadata": {
    "collapsed": false
   },
   "outputs": [],
   "source": [
    "def blend_results(model_results, y, scorer):\n",
    "    results_train = [x[0] for x in model_results]\n",
    "    results_test = [x[1] for x in model_results]    \n",
    "    \n",
    "    def blended(p, x):\n",
    "        \"\"\"blend model results using weights(p)\"\"\"\n",
    "        result = None\n",
    "        for i in range(len(p)):\n",
    "            result = result + p[i] * x[i] if result is not None else p[i] * x[i]\n",
    "        result /= sum(p)\n",
    "        return result\n",
    "    \n",
    "    def constraint(p, *args):\n",
    "        \"\"\"constrain to positive weights\"\"\"\n",
    "        return min(p) - .0\n",
    "    \n",
    "    def error(p, x, y):\n",
    "        \"\"\"error function to optimize\"\"\"\n",
    "        preds = blended(p, x)\n",
    "        err = scorer(y, preds)\n",
    "        return err\n",
    "    \n",
    "    # initial weights\n",
    "    p0 = np.array([1.] * len(model_results)) / len(model_results)\n",
    "    \n",
    "    p = fmin_cobyla(error, p0, args=(results_train, y), cons=[constraint], rhoend=1e-5)\n",
    "    print 'weights:', np.array(p) / sum(p)\n",
    "    \n",
    "    return blended(p, results_train), blended(p, results_test)"
   ]
  },
  {
   "cell_type": "code",
   "execution_count": 24,
   "metadata": {
    "collapsed": false
   },
   "outputs": [
    {
     "name": "stdout",
     "output_type": "stream",
     "text": [
      "weights: [ 0.30410503  0.06390163  0.13652156  0.24959252  0.0089372   0.23694207]\n"
     ]
    }
   ],
   "source": [
    "results_all = [results_xgb_01, results_xgb_02, \n",
    "               results_gbm_01, results_gbm_02,\n",
    "               results_et_02, results_en_02\n",
    "              ]\n",
    "results_blended = blend_results(results_all, y, rmse)"
   ]
  },
  {
   "cell_type": "code",
   "execution_count": null,
   "metadata": {
    "collapsed": true
   },
   "outputs": [],
   "source": [
    "# 0.121962634859\n",
    "# 0.12366116241\n",
    "# 0.126804423909\n",
    "# 0.124402174902\n",
    "# 0.137316252924\n",
    "# 0.119642192352"
   ]
  },
  {
   "cell_type": "code",
   "execution_count": 25,
   "metadata": {
    "collapsed": false
   },
   "outputs": [
    {
     "name": "stdout",
     "output_type": "stream",
     "text": [
      "0.120093131042\n",
      "0.120525114003\n",
      "0.121050217984\n",
      "0.12098865258\n",
      "0.136847957427\n",
      "0.133665158334\n",
      "0.11703525582\n"
     ]
    }
   ],
   "source": [
    "for x in results_all:\n",
    "    print rmse(y, x[0])\n",
    "print rmse(y, results_blended[0])"
   ]
  },
  {
   "cell_type": "code",
   "execution_count": 26,
   "metadata": {
    "collapsed": false
   },
   "outputs": [
    {
     "data": {
      "text/plain": [
       "1.1402416018561308"
      ]
     },
     "execution_count": 26,
     "metadata": {},
     "output_type": "execute_result"
    }
   ],
   "source": [
    "np.max(np.abs(y - results_blended[0]))"
   ]
  },
  {
   "cell_type": "code",
   "execution_count": 487,
   "metadata": {
    "collapsed": true
   },
   "outputs": [],
   "source": [
    "pd.DataFrame({'Id': ids_submission, 'SalePrice': np.exp(results_blended[1])}).to_csv('../ensemble/models/blended_sub.csv', index=False)"
   ]
  },
  {
   "cell_type": "code",
   "execution_count": null,
   "metadata": {
    "collapsed": true
   },
   "outputs": [],
   "source": []
  }
 ],
 "metadata": {
  "anaconda-cloud": {},
  "kernelspec": {
   "display_name": "Python [Root]",
   "language": "python",
   "name": "Python [Root]"
  },
  "language_info": {
   "codemirror_mode": {
    "name": "ipython",
    "version": 2
   },
   "file_extension": ".py",
   "mimetype": "text/x-python",
   "name": "python",
   "nbconvert_exporter": "python",
   "pygments_lexer": "ipython2",
   "version": "2.7.11"
  }
 },
 "nbformat": 4,
 "nbformat_minor": 0
}
