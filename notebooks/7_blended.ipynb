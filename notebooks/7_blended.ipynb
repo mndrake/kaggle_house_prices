{
 "cells": [
  {
   "cell_type": "markdown",
   "metadata": {},
   "source": [
    "What about calculating price per acre?"
   ]
  },
  {
   "cell_type": "code",
   "execution_count": 2,
   "metadata": {
    "collapsed": false
   },
   "outputs": [],
   "source": [
    "import numpy as np\n",
    "from sklearn.ensemble import RandomForestRegressor, ExtraTreesRegressor, GradientBoostingRegressor\n",
    "from xgboost import XGBRegressor\n",
    "from sklearn.model_selection import KFold\n",
    "from sklearn.metrics import make_scorer\n",
    "from kaggle.data import load_data, save_submission\n",
    "from kaggle.metrics import rmse\n",
    "from kaggle.blender import train_regressors, blend_predictions"
   ]
  },
  {
   "cell_type": "code",
   "execution_count": 3,
   "metadata": {
    "collapsed": true
   },
   "outputs": [],
   "source": [
    "y, X, X_submission, ids_submission = load_data()\n",
    "y = np.log(y)"
   ]
  },
  {
   "cell_type": "code",
   "execution_count": 46,
   "metadata": {
    "collapsed": true
   },
   "outputs": [],
   "source": [
    "regressors1 = [RandomForestRegressor(n_estimators=100, random_state=1773),\n",
    "               ExtraTreesRegressor(n_estimators=100, random_state=1773),\n",
    "               GradientBoostingRegressor(n_estimators=50, random_state=1773)]"
   ]
  },
  {
   "cell_type": "code",
   "execution_count": 47,
   "metadata": {
    "collapsed": true
   },
   "outputs": [],
   "source": [
    "regressors2 = [RandomForestRegressor(n_estimators=100, random_state=1773),\n",
    "               ExtraTreesRegressor(n_estimators=100, random_state=1773),\n",
    "               GradientBoostingRegressor(n_estimators=50, max_depth=5, min_samples_leaf=4, random_state=1773)]"
   ]
  },
  {
   "cell_type": "code",
   "execution_count": 35,
   "metadata": {
    "collapsed": false
   },
   "outputs": [],
   "source": [
    "kf = KFold(n_splits=10, random_state=1773)"
   ]
  },
  {
   "cell_type": "code",
   "execution_count": 36,
   "metadata": {
    "collapsed": false
   },
   "outputs": [],
   "source": [
    "oof_train, oof_test = train_regressors(X, X_submission, y, kf, regressors1)"
   ]
  },
  {
   "cell_type": "code",
   "execution_count": 43,
   "metadata": {
    "collapsed": false
   },
   "outputs": [
    {
     "name": "stdout",
     "output_type": "stream",
     "text": [
      "0.143096331205\n",
      "0.139874686479\n",
      "0.130707662451\n"
     ]
    }
   ],
   "source": [
    "for i in range(len(regressors)):\n",
    "    print rmse(y, oof_train[:, i])"
   ]
  },
  {
   "cell_type": "code",
   "execution_count": 44,
   "metadata": {
    "collapsed": false
   },
   "outputs": [
    {
     "name": "stdout",
     "output_type": "stream",
     "text": [
      "weights: [ -3.26746911e-22   2.79789412e-01   7.20210588e-01]\n"
     ]
    }
   ],
   "source": [
    "blend_train, blend_test = blend_predictions(oof_train, oof_test, y, kf, rmse)"
   ]
  },
  {
   "cell_type": "code",
   "execution_count": 40,
   "metadata": {
    "collapsed": false
   },
   "outputs": [
    {
     "data": {
      "text/plain": [
       "0.12901007964319375"
      ]
     },
     "execution_count": 40,
     "metadata": {},
     "output_type": "execute_result"
    }
   ],
   "source": [
    "rmse(blend_train, y)"
   ]
  },
  {
   "cell_type": "code",
   "execution_count": 41,
   "metadata": {
    "collapsed": false
   },
   "outputs": [],
   "source": [
    "X_stacked = np.hstack((X, oof_train))\n",
    "X_submission_stacked = np.hstack((X_submission, oof_test))"
   ]
  },
  {
   "cell_type": "code",
   "execution_count": 42,
   "metadata": {
    "collapsed": true
   },
   "outputs": [],
   "source": [
    "oof_train_stacked, oof_test_stacked = train_regressors(X_stacked, X_submission_stacked, y, kf, regressors2)"
   ]
  },
  {
   "cell_type": "code",
   "execution_count": 45,
   "metadata": {
    "collapsed": false
   },
   "outputs": [
    {
     "name": "stdout",
     "output_type": "stream",
     "text": [
      "0.135923934153\n",
      "0.13580233321\n",
      "0.136930393086\n"
     ]
    }
   ],
   "source": [
    "for i in range(len(regressors)):\n",
    "    print rmse(y, oof_train_stacked[:, i])"
   ]
  },
  {
   "cell_type": "code",
   "execution_count": 31,
   "metadata": {
    "collapsed": false
   },
   "outputs": [
    {
     "name": "stdout",
     "output_type": "stream",
     "text": [
      "weights: [ 0.07947667  0.30497199  0.61555134]\n"
     ]
    }
   ],
   "source": [
    "blend_train_stacked, blend_test_stacked = blend_predictions(oof_train_stacked, oof_test_stacked, y, kf, rmse)"
   ]
  },
  {
   "cell_type": "code",
   "execution_count": 32,
   "metadata": {
    "collapsed": false
   },
   "outputs": [
    {
     "data": {
      "text/plain": [
       "0.13278533210050902"
      ]
     },
     "execution_count": 32,
     "metadata": {},
     "output_type": "execute_result"
    }
   ],
   "source": [
    "rmse(blend_train_stacked, y)"
   ]
  },
  {
   "cell_type": "code",
   "execution_count": null,
   "metadata": {
    "collapsed": false
   },
   "outputs": [],
   "source": [
    "y_pred = model.predict(X_submission)\n",
    "save_submission(ids_submission, y_pred, '0_random_search_shifted_xgboost')"
   ]
  },
  {
   "cell_type": "code",
   "execution_count": null,
   "metadata": {
    "collapsed": true
   },
   "outputs": [],
   "source": []
  }
 ],
 "metadata": {
  "kernelspec": {
   "display_name": "Python [Root]",
   "language": "python",
   "name": "Python [Root]"
  },
  "language_info": {
   "codemirror_mode": {
    "name": "ipython",
    "version": 2
   },
   "file_extension": ".py",
   "mimetype": "text/x-python",
   "name": "python",
   "nbconvert_exporter": "python",
   "pygments_lexer": "ipython2",
   "version": "2.7.12"
  }
 },
 "nbformat": 4,
 "nbformat_minor": 0
}
