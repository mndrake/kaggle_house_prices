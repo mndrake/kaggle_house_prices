{
 "cells": [
  {
   "cell_type": "markdown",
   "metadata": {},
   "source": [
    "Can we be more effective than a full grid search?\n",
    "\n",
    "We were scoring across 140 different models before, what happens if we\n",
    "try to randomly select a sample to score. In practice 60 is normally enought to be\n",
    "reasonable close to the global optimal.\n",
    "\n",
    "We should get close to the full grid search result in less than half the time."
   ]
  },
  {
   "cell_type": "code",
   "execution_count": 1,
   "metadata": {
    "collapsed": true
   },
   "outputs": [],
   "source": [
    "import numpy as np\n",
    "from sklearn.ensemble import RandomForestRegressor\n",
    "from sklearn.model_selection import KFold, RandomizedSearchCV\n",
    "from sklearn.metrics import make_scorer\n",
    "from kaggle.data import load_data, save_submission\n",
    "from kaggle.metrics import rmse"
   ]
  },
  {
   "cell_type": "code",
   "execution_count": 2,
   "metadata": {
    "collapsed": true
   },
   "outputs": [],
   "source": [
    "y, X, X_submission, ids_submission = load_data()\n",
    "y = np.log(y)"
   ]
  },
  {
   "cell_type": "code",
   "execution_count": 7,
   "metadata": {
    "collapsed": true
   },
   "outputs": [],
   "source": [
    "parameters = {'n_estimators': [50],\n",
    "              'max_features': [0.2, 0.3, 0.4, 0.5, 0.6, 0.7, 0.8],\n",
    "              'max_depth': [7, 9, 11, 13, 15],\n",
    "              'min_samples_leaf': [1, 2, 3, 4]}\n",
    "\n",
    "model = RandomizedSearchCV(RandomForestRegressor(random_state=1773, n_jobs=4),\n",
    "                           parameters, \n",
    "                           n_iter=60, \n",
    "                           random_state=1773,\n",
    "                           scoring=make_scorer(rmse, greater_is_better=False), \n",
    "                           cv=KFold(5, random_state=1773))"
   ]
  },
  {
   "cell_type": "code",
   "execution_count": 8,
   "metadata": {
    "collapsed": false
   },
   "outputs": [
    {
     "name": "stdout",
     "output_type": "stream",
     "text": [
      "CPU times: user 2min 21s, sys: 9.14 s, total: 2min 30s\n",
      "Wall time: 2min 23s\n"
     ]
    },
    {
     "data": {
      "text/plain": [
       "RandomizedSearchCV(cv=KFold(n_splits=5, random_state=1773, shuffle=False),\n",
       "          error_score='raise',\n",
       "          estimator=RandomForestRegressor(bootstrap=True, criterion='mse', max_depth=None,\n",
       "           max_features='auto', max_leaf_nodes=None,\n",
       "           min_impurity_split=1e-07, min_samples_leaf=1,\n",
       "           min_samples_split=2, min_weight_fraction_leaf=0.0,\n",
       "           n_estimators=10, n_jobs=4, oob_score=False, random_state=1773,\n",
       "           verbose=0, warm_start=False),\n",
       "          fit_params={}, iid=True, n_iter=60, n_jobs=1,\n",
       "          param_distributions={'n_estimators': [50], 'max_features': [0.2, 0.3, 0.4, 0.5, 0.6, 0.7, 0.8], 'max_depth': [7, 9, 11, 13, 15], 'min_samples_leaf': [1, 2, 3, 4]},\n",
       "          pre_dispatch='2*n_jobs', random_state=1773, refit=True,\n",
       "          return_train_score=True,\n",
       "          scoring=make_scorer(rmse, greater_is_better=False), verbose=0)"
      ]
     },
     "execution_count": 8,
     "metadata": {},
     "output_type": "execute_result"
    }
   ],
   "source": [
    "%%time\n",
    "model.fit(X,y)"
   ]
  },
  {
   "cell_type": "code",
   "execution_count": 9,
   "metadata": {
    "collapsed": false
   },
   "outputs": [
    {
     "name": "stdout",
     "output_type": "stream",
     "text": [
      "best score: -0.139821446558\n",
      "best parameters: {'n_estimators': 50, 'max_features': 0.4, 'max_depth': 15, 'min_samples_leaf': 1}\n"
     ]
    }
   ],
   "source": [
    "print 'best score:', model.best_score_\n",
    "print 'best parameters:', model.best_params_"
   ]
  },
  {
   "cell_type": "code",
   "execution_count": 10,
   "metadata": {
    "collapsed": true
   },
   "outputs": [],
   "source": [
    "y_pred = model.predict(X_submission)\n",
    "save_submission(ids_submission, y_pred, '05_random_search_shifted_random_forest')"
   ]
  }
 ],
 "metadata": {
  "kernelspec": {
   "display_name": "Python [Root]",
   "language": "python",
   "name": "Python [Root]"
  },
  "language_info": {
   "codemirror_mode": {
    "name": "ipython",
    "version": 2
   },
   "file_extension": ".py",
   "mimetype": "text/x-python",
   "name": "python",
   "nbconvert_exporter": "python",
   "pygments_lexer": "ipython2",
   "version": "2.7.12"
  }
 },
 "nbformat": 4,
 "nbformat_minor": 0
}
