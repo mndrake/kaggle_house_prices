{
 "cells": [
  {
   "cell_type": "markdown",
   "metadata": {},
   "source": [
    "This is a bad way to start, but should make for easy improvement right?\n",
    "\n",
    "- do we have any idea how this model might perform before submitting? **no**\n",
    "- is this result repeatable? **no**\n",
    "- Can we make a better RF model? **maybe**\n",
    "\n",
    "*note:* to avoid repeated code across examples a module `kaggle` was created."
   ]
  },
  {
   "cell_type": "code",
   "execution_count": 1,
   "metadata": {
    "collapsed": true
   },
   "outputs": [],
   "source": [
    "import pandas as pd\n",
    "from sklearn.ensemble import RandomForestRegressor"
   ]
  },
  {
   "cell_type": "code",
   "execution_count": 2,
   "metadata": {
    "collapsed": false
   },
   "outputs": [],
   "source": [
    "def load_data():\n",
    "    train = pd.read_csv('../input/train.csv')\n",
    "    test = pd.read_csv('../input/test.csv')\n",
    "    combined = train.append(test, ignore_index=True)\n",
    "    combined = pd.get_dummies(combined)\n",
    "    combined = combined.fillna(combined.mean())\n",
    "    y = train['SalePrice'].values\n",
    "    X = combined.iloc[:train.shape[0],:]\n",
    "    X_submission = combined.iloc[train.shape[0]:,:]\n",
    "    ids_submission = test['Id'].values\n",
    "    return y, X, X_submission, ids_submission"
   ]
  },
  {
   "cell_type": "code",
   "execution_count": 3,
   "metadata": {
    "collapsed": false
   },
   "outputs": [],
   "source": [
    "# load data\n",
    "y, X, X_submission, ids_submission = load_data()\n",
    "\n",
    "# define model\n",
    "model = RandomForestRegressor()\n",
    "\n",
    "# train model\n",
    "model.fit(X, y)\n",
    "\n",
    "# create submission predictions\n",
    "preds_submission = model.predict(X_submission)\n",
    "\n",
    "# save submission\n",
    "pd.DataFrame({'Id': ids_submission, 'SalePrice': preds_submission})\\\n",
    "  .to_csv('../output/01_naive_random_forest.csv', index=False)"
   ]
  }
 ],
 "metadata": {
  "anaconda-cloud": {},
  "kernelspec": {
   "display_name": "Python [Root]",
   "language": "python",
   "name": "Python [Root]"
  },
  "language_info": {
   "codemirror_mode": {
    "name": "ipython",
    "version": 2
   },
   "file_extension": ".py",
   "mimetype": "text/x-python",
   "name": "python",
   "nbconvert_exporter": "python",
   "pygments_lexer": "ipython2",
   "version": "2.7.11"
  }
 },
 "nbformat": 4,
 "nbformat_minor": 0
}
