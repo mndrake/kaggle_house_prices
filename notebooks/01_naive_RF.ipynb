{
 "cells": [
  {
   "cell_type": "markdown",
   "metadata": {},
   "source": [
    "This is a bad way to start, but should make for easy improvement right?\n",
    "\n",
    "- do we have any idea how this model might perform before submitting? **no**\n",
    "- is this result repeatable? **no**\n",
    "- Can we make a better RF model? **maybe**\n",
    "\n",
    "*note:* to avoid repeated code across examples a module `kaggle` was created."
   ]
  },
  {
   "cell_type": "code",
   "execution_count": 2,
   "metadata": {
    "collapsed": true
   },
   "outputs": [],
   "source": [
    "from sklearn.ensemble import RandomForestRegressor\n",
    "from kaggle.data import load_data, save_submission"
   ]
  },
  {
   "cell_type": "code",
   "execution_count": 3,
   "metadata": {
    "collapsed": true
   },
   "outputs": [],
   "source": [
    "# load data\n",
    "y, X, X_submission, ids_submission = load_data()\n",
    "\n",
    "# define model\n",
    "model = RandomForestRegressor()\n",
    "\n",
    "# train model\n",
    "model.fit(X, y)\n",
    "\n",
    "# create predictions\n",
    "y_pred = model.predict(X_submission)\n",
    "\n",
    "# save submission\n",
    "save_submission(ids_submission, y_pred, '01_naive_random_forest')"
   ]
  }
 ],
 "metadata": {
  "anaconda-cloud": {},
  "kernelspec": {
   "display_name": "Python [Root]",
   "language": "python",
   "name": "Python [Root]"
  },
  "language_info": {
   "codemirror_mode": {
    "name": "ipython",
    "version": 2
   },
   "file_extension": ".py",
   "mimetype": "text/x-python",
   "name": "python",
   "nbconvert_exporter": "python",
   "pygments_lexer": "ipython2",
   "version": "2.7.12"
  }
 },
 "nbformat": 4,
 "nbformat_minor": 0
}
