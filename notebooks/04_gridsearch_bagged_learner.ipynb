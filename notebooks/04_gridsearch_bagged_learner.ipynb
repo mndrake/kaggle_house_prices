{
 "cells": [
  {
   "cell_type": "markdown",
   "metadata": {},
   "source": [
    "We can do better.\n",
    "\n",
    "So this time:\n",
    "- grid search for better parameters\n",
    "\n",
    "- Can we make a better RF model? **yes**"
   ]
  },
  {
   "cell_type": "code",
   "execution_count": 74,
   "metadata": {
    "collapsed": false
   },
   "outputs": [],
   "source": [
    "import pandas as pd\n",
    "import numpy as np\n",
    "from sklearn.dummy import DummyRegressor\n",
    "from sklearn.linear_model import LinearRegression, Lasso, BayesianRidge, ElasticNet, Ridge, SGDRegressor\n",
    "from sklearn.preprocessing import PolynomialFeatures\n",
    "from sklearn.decomposition import PCA\n",
    "from sklearn.ensemble import BaggingRegressor\n",
    "from sklearn.tree import DecisionTreeRegressor\n",
    "from sklearn.model_selection import KFold, GridSearchCV, cross_val_score\n",
    "from sklearn.pipeline import make_pipeline\n",
    "from scipy.stats import skew\n",
    "from sklearn.metrics import mean_squared_error"
   ]
  },
  {
   "cell_type": "code",
   "execution_count": 228,
   "metadata": {
    "collapsed": false
   },
   "outputs": [],
   "source": [
    "    #def load_data():\n",
    "    train = pd.read_csv('../input/train.csv')\n",
    "    test = pd.read_csv('../input/test.csv')\n",
    "    \n",
    "    combined = train.append(test, ignore_index=True).drop(['Id','SalePrice'], axis=1)\n",
    "    \n",
    "    numerics = (combined.select_dtypes(exclude=['object'])\n",
    "                .apply(lambda x: np.log1p(x) if skew(x, nan_policy='omit')>0.75 else x))   \n",
    "\n",
    "    cats = combined.select_dtypes(include=['object']).copy()\n",
    "\n",
    "\n",
    "    ordered_levels = {\n",
    "        \"Alley\": [\"Grvl\", \"Pave\"],\n",
    "        \"BsmtCond\": [\"Po\", \"Fa\", \"TA\", \"Gd\"],\n",
    "        \"BsmtExposure\": [\"No\", \"Mn\", \"Av\", \"Gd\"],\n",
    "        \"BsmtFinType1\": [\"Unf\", \"LwQ\", \"Rec\", \"BLQ\", \"ALQ\", \"GLQ\"],\n",
    "        \"BsmtFinType2\": [\"Unf\", \"LwQ\", \"Rec\", \"BLQ\", \"ALQ\", \"GLQ\"],\n",
    "        \"BsmtQual\": [\"Fa\", \"TA\", \"Gd\", \"Ex\"],\n",
    "        \"CentralAir\": [\"N\", \"Y\"],\n",
    "        \"Electrical\": [\"Mix\", \"FuseP\", \"FuseF\", \"FuseA\", \"SBrkr\"],\n",
    "        \"ExterCond\": [\"Po\", \"Fa\", \"TA\", \"Gd\", \"Ex\"],\n",
    "        \"ExterQual\": [\"Fa\", \"TA\", \"Gd\", \"Ex\"],\n",
    "        \"Fence\": [\"MnWw\", \"GdWo\", \"MnPrv\", \"GdPrv\"],\n",
    "        \"FireplaceQu\": [\"Po\", \"Fa\", \"TA\", \"Gd\", \"Ex\"],\n",
    "        'Functional': ['Sev', 'Maj2', 'Maj1', 'Mod', 'Min2', 'Min1', 'Typ'],\n",
    "        \"GarageCond\": [\"Po\", \"Fa\", \"TA\", \"Gd\", \"Ex\"],\n",
    "        \"GarageFinish\": [\"Unf\", \"RFn\", \"Fin\"],\n",
    "        \"GarageQual\": [\"Po\", \"Fa\", \"TA\", \"Gd\", \"Ex\"],\n",
    "        \"HeatingQC\": [\"Po\", \"Fa\", \"TA\", \"Gd\", \"Ex\"],\n",
    "        \"KitchenQual\": [\"Fa\", \"TA\", \"Gd\", \"Ex\"],\n",
    "        \"LotShape\": [\"IR3\", \"IR2\", \"IR1\", \"Reg\"],\n",
    "        \"PavedDrive\": [\"N\", \"P\", \"Y\"],\n",
    "        \"PoolQC\": [\"Fa\", \"Gd\", \"Ex\"],\n",
    "        \"Street\": [\"Grvl\", \"Pave\"],   \n",
    "        \"Utilities\": [\"NoSeWa\", \"AllPub\"]\n",
    "    }\n",
    "    \n",
    "    for c in cats.columns:\n",
    "        if c in ordered_levels:\n",
    "            cats[c] = cats[c].astype('category', categories = ordered_levels[c], ordered=True).cat.codes\n",
    "        else:\n",
    "            cats[c] = cats[c].astype('category')\n",
    "        \n",
    "    cats = pd.get_dummies(cats)\n",
    "\n",
    "    combined = pd.concat([numerics, cats], axis=1)\n",
    "    \n",
    "    combined = (combined - combined.mean()) / combined.std()\n",
    "    combined = combined.fillna(0) \n",
    "\n",
    "    y = np.log(train['SalePrice'].values)\n",
    "    X = combined.iloc[:train.shape[0],:]\n",
    "    X_submission = combined.iloc[train.shape[0]:,:]\n",
    "    ids_submission = test['Id'].values\n",
    "    #return y, X, X_submission, ids_submission"
   ]
  },
  {
   "cell_type": "code",
   "execution_count": null,
   "metadata": {
    "collapsed": false
   },
   "outputs": [],
   "source": []
  },
  {
   "cell_type": "code",
   "execution_count": 102,
   "metadata": {
    "collapsed": true
   },
   "outputs": [],
   "source": [
    "# load data\n",
    "#y, X, X_submission, ids_submission = load_data()"
   ]
  },
  {
   "cell_type": "code",
   "execution_count": 103,
   "metadata": {
    "collapsed": false
   },
   "outputs": [],
   "source": [
    "#poly_features = PolynomialFeatures(interaction_only=True)\n",
    "#X_interactions = poly_features.fit_transform(X)"
   ]
  },
  {
   "cell_type": "code",
   "execution_count": 104,
   "metadata": {
    "collapsed": true
   },
   "outputs": [],
   "source": [
    "#0.137498547071"
   ]
  },
  {
   "cell_type": "code",
   "execution_count": 105,
   "metadata": {
    "collapsed": false
   },
   "outputs": [
    {
     "name": "stdout",
     "output_type": "stream",
     "text": [
      "CPU times: user 206 µs, sys: 3 µs, total: 209 µs\n",
      "Wall time: 214 µs\n"
     ]
    }
   ],
   "source": [
    "%%time\n",
    "model = Lasso(random_state=1337, max_iter=5000, alpha=0.005)\n",
    "kf = KFold(10, random_state=1773)\n",
    "\n",
    "params = {'alpha': [0.006, 0.005, 0.004]}\n",
    "\n",
    "grid = GridSearchCV(model, params, scoring='neg_mean_squared_error', cv=kf)\n",
    "\n",
    "#score = cross_val_score(model, X_interactions, y, scoring='neg_mean_squared_error', cv=4, n_jobs=4)\n",
    "#print np.mean(np.sqrt(-score))"
   ]
  },
  {
   "cell_type": "code",
   "execution_count": 57,
   "metadata": {
    "collapsed": false
   },
   "outputs": [],
   "source": [
    "#score: 0.1380"
   ]
  },
  {
   "cell_type": "code",
   "execution_count": 59,
   "metadata": {
    "collapsed": false
   },
   "outputs": [
    {
     "name": "stdout",
     "output_type": "stream",
     "text": [
      "score: 0.1398\n",
      "params: {'alpha': 0.005}\n",
      "CPU times: user 1.72 s, sys: 144 ms, total: 1.86 s\n",
      "Wall time: 1.85 s\n"
     ]
    }
   ],
   "source": [
    "%%time\n",
    "grid.fit(X, y);\n",
    "print 'score: {:.4f}'.format(np.sqrt(-grid.best_score_))\n",
    "print 'params:', grid.best_params_"
   ]
  },
  {
   "cell_type": "code",
   "execution_count": 77,
   "metadata": {
    "collapsed": false
   },
   "outputs": [],
   "source": []
  },
  {
   "cell_type": "code",
   "execution_count": 120,
   "metadata": {
    "collapsed": true
   },
   "outputs": [],
   "source": [
    "#rmse: 0.1219"
   ]
  },
  {
   "cell_type": "code",
   "execution_count": 156,
   "metadata": {
    "collapsed": false
   },
   "outputs": [
    {
     "name": "stdout",
     "output_type": "stream",
     "text": [
      "rmse: 0.1220\n",
      "CPU times: user 1.69 s, sys: 76.8 ms, total: 1.77 s\n",
      "Wall time: 1.75 s\n"
     ]
    }
   ],
   "source": [
    "%%time\n",
    "model_bg_ls = BaggingRegressor(\n",
    "                Lasso(fit_intercept=True, alpha=0.0015, random_state=1337, max_iter=5000),\n",
    "                n_estimators=100, \n",
    "                max_features=0.9,\n",
    "                max_samples=0.25, oob_score=True, \n",
    "                random_state=1337)\n",
    "model_bg_ls.fit(X,y)\n",
    "print 'rmse: {:.4f}'.format(np.sqrt(mean_squared_error(y, model_bg_ls.oob_prediction_)))"
   ]
  },
  {
   "cell_type": "code",
   "execution_count": 285,
   "metadata": {
    "collapsed": false
   },
   "outputs": [],
   "source": [
    "%matplotlib inline\n",
    "import matplotlib.pyplot as plt"
   ]
  },
  {
   "cell_type": "code",
   "execution_count": 320,
   "metadata": {
    "collapsed": false
   },
   "outputs": [
    {
     "data": {
      "text/plain": [
       "array([-5,  5])"
      ]
     },
     "execution_count": 320,
     "metadata": {},
     "output_type": "execute_result"
    }
   ],
   "source": [
    "np.arange(-5, 6, 10)"
   ]
  },
  {
   "cell_type": "code",
   "execution_count": 332,
   "metadata": {
    "collapsed": false
   },
   "outputs": [],
   "source": [
    "\n",
    "\n",
    "coef = np.zeros(288)\n",
    "\n",
    "for i, _ in enumerate(coef):\n",
    "    _x = np.zeros((1,288)).repeat(2, axis=0)\n",
    "    _x[:, i] = np.arange(-5, 6, 10)\n",
    "    _y = model_bg_ls.predict(_x)\n",
    "    coef[i] = (_y[1] - _y[0]) / 10."
   ]
  },
  {
   "cell_type": "code",
   "execution_count": 339,
   "metadata": {
    "collapsed": true
   },
   "outputs": [],
   "source": [
    "coef2 = np.zeros(288)\n",
    "\n",
    "for i, _ in enumerate(coef):\n",
    "    _x = np.zeros((1,288)).repeat(2, axis=0)\n",
    "    _x[:, 15] = 5\n",
    "    _x[:, i] = np.arange(-5, 6, 10)\n",
    "    _y = model_bg_ls.predict(_x)\n",
    "    coef2[i] = (_y[1] - _y[0]) / 10."
   ]
  },
  {
   "cell_type": "code",
   "execution_count": 348,
   "metadata": {
    "collapsed": false
   },
   "outputs": [],
   "source": [
    "index_diffs = (coef != coef2)"
   ]
  },
  {
   "cell_type": "code",
   "execution_count": 351,
   "metadata": {
    "collapsed": false
   },
   "outputs": [
    {
     "data": {
      "text/plain": [
       "1.4224732503009818e-15"
      ]
     },
     "execution_count": 351,
     "metadata": {},
     "output_type": "execute_result"
    }
   ],
   "source": [
    "max(coef[index_diffs] - coef2[index_diffs])"
   ]
  },
  {
   "cell_type": "code",
   "execution_count": 338,
   "metadata": {
    "collapsed": false
   },
   "outputs": [
    {
     "name": "stdout",
     "output_type": "stream",
     "text": [
      "15 0.120579224585\n"
     ]
    }
   ],
   "source": [
    "max_index = np.argmax(coef)\n",
    "print max_index, coef[max_index]"
   ]
  },
  {
   "cell_type": "code",
   "execution_count": 278,
   "metadata": {
    "collapsed": false
   },
   "outputs": [
    {
     "data": {
      "text/plain": [
       "(10, 288)"
      ]
     },
     "execution_count": 278,
     "metadata": {},
     "output_type": "execute_result"
    }
   ],
   "source": [
    "np.shape(_x)"
   ]
  },
  {
   "cell_type": "code",
   "execution_count": 261,
   "metadata": {
    "collapsed": false
   },
   "outputs": [
    {
     "data": {
      "text/plain": [
       "array([ 12.01863626])"
      ]
     },
     "execution_count": 261,
     "metadata": {},
     "output_type": "execute_result"
    }
   ],
   "source": [
    "model_bg_ls.predict(np.zeros((1,288)))"
   ]
  },
  {
   "cell_type": "code",
   "execution_count": 262,
   "metadata": {
    "collapsed": false
   },
   "outputs": [
    {
     "data": {
      "text/plain": [
       "array([ 12.01863626])"
      ]
     },
     "execution_count": 262,
     "metadata": {},
     "output_type": "execute_result"
    }
   ],
   "source": [
    "model_bg_ls.predict(np.zeros((1,288)))"
   ]
  },
  {
   "cell_type": "code",
   "execution_count": null,
   "metadata": {
    "collapsed": true
   },
   "outputs": [],
   "source": [
    "#0.1352"
   ]
  },
  {
   "cell_type": "code",
   "execution_count": 252,
   "metadata": {
    "collapsed": false
   },
   "outputs": [
    {
     "name": "stdout",
     "output_type": "stream",
     "text": [
      "rmse: 0.1352\n",
      "CPU times: user 15.8 s, sys: 52.6 ms, total: 15.8 s\n",
      "Wall time: 15.8 s\n"
     ]
    }
   ],
   "source": [
    "%%time\n",
    "model_bg_dt = BaggingRegressor(\n",
    "                DecisionTreeRegressor(max_depth=15, random_state=1337),\n",
    "                n_estimators=1000,\n",
    "                max_features=0.6032, \n",
    "                max_samples=0.9, oob_score=True,\n",
    "                random_state=1337)\n",
    "model_bg_dt.fit(X,y)\n",
    "print 'rmse: {:.4f}'.format(np.sqrt(mean_squared_error(y, model_bg_dt.oob_prediction_)))"
   ]
  },
  {
   "cell_type": "code",
   "execution_count": 240,
   "metadata": {
    "collapsed": false
   },
   "outputs": [],
   "source": [
    "oob_preds = model.oob_prediction_"
   ]
  },
  {
   "cell_type": "code",
   "execution_count": 73,
   "metadata": {
    "collapsed": false
   },
   "outputs": [
    {
     "data": {
      "text/plain": [
       "0"
      ]
     },
     "execution_count": 73,
     "metadata": {},
     "output_type": "execute_result"
    }
   ],
   "source": []
  },
  {
   "cell_type": "code",
   "execution_count": 65,
   "metadata": {
    "collapsed": false
   },
   "outputs": [
    {
     "data": {
      "text/plain": [
       "BaggingRegressor(base_estimator=Lasso(alpha=0.005, copy_X=True, fit_intercept=True, max_iter=5000,\n",
       "   normalize=False, positive=False, precompute=False, random_state=1337,\n",
       "   selection='cyclic', tol=0.0001, warm_start=False),\n",
       "         bootstrap=True, bootstrap_features=False, max_features=0.9,\n",
       "         max_samples=0.5, n_estimators=50, n_jobs=1, oob_score=True,\n",
       "         random_state=1337, verbose=0, warm_start=False)"
      ]
     },
     "execution_count": 65,
     "metadata": {},
     "output_type": "execute_result"
    }
   ],
   "source": [
    "model.fit(X,y)"
   ]
  },
  {
   "cell_type": "code",
   "execution_count": 67,
   "metadata": {
    "collapsed": false
   },
   "outputs": [
    {
     "data": {
      "text/plain": [
       "0.88189861526819158"
      ]
     },
     "execution_count": 67,
     "metadata": {},
     "output_type": "execute_result"
    }
   ],
   "source": [
    "model.oob_score_"
   ]
  },
  {
   "cell_type": "code",
   "execution_count": 51,
   "metadata": {
    "collapsed": false
   },
   "outputs": [
    {
     "name": "stdout",
     "output_type": "stream",
     "text": [
      "score: 0.1366\n"
     ]
    }
   ],
   "source": [
    "score = cross_val_score(model, X_interactions, y, scoring = 'neg_mean_squared_error', cv=kf, n_jobs=8)\n",
    "print 'score: {:.4f}'.format(np.mean(np.sqrt(-score)))"
   ]
  },
  {
   "cell_type": "code",
   "execution_count": null,
   "metadata": {
    "collapsed": false
   },
   "outputs": [],
   "source": [
    "model = BaggingRegressor(\n",
    "            make_pipeline(\n",
    "                PolynomialFeatures(degree=2, interaction_only=True),\n",
    "                Lasso(fit_intercept=True, random_state=1337, max_iter=5000)),\n",
    "            \n",
    "            n_estimators=50, \n",
    "            random_state=1337)\n",
    "\n",
    "kf = KFold(10, random_state=1773)\n",
    "\n",
    "#params: {'max_features': 0.4, 'max_samples': 0.6, 'bootstrap': False, 'bootstrap_features': False}\n",
    "\n",
    "#{'max_features': 0.3, 'max_samples': 0.6, 'bootstrap': False, 'bootstrap_features': False}\n",
    "\n",
    "parameters = {\n",
    "    'base_estimator__lasso__alpha': [0.001],\n",
    "    'bootstrap': [False],\n",
    "    'bootstrap_features': [False],\n",
    "    'max_features': [0.9],\n",
    "    'max_samples': [0.3]\n",
    "}\n",
    "\n",
    "#grid = GridSearchCV(model, parameters, scoring='neg_mean_squared_error', cv = kf, n_jobs=8)"
   ]
  },
  {
   "cell_type": "code",
   "execution_count": null,
   "metadata": {
    "collapsed": true
   },
   "outputs": [],
   "source": [
    "#0.1228"
   ]
  },
  {
   "cell_type": "code",
   "execution_count": null,
   "metadata": {
    "collapsed": false
   },
   "outputs": [],
   "source": [
    "%%time\n",
    "grid.fit(X, y);\n",
    "print 'score: {:.4f}'.format(np.sqrt(-grid.best_score_))\n",
    "print 'params:', grid.best_params_"
   ]
  },
  {
   "cell_type": "code",
   "execution_count": null,
   "metadata": {
    "collapsed": true
   },
   "outputs": [],
   "source": [
    "# create submission predictions\n",
    "preds_submission = model.predict(X_submission)\n",
    "\n",
    "# save submission\n",
    "pd.DataFrame({'Id': ids_submission, 'SalePrice': np.exp(preds_submission)})\\\n",
    "  .to_csv('../output/04_gridsearch_RF.csv', index=False)"
   ]
  },
  {
   "cell_type": "code",
   "execution_count": null,
   "metadata": {
    "collapsed": false
   },
   "outputs": [],
   "source": [
    "%matplotlib inline\n",
    "import matplotlib.pyplot as plt\n",
    "\n",
    "plt.plot(np.sort(model.cv_results_['mean_test_score']));"
   ]
  },
  {
   "cell_type": "code",
   "execution_count": null,
   "metadata": {
    "collapsed": true
   },
   "outputs": [],
   "source": []
  }
 ],
 "metadata": {
  "anaconda-cloud": {},
  "kernelspec": {
   "display_name": "Python [Root]",
   "language": "python",
   "name": "Python [Root]"
  },
  "language_info": {
   "codemirror_mode": {
    "name": "ipython",
    "version": 2
   },
   "file_extension": ".py",
   "mimetype": "text/x-python",
   "name": "python",
   "nbconvert_exporter": "python",
   "pygments_lexer": "ipython2",
   "version": "2.7.12"
  }
 },
 "nbformat": 4,
 "nbformat_minor": 0
}
