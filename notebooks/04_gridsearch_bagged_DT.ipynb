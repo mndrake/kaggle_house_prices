{
 "cells": [
  {
   "cell_type": "markdown",
   "metadata": {},
   "source": [
    "We can do better.\n",
    "\n",
    "So this time:\n",
    "- grid search for better parameters\n",
    "\n",
    "- Can we make a better RF model? **yes**"
   ]
  },
  {
   "cell_type": "code",
   "execution_count": 29,
   "metadata": {
    "collapsed": true
   },
   "outputs": [],
   "source": [
    "import pandas as pd\n",
    "import numpy as np\n",
    "from sklearn.ensemble import BaggingRegressor\n",
    "from sklearn.tree import DecisionTreeRegressor\n",
    "from sklearn.model_selection import KFold, GridSearchCV"
   ]
  },
  {
   "cell_type": "code",
   "execution_count": 30,
   "metadata": {
    "collapsed": true
   },
   "outputs": [],
   "source": [
    "def load_data():\n",
    "    train = pd.read_csv('../input/train.csv')\n",
    "    test = pd.read_csv('../input/test.csv')\n",
    "    combined = train.append(test, ignore_index=True).drop(['Id','SalePrice'], axis=1)\n",
    "    combined = pd.get_dummies(combined)\n",
    "    combined = combined.fillna(combined.mean())\n",
    "    y = np.log(train['SalePrice'].values)\n",
    "    X = combined.iloc[:train.shape[0],:]\n",
    "    X_submission = combined.iloc[train.shape[0]:,:]\n",
    "    ids_submission = test['Id'].values\n",
    "    return y, X, X_submission, ids_submission"
   ]
  },
  {
   "cell_type": "code",
   "execution_count": 31,
   "metadata": {
    "collapsed": true
   },
   "outputs": [],
   "source": [
    "# load data\n",
    "y, X, X_submission, ids_submission = load_data()"
   ]
  },
  {
   "cell_type": "code",
   "execution_count": 54,
   "metadata": {
    "collapsed": false
   },
   "outputs": [],
   "source": [
    "model = BaggingRegressor(DecisionTreeRegressor(), random_state=1337)\n",
    "kf = KFold(10, random_state=1773)\n",
    "\n",
    "parameters = {\n",
    "    'base_estimator__max_depth': [14, 15, 16],\n",
    "    'bootstrap': [False],\n",
    "    'bootstrap_features': [False],\n",
    "    'max_features': [0.55, 0.6, 0.65],\n",
    "    'max_samples': [0.8, 0.90, 1.0],\n",
    "    'n_estimators': [50]\n",
    "#     'base_estimator__max_features': None,\n",
    "#     'base_estimator__max_leaf_nodes': None,\n",
    "#     'base_estimator__min_impurity_split': 1e-07,\n",
    "#     'base_estimator__min_samples_leaf': 1,\n",
    "#     'base_estimator__min_samples_split': 2,\n",
    "#     'base_estimator__min_weight_fraction_leaf': 0.0,\n",
    "#     'base_estimator__presort': False,\n",
    "#     'base_estimator__random_state': 1337,\n",
    "#     'base_estimator__splitter': 'best',\n",
    "#     'max_features': 1.0,\n",
    "#     'max_samples': 1.0,\n",
    "#     'n_estimators': 10,\n",
    "#     'n_jobs': 1,\n",
    "#     'oob_score': False,\n",
    "#     'random_state': 1337,\n",
    "#     'verbose': 0,\n",
    "#     'warm_start': False\n",
    "}\n",
    "\n",
    "grid = GridSearchCV(model, parameters, scoring='neg_mean_squared_error', cv = kf, n_jobs=8)"
   ]
  },
  {
   "cell_type": "code",
   "execution_count": 55,
   "metadata": {
    "collapsed": true
   },
   "outputs": [],
   "source": [
    "#0.1340"
   ]
  },
  {
   "cell_type": "code",
   "execution_count": 56,
   "metadata": {
    "collapsed": false
   },
   "outputs": [
    {
     "name": "stdout",
     "output_type": "stream",
     "text": [
      "score: 0.1340\n",
      "params: {'max_samples': 1.0, 'base_estimator__max_depth': 15, 'bootstrap': False, 'n_estimators': 50, 'max_features': 0.6, 'bootstrap_features': False}\n",
      "CPU times: user 5.8 s, sys: 638 ms, total: 6.44 s\n",
      "Wall time: 1min 25s\n"
     ]
    }
   ],
   "source": [
    "%%time\n",
    "grid.fit(X, y);\n",
    "print 'score: {:.4f}'.format(np.sqrt(-grid.best_score_))\n",
    "print 'params:', grid.best_params_"
   ]
  },
  {
   "cell_type": "code",
   "execution_count": 19,
   "metadata": {
    "collapsed": false
   },
   "outputs": [],
   "source": [
    "# parameters = {'n_estimators': [50],\n",
    "#               'max_features': [0.2, 0.3, 0.4, 0.5, 0.6, 0.7, 0.8],\n",
    "#               'max_depth': [7, 9, 11, 13, 15],\n",
    "#               'min_samples_leaf': [1, 2, 3, 4]}\n",
    "\n",
    "parameters = {'fit_intercept': [False,True], \n",
    "              'normalize': [False,True]}\n",
    "\n",
    "model = GridSearchCV(LinearRegression(),\n",
    "                     parameters, \n",
    "                     scoring=make_scorer(rmse, greater_is_better=False), \n",
    "                     cv=KFold(10, random_state=1773))"
   ]
  },
  {
   "cell_type": "code",
   "execution_count": 20,
   "metadata": {
    "collapsed": false
   },
   "outputs": [
    {
     "name": "stdout",
     "output_type": "stream",
     "text": [
      "CPU times: user 3.61 s, sys: 42.2 ms, total: 3.66 s\n",
      "Wall time: 925 ms\n"
     ]
    },
    {
     "data": {
      "text/plain": [
       "GridSearchCV(cv=KFold(n_splits=10, random_state=1773, shuffle=False),\n",
       "       error_score='raise',\n",
       "       estimator=LinearRegression(copy_X=True, fit_intercept=True, n_jobs=1, normalize=False),\n",
       "       fit_params={}, iid=True, n_jobs=1,\n",
       "       param_grid={'normalize': [False, True], 'fit_intercept': [False, True]},\n",
       "       pre_dispatch='2*n_jobs', refit=True, return_train_score=True,\n",
       "       scoring=make_scorer(rmse, greater_is_better=False), verbose=0)"
      ]
     },
     "execution_count": 20,
     "metadata": {},
     "output_type": "execute_result"
    }
   ],
   "source": [
    "%%time\n",
    "# train grid search\n",
    "model.fit(X, y)"
   ]
  },
  {
   "cell_type": "code",
   "execution_count": 21,
   "metadata": {
    "collapsed": false
   },
   "outputs": [
    {
     "name": "stdout",
     "output_type": "stream",
     "text": [
      "best score: -2507.50296092\n",
      "best parameters: {'normalize': False, 'fit_intercept': False}\n"
     ]
    }
   ],
   "source": [
    "print 'best score:', model.best_score_\n",
    "print 'best parameters:', model.best_params_"
   ]
  },
  {
   "cell_type": "code",
   "execution_count": 22,
   "metadata": {
    "collapsed": true
   },
   "outputs": [],
   "source": [
    "# create submission predictions\n",
    "preds_submission = model.predict(X_submission)\n",
    "\n",
    "# save submission\n",
    "pd.DataFrame({'Id': ids_submission, 'SalePrice': np.exp(preds_submission)})\\\n",
    "  .to_csv('../output/04_gridsearch_RF.csv', index=False)"
   ]
  },
  {
   "cell_type": "code",
   "execution_count": 23,
   "metadata": {
    "collapsed": false
   },
   "outputs": [
    {
     "data": {
      "image/png": "[encoded data removed]",
      "text/plain": [
       "<matplotlib.figure.Figure at 0x119b20bd0>"
      ]
     },
     "metadata": {},
     "output_type": "display_data"
    }
   ],
   "source": [
    "%matplotlib inline\n",
    "import matplotlib.pyplot as plt\n",
    "\n",
    "plt.plot(np.sort(model.cv_results_['mean_test_score']));"
   ]
  },
  {
   "cell_type": "code",
   "execution_count": null,
   "metadata": {
    "collapsed": true
   },
   "outputs": [],
   "source": []
  }
 ],
 "metadata": {
  "anaconda-cloud": {},
  "kernelspec": {
   "display_name": "Python [Root]",
   "language": "python",
   "name": "Python [Root]"
  },
  "language_info": {
   "codemirror_mode": {
    "name": "ipython",
    "version": 2
   },
   "file_extension": ".py",
   "mimetype": "text/x-python",
   "name": "python",
   "nbconvert_exporter": "python",
   "pygments_lexer": "ipython2",
   "version": "2.7.12"
  }
 },
 "nbformat": 4,
 "nbformat_minor": 0
}
