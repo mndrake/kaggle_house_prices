{
 "cells": [
  {
   "cell_type": "code",
   "execution_count": 46,
   "metadata": {
    "collapsed": false
   },
   "outputs": [],
   "source": [
    "import pandas as pd\n",
    "import numpy as np\n",
    "from sklearn.feature_selection import RFECV\n",
    "from xgboost import XGBRegressor\n",
    "from sklearn.linear_model import ElasticNet\n",
    "from sklearn.feature_selection import VarianceThreshold\n",
    "from sklearn.model_selection import KFold, RandomizedSearchCV, GridSearchCV, cross_val_score\n",
    "from sklearn.metrics import make_scorer, mean_squared_error\n",
    "from sklearn.pipeline import Pipeline, make_pipeline\n",
    "from sklearn.preprocessing import Imputer"
   ]
  },
  {
   "cell_type": "code",
   "execution_count": 47,
   "metadata": {
    "collapsed": true
   },
   "outputs": [],
   "source": [
    "def rmse(y_true, y_pred):\n",
    "    return np.sqrt(mean_squared_error(y_true, y_pred))"
   ]
  },
  {
   "cell_type": "code",
   "execution_count": 48,
   "metadata": {
    "collapsed": true
   },
   "outputs": [],
   "source": [
    "def load_data():\n",
    "    train = pd.read_csv('../input/train.csv')\n",
    "    test = pd.read_csv('../input/test.csv')\n",
    "    combined = train.append(test, ignore_index=True).drop(['Id','SalePrice'], axis=1)\n",
    "    \n",
    "    ##drop columns\n",
    "    #combined.drop(['Utilities', '3SsnPorch'], axis=1, inplace=True)\n",
    "    \n",
    "    #categorical columns\n",
    "    all_cat = combined.dtypes[combined.dtypes == 'object'].index\n",
    "    \n",
    "    #ordered categorical columns\n",
    "    ordered_cat = {\n",
    "    \"GarageQual\": [\"Po\", \"Fa\", \"TA\", \"Gd\", \"Ex\"],\n",
    "    \"BsmtQual\": [\"Fa\", \"TA\", \"Gd\", \"Ex\"],\n",
    "    \"GarageCond\": [\"Po\", \"Fa\", \"TA\", \"Gd\", \"Ex\"],\n",
    "    \"BsmtCond\": [\"Po\", \"Fa\", \"TA\", \"Gd\"],\n",
    "    \"HeatingQC\": [\"Po\", \"Fa\", \"TA\", \"Gd\", \"Ex\"],\n",
    "    \"FireplaceQu\": [\"Po\", \"Fa\", \"TA\", \"Gd\", \"Ex\"],\n",
    "    \"KitchenQual\": [\"Fa\", \"TA\", \"Gd\", \"Ex\"],\n",
    "    \"ExterQual\": [\"Fa\", \"TA\", \"Gd\", \"Ex\"],\n",
    "    \"ExterCond\": [\"Po\", \"Fa\", \"TA\", \"Gd\", \"Ex\"],\n",
    "    \"PoolQC\": [\"Fa\", \"Gd\", \"Ex\"],\n",
    "    \"CentralAir\": [\"N\", \"Y\"],\n",
    "    \"Utilities\": [\"NoSeWa\", \"AllPub\"],\n",
    "    \"GarageFinish\": [\"Unf\", \"RFn\", \"Fin\"],\n",
    "    \"PavedDrive\": [\"N\", \"P\", \"Y\"],\n",
    "    \"Electrical\": [\"Mix\", \"FuseP\", \"FuseF\", \"FuseA\", \"SBrkr\"],\n",
    "    \"Fence\": [\"MnWw\", \"GdWo\", \"MnPrv\", \"GdPrv\"],\n",
    "    \"BsmtFinType1\": [\"Unf\", \"LwQ\", \"Rec\", \"BLQ\", \"ALQ\", \"GLQ\"],\n",
    "    \"BsmtFinType2\": [\"Unf\", \"LwQ\", \"Rec\", \"BLQ\", \"ALQ\", \"GLQ\"],\n",
    "    \"BsmtExposure\": [\"No\", \"Mn\", \"Av\", \"Gd\"],\n",
    "    \"LotShape\": [\"IR3\", \"IR2\", \"IR1\", \"Reg\"],\n",
    "    \"Alley\": [\"Grvl\", \"Pave\"],\n",
    "    \"Street\": [\"Grvl\", \"Pave\"]\n",
    "    }\n",
    "    \n",
    "    #unordered categorical columns\n",
    "    unordered_cat = list(set(all_cat) - set(ordered_cat))\n",
    "    \n",
    "    #convert ordered categorical to integers\n",
    "    for c in ordered_cat.keys():\n",
    "        combined[c] = combined[c].astype('category', categories=ordered_cat[c], ordered=True).cat.codes\n",
    "        \n",
    "    #convert remaining unordered categorical to dummy columns        \n",
    "    combined = pd.get_dummies(combined)\n",
    "        \n",
    "    #combined = combined.fillna(combined.mean())\n",
    "    \n",
    "    y = np.log(train['SalePrice'].values)\n",
    "    X = combined.iloc[:train.shape[0],:]\n",
    "    X_submission = combined.iloc[train.shape[0]:,:]\n",
    "    ids_submission = test['Id'].values\n",
    "    return y, X, X_submission, ids_submission"
   ]
  },
  {
   "cell_type": "code",
   "execution_count": 49,
   "metadata": {
    "collapsed": false
   },
   "outputs": [],
   "source": [
    "# load data\n",
    "y, X, X_submission, ids_submission = load_data()"
   ]
  },
  {
   "cell_type": "markdown",
   "metadata": {},
   "source": [
    "## Missing Values"
   ]
  },
  {
   "cell_type": "code",
   "execution_count": 50,
   "metadata": {
    "collapsed": false
   },
   "outputs": [
    {
     "data": {
      "text/plain": [
       "LotFrontage            0.177397\n",
       "GarageYrBlt            0.055479\n",
       "MasVnrArea             0.005479\n",
       "Exterior1st_AsphShn    0.000000\n",
       "Exterior1st_AsbShng    0.000000\n",
       "dtype: float64"
      ]
     },
     "execution_count": 50,
     "metadata": {},
     "output_type": "execute_result"
    }
   ],
   "source": [
    "(1 - X.count() / X.shape[0]).sort_values(ascending=False).head()"
   ]
  },
  {
   "cell_type": "code",
   "execution_count": 51,
   "metadata": {
    "collapsed": false
   },
   "outputs": [],
   "source": [
    "best_parameters = {'xgbregressor__max_depth': 5,\n",
    "                   'xgbregressor__learning_rate': 0.1,\n",
    "                   'xgbregressor__n_estimators': 100,\n",
    "                   'xgbregressor__min_child_weight': 2,\n",
    "                   'xgbregressor__subsample': 0.6,\n",
    "                   'xgbregressor__colsample_bytree': 0.6}\n",
    "\n",
    "\n",
    "parameters = {'xgbregressor__max_depth': [4,5,6],\n",
    "              'xgbregressor__learning_rate': [0.1],\n",
    "              'xgbregressor__n_estimators': [100],\n",
    "              'xgbregressor__min_child_weight': [1,2,3],\n",
    "              'xgbregressor__subsample': [0.5, 0.6, 0.7],\n",
    "              'xgbregressor__colsample_bytree': [0.5, 0.6, 0.7]}\n",
    "\n",
    "pipeline = make_pipeline(Imputer(strategy='most_frequent'),\n",
    "                         XGBRegressor(silent = True, objective='reg:linear', nthread=4, seed = 1773))\n",
    "\n",
    "model = RandomizedSearchCV(pipeline,\n",
    "                           parameters, \n",
    "                           n_iter=60, \n",
    "                           random_state=1773,\n",
    "                           scoring=make_scorer(rmse, greater_is_better=False), \n",
    "                           cv=KFold(10, random_state=1337))"
   ]
  },
  {
   "cell_type": "code",
   "execution_count": 52,
   "metadata": {
    "collapsed": false
   },
   "outputs": [],
   "source": [
    "pipeline = pipeline.set_params(**best_parameters)#.fit(X,y)"
   ]
  },
  {
   "cell_type": "code",
   "execution_count": 53,
   "metadata": {
    "collapsed": false
   },
   "outputs": [
    {
     "name": "stdout",
     "output_type": "stream",
     "text": [
      "score: -0.12456243611\n",
      "std:   0.0163575772297\n"
     ]
    }
   ],
   "source": [
    "cv_scores = cross_val_score(pipeline, X, y, \n",
    "                                     scoring=make_scorer(rmse, greater_is_better=False), \n",
    "                                     cv=KFold(10, random_state=1337))\n",
    "\n",
    "print 'score:', cv_scores.mean()\n",
    "print 'std:  ', cv_scores.std()"
   ]
  },
  {
   "cell_type": "code",
   "execution_count": 33,
   "metadata": {
    "collapsed": false
   },
   "outputs": [],
   "source": [
    "# %%time\n",
    "# model.fit(X,y)"
   ]
  },
  {
   "cell_type": "code",
   "execution_count": 14,
   "metadata": {
    "collapsed": false
   },
   "outputs": [],
   "source": [
    "#0.119373653704\n",
    "#0.121324499584 - Utility\n",
    "#0.122664838897 - "
   ]
  },
  {
   "cell_type": "code",
   "execution_count": 38,
   "metadata": {
    "collapsed": false
   },
   "outputs": [],
   "source": [
    "# print 'best score:', model.best_score_\n",
    "# print 'best parameters:', model.best_params_"
   ]
  },
  {
   "cell_type": "code",
   "execution_count": null,
   "metadata": {
    "collapsed": true
   },
   "outputs": [],
   "source": [
    "# # create submission predictions\n",
    "# preds_submission = model.predict(X_submission)\n",
    "\n",
    "# # save submission\n",
    "# pd.DataFrame({'Id': ids_submission, 'SalePrice': np.exp(preds_submission)})\\\n",
    "#   .to_csv('../output/07_randomsearch_XGB.csv', index=False)"
   ]
  },
  {
   "cell_type": "code",
   "execution_count": null,
   "metadata": {
    "collapsed": false
   },
   "outputs": [],
   "source": [
    "# %matplotlib inline\n",
    "# from xgboost import plot_importance\n",
    "# from matplotlib import pyplot"
   ]
  },
  {
   "cell_type": "code",
   "execution_count": 16,
   "metadata": {
    "collapsed": false
   },
   "outputs": [],
   "source": [
    "xgb_model = model.best_estimator_.steps[1][1]"
   ]
  },
  {
   "cell_type": "code",
   "execution_count": 17,
   "metadata": {
    "collapsed": true
   },
   "outputs": [],
   "source": [
    "import xgboost as xgb"
   ]
  },
  {
   "cell_type": "code",
   "execution_count": 18,
   "metadata": {
    "collapsed": false
   },
   "outputs": [
    {
     "name": "stderr",
     "output_type": "stream",
     "text": [
      "/Users/dave/.pyenv/versions/anaconda-2.4.0/lib/python2.7/site-packages/matplotlib/font_manager.py:273: UserWarning: Matplotlib is building the font cache using fc-list. This may take a moment.\n",
      "  warnings.warn('Matplotlib is building the font cache using fc-list. This may take a moment.')\n"
     ]
    }
   ],
   "source": [
    "import matplotlib.pyplot as plt"
   ]
  },
  {
   "cell_type": "code",
   "execution_count": 19,
   "metadata": {
    "collapsed": false
   },
   "outputs": [],
   "source": [
    "def get_xgb_imp(xgb, feat_names):\n",
    "    from numpy import array\n",
    "    imp_vals = xgb.booster().get_fscore()\n",
    "    imp_dict = {feat_names[i]:float(imp_vals.get('f'+str(i),0.)) for i in range(len(feat_names))}\n",
    "    total = array(imp_dict.values()).sum()\n",
    "    return {k:v/total for k,v in imp_dict.items()}"
   ]
  },
  {
   "cell_type": "code",
   "execution_count": 20,
   "metadata": {
    "collapsed": false
   },
   "outputs": [],
   "source": [
    "var_imp = get_xgb_imp(xgb_model, X.columns)\n",
    "var_imp = pd.DataFrame({'variable': var_imp.keys(), 'imp': var_imp.values()})"
   ]
  },
  {
   "cell_type": "code",
   "execution_count": 21,
   "metadata": {
    "collapsed": false
   },
   "outputs": [],
   "source": [
    "var_imp['main_variable'] = var_imp.variable.map(lambda x: x.split('_')[0])"
   ]
  },
  {
   "cell_type": "code",
   "execution_count": 22,
   "metadata": {
    "collapsed": false
   },
   "outputs": [
    {
     "data": {
      "text/plain": [
       "main_variable\n",
       "GrLivArea        0.060052\n",
       "1stFlrSF         0.054830\n",
       "LotArea          0.047650\n",
       "Neighborhood     0.045039\n",
       "BsmtFinSF1       0.044386\n",
       "GarageArea       0.039164\n",
       "TotalBsmtSF      0.037859\n",
       "OverallQual      0.036554\n",
       "BsmtUnfSF        0.035901\n",
       "YearBuilt        0.032637\n",
       "OverallCond      0.030679\n",
       "2ndFlrSF         0.029373\n",
       "SaleCondition    0.026762\n",
       "MoSold           0.023499\n",
       "OpenPorchSF      0.022846\n",
       "GarageYrBlt      0.022846\n",
       "LotFrontage      0.021540\n",
       "YearRemodAdd     0.020888\n",
       "YrSold           0.019582\n",
       "BsmtExposure     0.019582\n",
       "Exterior1st      0.015666\n",
       "EnclosedPorch    0.014360\n",
       "MasVnrArea       0.014360\n",
       "MSZoning         0.013708\n",
       "WoodDeckSF       0.013708\n",
       "Condition1       0.013055\n",
       "BsmtFinType1     0.012402\n",
       "TotRmsAbvGrd     0.011097\n",
       "Functional       0.010444\n",
       "LandContour      0.009791\n",
       "                   ...   \n",
       "GarageCars       0.005222\n",
       "Fireplaces       0.004569\n",
       "FireplaceQu      0.004569\n",
       "ExterQual        0.004569\n",
       "KitchenAbvGr     0.004569\n",
       "Heating          0.004569\n",
       "CentralAir       0.004569\n",
       "PoolArea         0.003916\n",
       "BsmtQual         0.003916\n",
       "BsmtCond         0.003916\n",
       "Electrical       0.003916\n",
       "HalfBath         0.003916\n",
       "BldgType         0.003264\n",
       "PavedDrive       0.003264\n",
       "Alley            0.002611\n",
       "ExterCond        0.002611\n",
       "GarageCond       0.002611\n",
       "GarageQual       0.002611\n",
       "HouseStyle       0.001958\n",
       "BsmtFinType2     0.001958\n",
       "Condition2       0.001958\n",
       "RoofMatl         0.001958\n",
       "MiscVal          0.001305\n",
       "Street           0.000653\n",
       "LandSlope        0.000653\n",
       "LowQualFinSF     0.000653\n",
       "PoolQC           0.000653\n",
       "BsmtHalfBath     0.000000\n",
       "MiscFeature      0.000000\n",
       "3SsnPorch        0.000000\n",
       "Name: imp, dtype: float64"
      ]
     },
     "execution_count": 22,
     "metadata": {},
     "output_type": "execute_result"
    }
   ],
   "source": [
    "var_imp.groupby('main_variable')['imp'].sum().sort_values(ascending=False)"
   ]
  },
  {
   "cell_type": "code",
   "execution_count": null,
   "metadata": {
    "collapsed": false
   },
   "outputs": [],
   "source": [
    "plot_importance(xgb_model);"
   ]
  }
 ],
 "metadata": {
  "anaconda-cloud": {},
  "kernelspec": {
   "display_name": "Python [Root]",
   "language": "python",
   "name": "Python [Root]"
  },
  "language_info": {
   "codemirror_mode": {
    "name": "ipython",
    "version": 2
   },
   "file_extension": ".py",
   "mimetype": "text/x-python",
   "name": "python",
   "nbconvert_exporter": "python",
   "pygments_lexer": "ipython2",
   "version": "2.7.12"
  }
 },
 "nbformat": 4,
 "nbformat_minor": 0
}
