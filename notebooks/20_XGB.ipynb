{
 "cells": [
  {
   "cell_type": "code",
   "execution_count": 1,
   "metadata": {
    "collapsed": false
   },
   "outputs": [
    {
     "name": "stderr",
     "output_type": "stream",
     "text": [
      "/Users/dave/.pyenv/versions/anaconda-2.4.0/lib/python2.7/site-packages/sklearn/cross_validation.py:44: DeprecationWarning: This module was deprecated in version 0.18 in favor of the model_selection module into which all the refactored classes and functions are moved. Also note that the interface of the new CV iterators are different from that of this module. This module will be removed in 0.20.\n",
      "  \"This module will be removed in 0.20.\", DeprecationWarning)\n"
     ]
    }
   ],
   "source": [
    "import pandas as pd\n",
    "import numpy as np\n",
    "from xgboost import XGBRegressor\n",
    "from sklearn.model_selection import KFold, RandomizedSearchCV\n",
    "from sklearn.metrics import make_scorer, mean_squared_error"
   ]
  },
  {
   "cell_type": "code",
   "execution_count": 2,
   "metadata": {
    "collapsed": true
   },
   "outputs": [],
   "source": [
    "def rmse(y_true, y_pred):\n",
    "    return np.sqrt(mean_squared_error(y_true, y_pred))"
   ]
  },
  {
   "cell_type": "code",
   "execution_count": 3,
   "metadata": {
    "collapsed": true
   },
   "outputs": [],
   "source": [
    "def load_data():\n",
    "    train = pd.read_csv('../input/train.csv')\n",
    "    test = pd.read_csv('../input/test.csv')\n",
    "    combined = train.append(test, ignore_index=True).drop(['Id','SalePrice'], axis=1)\n",
    "    \n",
    "    #drop columns\n",
    "    combined.drop(['Utilities'], axis=1, inplace=True)\n",
    "    \n",
    "    #categorical columns\n",
    "    all_cat = combined.dtypes[combined.dtypes == 'object'].index\n",
    "    \n",
    "    #ordered categorical columns\n",
    "    ordered_cat = {\n",
    "    \"GarageQual\": [\"Po\", \"Fa\", \"TA\", \"Gd\", \"Ex\"],\n",
    "    \"BsmtQual\": [\"Fa\", \"TA\", \"Gd\", \"Ex\"],\n",
    "    \"GarageCond\": [\"Po\", \"Fa\", \"TA\", \"Gd\", \"Ex\"],\n",
    "    \"BsmtCond\": [\"Po\", \"Fa\", \"TA\", \"Gd\"],\n",
    "    \"HeatingQC\": [\"Po\", \"Fa\", \"TA\", \"Gd\", \"Ex\"],\n",
    "    \"FireplaceQu\": [\"Po\", \"Fa\", \"TA\", \"Gd\", \"Ex\"],\n",
    "    \"KitchenQual\": [\"Fa\", \"TA\", \"Gd\", \"Ex\"],\n",
    "    \"ExterQual\": [\"Fa\", \"TA\", \"Gd\", \"Ex\"],\n",
    "    \"ExterCond\": [\"Po\", \"Fa\", \"TA\", \"Gd\", \"Ex\"],\n",
    "    \"PoolQC\": [\"Fa\", \"Gd\", \"Ex\"],\n",
    "    \"CentralAir\": [\"N\", \"Y\"],\n",
    "    #\"Utilities\": [\"NoSeWa\", \"AllPub\"],\n",
    "    \"GarageFinish\": [\"Unf\", \"RFn\", \"Fin\"],\n",
    "    \"PavedDrive\": [\"N\", \"P\", \"Y\"],\n",
    "    \"Electrical\": [\"Mix\", \"FuseP\", \"FuseF\", \"FuseA\", \"SBrkr\"],\n",
    "    \"Fence\": [\"MnWw\", \"GdWo\", \"MnPrv\", \"GdPrv\"],\n",
    "    \"BsmtFinType1\": [\"Unf\", \"LwQ\", \"Rec\", \"BLQ\", \"ALQ\", \"GLQ\"],\n",
    "    \"BsmtFinType2\": [\"Unf\", \"LwQ\", \"Rec\", \"BLQ\", \"ALQ\", \"GLQ\"],\n",
    "    \"BsmtExposure\": [\"No\", \"Mn\", \"Av\", \"Gd\"],\n",
    "    \"LotShape\": [\"IR3\", \"IR2\", \"IR1\", \"Reg\"],\n",
    "    \"Alley\": [\"Grvl\", \"Pave\"],\n",
    "    \"Street\": [\"Grvl\", \"Pave\"]}\n",
    "    \n",
    "    #unordered categorical columns\n",
    "    unordered_cat = list(set(all_cat) - set(ordered_cat))\n",
    "    \n",
    "    #convert ordered categorical to integers\n",
    "    for c in ordered_cat.keys():\n",
    "        combined[c] = combined[c].astype('category', categories=ordered_cat[c], ordered=True).cat.codes\n",
    "\n",
    "    #convert remaining unordered categorical to dummy columns        \n",
    "    combined = pd.get_dummies(combined)\n",
    "    \n",
    "    #combined = combined.fillna(combined.mean())\n",
    "    \n",
    "    y = np.log(train['SalePrice'].values)\n",
    "    X = combined.iloc[:train.shape[0],:]\n",
    "    X_submission = combined.iloc[train.shape[0]:,:]\n",
    "    ids_submission = test['Id'].values\n",
    "    return y, X, X_submission, ids_submission"
   ]
  },
  {
   "cell_type": "code",
   "execution_count": 4,
   "metadata": {
    "collapsed": true
   },
   "outputs": [],
   "source": [
    "# load data\n",
    "y, X, X_submission, ids_submission = load_data()"
   ]
  },
  {
   "cell_type": "code",
   "execution_count": 5,
   "metadata": {
    "collapsed": false
   },
   "outputs": [],
   "source": [
    "parameters = {'max_depth': [5,7,9,11,13,15],\n",
    "              'learning_rate': [0.5, 0.1, 0.2, 0.3],\n",
    "              'n_estimators': [100],\n",
    "              'min_child_weight': [1,2,4,8],\n",
    "              'subsample': [0.4, 0.6, 0.8],\n",
    "              'colsample_bytree': [0.4, 0.6, 0.8]}\n",
    "\n",
    "model = RandomizedSearchCV(XGBRegressor(silent = True, objective='reg:linear', nthread=4, seed = 1337),\n",
    "                           parameters, \n",
    "                           n_iter=60, \n",
    "                           random_state=1773,\n",
    "                           scoring=make_scorer(rmse, greater_is_better=False), \n",
    "                           cv=KFold(10, random_state=1773))"
   ]
  },
  {
   "cell_type": "code",
   "execution_count": 6,
   "metadata": {
    "collapsed": false
   },
   "outputs": [
    {
     "name": "stdout",
     "output_type": "stream",
     "text": [
      "CPU times: user 13min 32s, sys: 7.8 s, total: 13min 40s\n",
      "Wall time: 3min 30s\n"
     ]
    },
    {
     "data": {
      "text/plain": [
       "RandomizedSearchCV(cv=KFold(n_splits=10, random_state=1773, shuffle=False),\n",
       "          error_score='raise',\n",
       "          estimator=XGBRegressor(base_score=0.5, colsample_bylevel=1, colsample_bytree=1, gamma=0,\n",
       "       learning_rate=0.1, max_delta_step=0, max_depth=3,\n",
       "       min_child_weight=1, missing=None, n_estimators=100, nthread=4,\n",
       "       objective='reg:linear', reg_alpha=0, reg_lambda=1,\n",
       "       scale_pos_weight=1, seed=1337, silent=True, subsample=1),\n",
       "          fit_params={}, iid=True, n_iter=60, n_jobs=1,\n",
       "          param_distributions={'colsample_bytree': [0.4, 0.6, 0.8], 'learning_rate': [0.5, 0.1, 0.2, 0.3], 'min_child_weight': [1, 2, 4, 8], 'n_estimators': [100], 'subsample': [0.4, 0.6, 0.8], 'max_depth': [5, 7, 9, 11, 13, 15]},\n",
       "          pre_dispatch='2*n_jobs', random_state=1773, refit=True,\n",
       "          return_train_score=True,\n",
       "          scoring=make_scorer(rmse, greater_is_better=False), verbose=0)"
      ]
     },
     "execution_count": 6,
     "metadata": {},
     "output_type": "execute_result"
    }
   ],
   "source": [
    "%%time\n",
    "model.fit(X,y)"
   ]
  },
  {
   "cell_type": "code",
   "execution_count": null,
   "metadata": {
    "collapsed": true
   },
   "outputs": [],
   "source": [
    "#-0.120212531158"
   ]
  },
  {
   "cell_type": "code",
   "execution_count": 7,
   "metadata": {
    "collapsed": false
   },
   "outputs": [
    {
     "name": "stdout",
     "output_type": "stream",
     "text": [
      "best score: -0.120212531158\n",
      "best parameters: {'colsample_bytree': 0.6, 'learning_rate': 0.1, 'min_child_weight': 2, 'n_estimators': 100, 'subsample': 0.6, 'max_depth': 5}\n"
     ]
    }
   ],
   "source": [
    "print 'best score:', model.best_score_\n",
    "print 'best parameters:', model.best_params_"
   ]
  },
  {
   "cell_type": "code",
   "execution_count": null,
   "metadata": {
    "collapsed": true
   },
   "outputs": [],
   "source": [
    "# create submission predictions\n",
    "preds_submission = model.predict(X_submission)\n",
    "\n",
    "# save submission\n",
    "pd.DataFrame({'Id': ids_submission, 'SalePrice': np.exp(preds_submission)})\\\n",
    "  .to_csv('../output/07_randomsearch_XGB.csv', index=False)"
   ]
  },
  {
   "cell_type": "code",
   "execution_count": null,
   "metadata": {
    "collapsed": false
   },
   "outputs": [],
   "source": [
    "%matplotlib inline\n",
    "import matplotlib.pyplot as plt\n",
    "\n",
    "plt.plot(np.sort(model.cv_results_['mean_test_score']));"
   ]
  }
 ],
 "metadata": {
  "anaconda-cloud": {},
  "kernelspec": {
   "display_name": "Python [Root]",
   "language": "python",
   "name": "Python [Root]"
  },
  "language_info": {
   "codemirror_mode": {
    "name": "ipython",
    "version": 2
   },
   "file_extension": ".py",
   "mimetype": "text/x-python",
   "name": "python",
   "nbconvert_exporter": "python",
   "pygments_lexer": "ipython2",
   "version": "2.7.12"
  }
 },
 "nbformat": 4,
 "nbformat_minor": 0
}
