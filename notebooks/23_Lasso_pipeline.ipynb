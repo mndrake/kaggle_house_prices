{
 "cells": [
  {
   "cell_type": "code",
   "execution_count": 2,
   "metadata": {
    "collapsed": false
   },
   "outputs": [
    {
     "name": "stderr",
     "output_type": "stream",
     "text": [
      "/Users/dave/.pyenv/versions/anaconda-2.4.0/lib/python2.7/site-packages/matplotlib/font_manager.py:273: UserWarning: Matplotlib is building the font cache using fc-list. This may take a moment.\n",
      "  warnings.warn('Matplotlib is building the font cache using fc-list. This may take a moment.')\n"
     ]
    }
   ],
   "source": [
    "%matplotlib inline\n",
    "import pandas as pd\n",
    "import numpy as np\n",
    "from sklearn.linear_model import Lasso, ElasticNet\n",
    "from sklearn.ensemble import GradientBoostingRegressor\n",
    "from sklearn.model_selection import KFold, RandomizedSearchCV, GridSearchCV\n",
    "from sklearn.metrics import make_scorer, mean_squared_error\n",
    "from sklearn.pipeline import make_pipeline, Pipeline, BaseEstimator, TransformerMixin\n",
    "from sklearn.preprocessing import Imputer, RobustScaler, StandardScaler, KernelCenterer, Normalizer\n",
    "from sklearn.decomposition import PCA"
   ]
  },
  {
   "cell_type": "code",
   "execution_count": 3,
   "metadata": {
    "collapsed": true
   },
   "outputs": [],
   "source": [
    "def rmse(y_true, y_pred):\n",
    "    return np.sqrt(mean_squared_error(y_true, y_pred))"
   ]
  },
  {
   "cell_type": "code",
   "execution_count": 17,
   "metadata": {
    "collapsed": false
   },
   "outputs": [],
   "source": [
    "class ProcessDataFrame(BaseEstimator, TransformerMixin):\n",
    "    def fit(self, X, y=None):\n",
    "        return self\n",
    "    def transform(self, X, y=None):\n",
    "        X_result = X.copy().drop(['Id'], axis=1)\n",
    "        ordered_levels = {\n",
    "            \"Alley\": [\"Grvl\", \"Pave\"],\n",
    "            \"BsmtCond\": [\"Po\", \"Fa\", \"TA\", \"Gd\"],\n",
    "            \"BsmtExposure\": [\"No\", \"Mn\", \"Av\", \"Gd\"],\n",
    "            \"BsmtFinType1\": [\"Unf\", \"LwQ\", \"Rec\", \"BLQ\", \"ALQ\", \"GLQ\"],\n",
    "            \"BsmtFinType2\": [\"Unf\", \"LwQ\", \"Rec\", \"BLQ\", \"ALQ\", \"GLQ\"],\n",
    "            \"BsmtQual\": [\"Fa\", \"TA\", \"Gd\", \"Ex\"],\n",
    "            \"CentralAir\": [\"N\", \"Y\"],\n",
    "            \"Electrical\": [\"Mix\", \"FuseP\", \"FuseF\", \"FuseA\", \"SBrkr\"],\n",
    "            \"ExterCond\": [\"Po\", \"Fa\", \"TA\", \"Gd\", \"Ex\"],\n",
    "            \"ExterQual\": [\"Fa\", \"TA\", \"Gd\", \"Ex\"],\n",
    "            \"Fence\": [\"MnWw\", \"GdWo\", \"MnPrv\", \"GdPrv\"],\n",
    "            \"FireplaceQu\": [\"Po\", \"Fa\", \"TA\", \"Gd\", \"Ex\"],\n",
    "            'Functional': ['Sev', 'Maj2', 'Maj1', 'Mod', 'Min2', 'Min1', 'Typ'],\n",
    "            \"GarageCond\": [\"Po\", \"Fa\", \"TA\", \"Gd\", \"Ex\"],\n",
    "            \"GarageFinish\": [\"Unf\", \"RFn\", \"Fin\"],\n",
    "            \"GarageQual\": [\"Po\", \"Fa\", \"TA\", \"Gd\", \"Ex\"],\n",
    "            \"HeatingQC\": [\"Po\", \"Fa\", \"TA\", \"Gd\", \"Ex\"],\n",
    "            \"KitchenQual\": [\"Fa\", \"TA\", \"Gd\", \"Ex\"],\n",
    "            \"LotShape\": [\"IR3\", \"IR2\", \"IR1\", \"Reg\"],\n",
    "            \"PavedDrive\": [\"N\", \"P\", \"Y\"],\n",
    "            \"PoolQC\": [\"Fa\", \"Gd\", \"Ex\"],\n",
    "            \"Street\": [\"Grvl\", \"Pave\"],   \n",
    "            \"Utilities\": [\"NoSeWa\", \"AllPub\"]\n",
    "        }\n",
    "        \n",
    "        unordered_levels = {\n",
    "            \"Alley\": [\"Grvl\", \"Pave\"],\n",
    "            \"BsmtCond\": [\"Po\", \"Fa\", \"TA\", \"Gd\"],\n",
    "            \"BsmtExposure\": [\"No\", \"Mn\", \"Av\", \"Gd\"],\n",
    "            \"BsmtFinType1\": [\"Unf\", \"LwQ\", \"Rec\", \"BLQ\", \"ALQ\", \"GLQ\"],\n",
    "            \"BsmtFinType2\": [\"Unf\", \"LwQ\", \"Rec\", \"BLQ\", \"ALQ\", \"GLQ\"],\n",
    "            \"BsmtQual\": [\"Fa\", \"TA\", \"Gd\", \"Ex\"],\n",
    "            \"CentralAir\": [\"N\", \"Y\"],\n",
    "            \"Electrical\": [\"Mix\", \"FuseP\", \"FuseF\", \"FuseA\", \"SBrkr\"],\n",
    "            \"ExterCond\": [\"Po\", \"Fa\", \"TA\", \"Gd\", \"Ex\"],\n",
    "            \"ExterQual\": [\"Fa\", \"TA\", \"Gd\", \"Ex\"],\n",
    "            \"Fence\": [\"MnWw\", \"GdWo\", \"MnPrv\", \"GdPrv\"],\n",
    "            \"FireplaceQu\": [\"Po\", \"Fa\", \"TA\", \"Gd\", \"Ex\"],\n",
    "            'Functional': ['Sev', 'Maj2', 'Maj1', 'Mod', 'Min2', 'Min1', 'Typ'],\n",
    "            \"GarageCond\": [\"Po\", \"Fa\", \"TA\", \"Gd\", \"Ex\"],\n",
    "            \"GarageFinish\": [\"Unf\", \"RFn\", \"Fin\"],\n",
    "            \"GarageQual\": [\"Po\", \"Fa\", \"TA\", \"Gd\", \"Ex\"],\n",
    "            \"HeatingQC\": [\"Po\", \"Fa\", \"TA\", \"Gd\", \"Ex\"],\n",
    "            \"KitchenQual\": [\"Fa\", \"TA\", \"Gd\", \"Ex\"],\n",
    "            \"LotShape\": [\"IR3\", \"IR2\", \"IR1\", \"Reg\"],\n",
    "            \"PavedDrive\": [\"N\", \"P\", \"Y\"],\n",
    "            \"PoolQC\": [\"Fa\", \"Gd\", \"Ex\"],\n",
    "            \"Street\": [\"Grvl\", \"Pave\"],   \n",
    "            \"Utilities\": [\"NoSeWa\", \"AllPub\"],\n",
    "            'BldgType': ['1Fam', '2fmCon', 'Duplex', 'TwnhsE', 'Twnhs'],\n",
    "            'Condition1': ['Norm', 'Feedr', 'PosN', 'Artery', 'RRAe', 'RRNn', 'RRAn', 'PosA', 'RRNe'],\n",
    "            'Condition2': ['Norm', 'Artery', 'RRNn', 'Feedr', 'PosN', 'PosA', 'RRAn', 'RRAe'],\n",
    "            'Exterior1st': ['VinylSd', 'MetalSd', 'Wd Sdng', 'HdBoard', 'BrkFace', 'WdShing', 'CemntBd', 'Plywood', \n",
    "                            'AsbShng','Stucco', 'BrkComm', 'AsphShn', 'Stone', 'ImStucc', 'CBlock'],\n",
    "            'Exterior2nd': ['VinylSd', 'MetalSd', 'Wd Shng', 'HdBoard', 'Plywood', 'Wd Sdng', 'CmentBd', 'BrkFace', \n",
    "                            'Stucco', 'AsbShng', 'Brk Cmn', 'ImStucc', 'AsphShn', 'Stone', 'Other', 'CBlock'],\n",
    "            'Foundation': ['PConc', 'CBlock', 'BrkTil', 'Wood', 'Slab', 'Stone'],\n",
    "            'GarageType': ['Attchd', 'Detchd', 'BuiltIn', 'CarPort', 'Basment', '2Types'],\n",
    "            'Heating': ['GasA', 'GasW', 'Grav', 'Wall', 'OthW', 'Floor'],\n",
    "            'HouseStyle': ['2Story', '1Story', '1.5Fin', '1.5Unf', 'SFoyer', 'SLvl', '2.5Unf', '2.5Fin'],\n",
    "            'LandContour': ['Lvl', 'Bnk', 'Low', 'HLS'],\n",
    "            'LandSlope': ['Sev', 'Mod', 'Gtl'],\n",
    "            'LotConfig': ['Inside', 'FR2', 'Corner', 'CulDSac', 'FR3'],\n",
    "            'MSZoning': ['RL', 'RM', 'C (all)', 'FV', 'RH'],\n",
    "            'MasVnrType': ['BrkFace', 'None', 'Stone', 'BrkCmn'],\n",
    "            'MiscFeature': ['Shed', 'Gar2', 'Othr', 'TenC'],\n",
    "            'Neighborhood': ['CollgCr', 'Veenker', 'Crawfor', 'NoRidge', 'Mitchel', 'Somerst', 'NWAmes', \n",
    "                             'OldTown', 'BrkSide', 'Sawyer', 'NridgHt', 'NAmes', 'SawyerW', 'IDOTRR', \n",
    "                             'MeadowV', 'Edwards', 'Timber', 'Gilbert', 'StoneBr', 'ClearCr', 'NPkVill', \n",
    "                             'Blmngtn', 'BrDale', 'SWISU', 'Blueste'],\n",
    "            'RoofMatl': ['CompShg', 'WdShngl', 'Metal', 'WdShake', 'Membran', 'Tar&Grv', 'Roll', 'ClyTile'],\n",
    "            'RoofStyle': ['Gable', 'Hip', 'Gambrel', 'Mansard', 'Flat', 'Shed'],\n",
    "            'SaleCondition': ['Normal', 'Abnorml', 'Partial', 'AdjLand', 'Alloca', 'Family'],\n",
    "            'SaleType': ['WD', 'New', 'COD', 'ConLD', 'ConLI', 'CWD', 'ConLw', 'Con', 'Oth']}\n",
    "        \n",
    "        X_result[\"HasFireplace\"] = X_result[\"FireplaceQu\"].isnull() * 1\n",
    "        \n",
    "        # skewed columns (>0.75)\n",
    "        for c in ['LotFrontage', 'LotArea', 'MasVnrArea', 'BsmtFinSF2', '1stFlrSF', 'GrLivArea', 'KitchenAbvGr',\n",
    "                  'OpenPorchSF', 'PoolArea', 'MiscVal']:\n",
    "            X_result[c] = np.log1p(X_result[c])\n",
    "        \n",
    "## MSSubClass     \n",
    "## BsmtFinSF1\n",
    "## BsmtUnfSF \n",
    "## TotalBsmtSF \n",
    "## 2ndFlrSF\n",
    "## LowQualFinSF \n",
    "## BsmtHalfBath \n",
    "## WoodDeckSF \n",
    "## EnclosedPorch \n",
    "## 3SsnPorch\n",
    "## ScreenPorch \n",
    "\n",
    "        \n",
    "        for c in X_result.columns:\n",
    "            #convert ordered categorical to integers\n",
    "            if c in ordered_levels:\n",
    "                X_result[c] = X_result[c].astype('category', categories=ordered_levels[c], ordered=True).cat.codes\n",
    "            #apply levels to unordered categorical columns\n",
    "            if c in unordered_levels:\n",
    "                X_result[c] = X_result[c].astype('category', categories=unordered_levels[c])\n",
    "        \n",
    "        #convert unordered categorical to dummy columns        \n",
    "        X_result = pd.get_dummies(X_result)\n",
    "        return X_result\n",
    "    \n",
    "    def fit_transform(self, X, y=None):\n",
    "        result = self.transform(X)\n",
    "        return result"
   ]
  },
  {
   "cell_type": "code",
   "execution_count": 18,
   "metadata": {
    "collapsed": true
   },
   "outputs": [],
   "source": [
    "def load_data():\n",
    "    train = pd.read_csv('../input/train.csv')\n",
    "    test = pd.read_csv('../input/test.csv')            \n",
    "    y = np.log(train['SalePrice'].values)\n",
    "    X = train.drop(['SalePrice'], axis=1)\n",
    "    X_submission = test\n",
    "    ids_submission = test['Id'].values\n",
    "    return y, X, X_submission, ids_submission"
   ]
  },
  {
   "cell_type": "code",
   "execution_count": 19,
   "metadata": {
    "collapsed": false
   },
   "outputs": [],
   "source": [
    "# load data\n",
    "y, X, X_submission, ids_submission = load_data()"
   ]
  },
  {
   "cell_type": "code",
   "execution_count": 20,
   "metadata": {
    "collapsed": false
   },
   "outputs": [],
   "source": [
    "# parameters = {\n",
    "#      'gradientboostingregressor__learning_rate': [0.1],\n",
    "#      'gradientboostingregressor__max_depth': [4],\n",
    "#      'gradientboostingregressor__max_features': [0.7],\n",
    "#      'gradientboostingregressor__min_samples_leaf': [1],\n",
    "#      'gradientboostingregressor__min_samples_split': [2],\n",
    "#      'gradientboostingregressor__n_estimators': [250],\n",
    "#      'gradientboostingregressor__subsample': [0.75],\n",
    "# }\n",
    "\n",
    "parameters = {\n",
    "    'lasso__alpha': [0.0008, 0.0009],\n",
    "    'lasso__l1_ratio': [0.4, 0.45, 0.5]\n",
    "#     'estimator__lasso__copy_X': True,\n",
    "#     'estimator__lasso__fit_intercept': True,\n",
    "#     'estimator__lasso__max_iter': 1000,\n",
    "#     'estimator__lasso__normalize': False,\n",
    "#     'estimator__lasso__positive': False,\n",
    "#     'estimator__lasso__precompute': False,\n",
    "#     'estimator__lasso__random_state': 1773,\n",
    "#     'estimator__lasso__selection': 'cyclic',\n",
    "#     'estimator__lasso__tol': 0.0001,\n",
    "#     'estimator__lasso__warm_start': False\n",
    "}\n",
    "\n",
    "pipeline = Pipeline([('process', ProcessDataFrame()),\n",
    "                     ('impute', Imputer(strategy='most_frequent')),\n",
    "                     ('scaler', KernelCenterer()),                    \n",
    "                     ('lasso', ElasticNet(random_state=1773, max_iter=10000))])\n",
    "#0.0005\n",
    "#RobustScaler, StandardScaler, KernelCenterer, Normalizer\n",
    "\n",
    "folds = KFold(10, random_state=42)\n",
    "\n",
    "model = GridSearchCV(pipeline,\n",
    "                     parameters,\n",
    "                     \n",
    "                     #n_iter=60, \n",
    "                     #random_state=1773,\n",
    "                     scoring=make_scorer(rmse, greater_is_better=False), \n",
    "                     cv=folds, n_jobs=4)"
   ]
  },
  {
   "cell_type": "code",
   "execution_count": 21,
   "metadata": {
    "collapsed": false
   },
   "outputs": [
    {
     "data": {
      "text/plain": [
       "{'impute': Imputer(axis=0, copy=True, missing_values='NaN', strategy='most_frequent',\n",
       "     verbose=0),\n",
       " 'impute__axis': 0,\n",
       " 'impute__copy': True,\n",
       " 'impute__missing_values': 'NaN',\n",
       " 'impute__strategy': 'most_frequent',\n",
       " 'impute__verbose': 0,\n",
       " 'lasso': ElasticNet(alpha=1.0, copy_X=True, fit_intercept=True, l1_ratio=0.5,\n",
       "       max_iter=10000, normalize=False, positive=False, precompute=False,\n",
       "       random_state=1773, selection='cyclic', tol=0.0001, warm_start=False),\n",
       " 'lasso__alpha': 1.0,\n",
       " 'lasso__copy_X': True,\n",
       " 'lasso__fit_intercept': True,\n",
       " 'lasso__l1_ratio': 0.5,\n",
       " 'lasso__max_iter': 10000,\n",
       " 'lasso__normalize': False,\n",
       " 'lasso__positive': False,\n",
       " 'lasso__precompute': False,\n",
       " 'lasso__random_state': 1773,\n",
       " 'lasso__selection': 'cyclic',\n",
       " 'lasso__tol': 0.0001,\n",
       " 'lasso__warm_start': False,\n",
       " 'process': ProcessDataFrame(),\n",
       " 'scaler': KernelCenterer(),\n",
       " 'steps': [('process', ProcessDataFrame()),\n",
       "  ('impute',\n",
       "   Imputer(axis=0, copy=True, missing_values='NaN', strategy='most_frequent',\n",
       "       verbose=0)),\n",
       "  ('scaler', KernelCenterer()),\n",
       "  ('lasso',\n",
       "   ElasticNet(alpha=1.0, copy_X=True, fit_intercept=True, l1_ratio=0.5,\n",
       "         max_iter=10000, normalize=False, positive=False, precompute=False,\n",
       "         random_state=1773, selection='cyclic', tol=0.0001, warm_start=False))]}"
      ]
     },
     "execution_count": 21,
     "metadata": {},
     "output_type": "execute_result"
    }
   ],
   "source": [
    "pipeline.get_params()"
   ]
  },
  {
   "cell_type": "code",
   "execution_count": 22,
   "metadata": {
    "collapsed": true
   },
   "outputs": [],
   "source": [
    "#from scipy.stats import skew"
   ]
  },
  {
   "cell_type": "code",
   "execution_count": 23,
   "metadata": {
    "collapsed": false
   },
   "outputs": [],
   "source": [
    "# for c in X.columns:\n",
    "#     if X[c].dtype != 'object':\n",
    "#         xs = np.abs(skew(X[c], nan_policy='omit'))\n",
    "#         if xs > 0.75:\n",
    "#             print c"
   ]
  },
  {
   "cell_type": "code",
   "execution_count": 24,
   "metadata": {
    "collapsed": true
   },
   "outputs": [],
   "source": [
    "#-0.123892361064"
   ]
  },
  {
   "cell_type": "code",
   "execution_count": 25,
   "metadata": {
    "collapsed": false
   },
   "outputs": [
    {
     "name": "stdout",
     "output_type": "stream",
     "text": [
      "best score: -0.128521033837\n",
      "best parameters: {'lasso__l1_ratio': 0.4, 'lasso__alpha': 0.0009}\n",
      "CPU times: user 3.69 s, sys: 225 ms, total: 3.91 s\n",
      "Wall time: 1min 10s\n"
     ]
    }
   ],
   "source": [
    "%%time\n",
    "model.fit(X,y);\n",
    "print 'best score:', model.best_score_\n",
    "print 'best parameters:', model.best_params_"
   ]
  },
  {
   "cell_type": "code",
   "execution_count": null,
   "metadata": {
    "collapsed": true
   },
   "outputs": [],
   "source": []
  }
 ],
 "metadata": {
  "anaconda-cloud": {},
  "kernelspec": {
   "display_name": "Python [Root]",
   "language": "python",
   "name": "Python [Root]"
  },
  "language_info": {
   "codemirror_mode": {
    "name": "ipython",
    "version": 2
   },
   "file_extension": ".py",
   "mimetype": "text/x-python",
   "name": "python",
   "nbconvert_exporter": "python",
   "pygments_lexer": "ipython2",
   "version": "2.7.12"
  }
 },
 "nbformat": 4,
 "nbformat_minor": 0
}
