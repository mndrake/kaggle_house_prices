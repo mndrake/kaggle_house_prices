{
 "cells": [
  {
   "cell_type": "code",
   "execution_count": 421,
   "metadata": {
    "collapsed": false
   },
   "outputs": [],
   "source": [
    "import pandas as pd\n",
    "import numpy as np\n",
    "from sklearn.feature_selection import RFECV\n",
    "from xgboost import XGBRegressor\n",
    "from sklearn.linear_model import ElasticNet\n",
    "from sklearn.feature_selection import VarianceThreshold\n",
    "from sklearn.model_selection import KFold, RandomizedSearchCV, GridSearchCV\n",
    "from sklearn.metrics import make_scorer, mean_squared_error\n",
    "from sklearn.pipeline import Pipeline, make_pipeline, BaseEstimator, TransformerMixin\n",
    "from sklearn.preprocessing import Imputer\n",
    "from scipy.stats import skew, boxcox"
   ]
  },
  {
   "cell_type": "code",
   "execution_count": 422,
   "metadata": {
    "collapsed": true
   },
   "outputs": [],
   "source": [
    "def rmse(y_true, y_pred):\n",
    "    return np.sqrt(mean_squared_error(y_true, y_pred))"
   ]
  },
  {
   "cell_type": "code",
   "execution_count": 425,
   "metadata": {
    "collapsed": true
   },
   "outputs": [],
   "source": [
    "class ProcessDataFrame(BaseEstimator, TransformerMixin):\n",
    "    def __init__(self):\n",
    "        return self\n",
    "    def fit(self, X, y=None):\n",
    "        return self\n",
    "    def transform(self, X, y=None):\n",
    "        X_result = X.copy()\n",
    "        ordered_levels = {\n",
    "            \"Alley\": [\"Grvl\", \"Pave\"],\n",
    "            \"BsmtCond\": [\"Po\", \"Fa\", \"TA\", \"Gd\"],\n",
    "            \"BsmtExposure\": [\"No\", \"Mn\", \"Av\", \"Gd\"],\n",
    "            \"BsmtFinType1\": [\"Unf\", \"LwQ\", \"Rec\", \"BLQ\", \"ALQ\", \"GLQ\"],\n",
    "            \"BsmtFinType2\": [\"Unf\", \"LwQ\", \"Rec\", \"BLQ\", \"ALQ\", \"GLQ\"],\n",
    "            \"BsmtQual\": [\"Fa\", \"TA\", \"Gd\", \"Ex\"],\n",
    "            \"CentralAir\": [\"N\", \"Y\"],\n",
    "            \"Electrical\": [\"Mix\", \"FuseP\", \"FuseF\", \"FuseA\", \"SBrkr\"],\n",
    "            \"ExterCond\": [\"Po\", \"Fa\", \"TA\", \"Gd\", \"Ex\"],\n",
    "            \"ExterQual\": [\"Fa\", \"TA\", \"Gd\", \"Ex\"],\n",
    "            \"Fence\": [\"MnWw\", \"GdWo\", \"MnPrv\", \"GdPrv\"],\n",
    "            \"FireplaceQu\": [\"Po\", \"Fa\", \"TA\", \"Gd\", \"Ex\"],\n",
    "            \"GarageCond\": [\"Po\", \"Fa\", \"TA\", \"Gd\", \"Ex\"],\n",
    "            \"GarageFinish\": [\"Unf\", \"RFn\", \"Fin\"],\n",
    "            \"GarageQual\": [\"Po\", \"Fa\", \"TA\", \"Gd\", \"Ex\"],\n",
    "            \"HeatingQC\": [\"Po\", \"Fa\", \"TA\", \"Gd\", \"Ex\"],\n",
    "            \"KitchenQual\": [\"Fa\", \"TA\", \"Gd\", \"Ex\"],\n",
    "            \"LotShape\": [\"IR3\", \"IR2\", \"IR1\", \"Reg\"],\n",
    "            \"PavedDrive\": [\"N\", \"P\", \"Y\"],\n",
    "            \"PoolQC\": [\"Fa\", \"Gd\", \"Ex\"],\n",
    "            \"Street\": [\"Grvl\", \"Pave\"],   \n",
    "            \"Utilities\": [\"NoSeWa\", \"AllPub\"]}\n",
    "\n",
    "        unordered_levels = {\n",
    "            'BldgType': ['1Fam', '2fmCon', 'Duplex', 'TwnhsE', 'Twnhs'],\n",
    "            'Condition1': ['Norm', 'Feedr', 'PosN', 'Artery', 'RRAe', 'RRNn', 'RRAn', 'PosA', 'RRNe'],\n",
    "            'Condition2': ['Norm', 'Artery', 'RRNn', 'Feedr', 'PosN', 'PosA', 'RRAn', 'RRAe'],\n",
    "            'Exterior1st': ['VinylSd', 'MetalSd', 'Wd Sdng', 'HdBoard', 'BrkFace', 'WdShing', 'CemntBd', 'Plywood', \n",
    "                            'AsbShng','Stucco', 'BrkComm', 'AsphShn', 'Stone', 'ImStucc', 'CBlock'],\n",
    "            'Exterior2nd': ['VinylSd', 'MetalSd', 'Wd Shng', 'HdBoard', 'Plywood', 'Wd Sdng', 'CmentBd', 'BrkFace', \n",
    "                            'Stucco', 'AsbShng', 'Brk Cmn', 'ImStucc', 'AsphShn', 'Stone', 'Other', 'CBlock'],\n",
    "            'Foundation': ['PConc', 'CBlock', 'BrkTil', 'Wood', 'Slab', 'Stone'],\n",
    "            'Functional': ['Typ', 'Min1', 'Maj1', 'Min2', 'Mod', 'Maj2', 'Sev'],\n",
    "            'GarageType': ['Attchd', 'Detchd', 'BuiltIn', 'CarPort', 'Basment', '2Types'],\n",
    "            'Heating': ['GasA', 'GasW', 'Grav', 'Wall', 'OthW', 'Floor'],\n",
    "            'HouseStyle': ['2Story', '1Story', '1.5Fin', '1.5Unf', 'SFoyer', 'SLvl', '2.5Unf', '2.5Fin'],\n",
    "            'LandContour': ['Lvl', 'Bnk', 'Low', 'HLS'],\n",
    "            'LandSlope': ['Gtl', 'Mod', 'Sev'],\n",
    "            'LotConfig': ['Inside', 'FR2', 'Corner', 'CulDSac', 'FR3'],\n",
    "            'MSZoning': ['RL', 'RM', 'C (all)', 'FV', 'RH'],\n",
    "            'MasVnrType': ['BrkFace', 'None', 'Stone', 'BrkCmn'],\n",
    "            'MiscFeature': ['Shed', 'Gar2', 'Othr', 'TenC'],\n",
    "            'Neighborhood': ['CollgCr', 'Veenker', 'Crawfor', 'NoRidge', 'Mitchel', 'Somerst', 'NWAmes', \n",
    "                             'OldTown', 'BrkSide', 'Sawyer', 'NridgHt', 'NAmes', 'SawyerW', 'IDOTRR', \n",
    "                             'MeadowV', 'Edwards', 'Timber', 'Gilbert', 'StoneBr', 'ClearCr', 'NPkVill', \n",
    "                             'Blmngtn', 'BrDale', 'SWISU', 'Blueste'],\n",
    "            'RoofMatl': ['CompShg', 'WdShngl', 'Metal', 'WdShake', 'Membran', 'Tar&Grv', 'Roll', 'ClyTile'],\n",
    "            'RoofStyle': ['Gable', 'Hip', 'Gambrel', 'Mansard', 'Flat', 'Shed'],\n",
    "            'SaleCondition': ['Normal', 'Abnorml', 'Partial', 'AdjLand', 'Alloca', 'Family'],\n",
    "            'SaleType': ['WD', 'New', 'COD', 'ConLD', 'ConLI', 'CWD', 'ConLw', 'Con', 'Oth']}\n",
    "        \n",
    "        #convert ordered categorical to integers\n",
    "        for c in ordered_levels.keys():\n",
    "            X_result[c] = X_result[c].astype('category', categories=ordered_levels[c], ordered=True).cat.codes\n",
    "        \n",
    "        #convert remaining unordered categorical to dummy columns        \n",
    "        X_result = pd.get_dummies(X_result)\n",
    "        return X_result"
   ]
  },
  {
   "cell_type": "code",
   "execution_count": 410,
   "metadata": {
    "collapsed": true
   },
   "outputs": [],
   "source": [
    "def load_data():\n",
    "    train = pd.read_csv('../input/train.csv')\n",
    "    test = pd.read_csv('../input/test.csv')\n",
    "    combined = train.append(test, ignore_index=True).drop(['Id','SalePrice'], axis=1)\n",
    "        \n",
    "    #categorical columns\n",
    "    all_cat = combined.dtypes[combined.dtypes == 'object'].index\n",
    "        \n",
    "    #ordered categorical columns\n",
    "    ordered_cat = {\n",
    "    \"GarageQual\": [\"Po\", \"Fa\", \"TA\", \"Gd\", \"Ex\"],\n",
    "    \"BsmtQual\": [\"Fa\", \"TA\", \"Gd\", \"Ex\"],\n",
    "    \"GarageCond\": [\"Po\", \"Fa\", \"TA\", \"Gd\", \"Ex\"],\n",
    "    \"BsmtCond\": [\"Po\", \"Fa\", \"TA\", \"Gd\"],\n",
    "    \"HeatingQC\": [\"Po\", \"Fa\", \"TA\", \"Gd\", \"Ex\"],\n",
    "    \"FireplaceQu\": [\"Po\", \"Fa\", \"TA\", \"Gd\", \"Ex\"],\n",
    "    \"KitchenQual\": [\"Fa\", \"TA\", \"Gd\", \"Ex\"],\n",
    "    \"ExterQual\": [\"Fa\", \"TA\", \"Gd\", \"Ex\"],\n",
    "    \"ExterCond\": [\"Po\", \"Fa\", \"TA\", \"Gd\", \"Ex\"],\n",
    "    \"PoolQC\": [\"Fa\", \"Gd\", \"Ex\"],\n",
    "    \"CentralAir\": [\"N\", \"Y\"],\n",
    "    \"Utilities\": [\"NoSeWa\", \"AllPub\"],\n",
    "    \"GarageFinish\": [\"Unf\", \"RFn\", \"Fin\"],\n",
    "    \"PavedDrive\": [\"N\", \"P\", \"Y\"],\n",
    "    \"Electrical\": [\"Mix\", \"FuseP\", \"FuseF\", \"FuseA\", \"SBrkr\"],\n",
    "    \"Fence\": [\"MnWw\", \"GdWo\", \"MnPrv\", \"GdPrv\"],\n",
    "    \"BsmtFinType1\": [\"Unf\", \"LwQ\", \"Rec\", \"BLQ\", \"ALQ\", \"GLQ\"],\n",
    "    \"BsmtFinType2\": [\"Unf\", \"LwQ\", \"Rec\", \"BLQ\", \"ALQ\", \"GLQ\"],\n",
    "    \"BsmtExposure\": [\"No\", \"Mn\", \"Av\", \"Gd\"],\n",
    "    \"LotShape\": [\"IR3\", \"IR2\", \"IR1\", \"Reg\"],\n",
    "    \"Alley\": [\"Grvl\", \"Pave\"],\n",
    "    \"Street\": [\"Grvl\", \"Pave\"]\n",
    "    }\n",
    "    \n",
    "    #unordered categorical columns\n",
    "    unordered_cat = list(set(all_cat) - set(ordered_cat))\n",
    "    \n",
    "    #convert ordered categorical to integers\n",
    "    for c in ordered_cat.keys():\n",
    "        combined[c] = combined[c].astype('category', categories=ordered_cat[c], ordered=True).cat.codes\n",
    "        \n",
    "    #convert remaining unordered categorical to dummy columns        \n",
    "    combined = pd.get_dummies(combined)\n",
    "            \n",
    "    y = np.log(train['SalePrice'].values)\n",
    "    X = combined.iloc[:train.shape[0],:]\n",
    "    X_submission = combined.iloc[train.shape[0]:,:]\n",
    "    ids_submission = test['Id'].values\n",
    "    return y, X, X_submission, ids_submission"
   ]
  },
  {
   "cell_type": "code",
   "execution_count": 411,
   "metadata": {
    "collapsed": false
   },
   "outputs": [],
   "source": [
    "# load data\n",
    "y, X, X_submission, ids_submission = load_data()"
   ]
  },
  {
   "cell_type": "markdown",
   "metadata": {},
   "source": [
    "## Missing Values"
   ]
  },
  {
   "cell_type": "code",
   "execution_count": 412,
   "metadata": {
    "collapsed": false
   },
   "outputs": [
    {
     "data": {
      "text/plain": [
       "LotFrontage            0.177397\n",
       "GarageYrBlt            0.055479\n",
       "MasVnrArea             0.005479\n",
       "Exterior1st_BrkFace    0.000000\n",
       "Exterior1st_BrkComm    0.000000\n",
       "dtype: float64"
      ]
     },
     "execution_count": 412,
     "metadata": {},
     "output_type": "execute_result"
    }
   ],
   "source": [
    "(1 - X.count() / X.shape[0]).sort_values(ascending=False).head()"
   ]
  },
  {
   "cell_type": "code",
   "execution_count": 413,
   "metadata": {
    "collapsed": false
   },
   "outputs": [],
   "source": [
    "parameters = {'xgbregressor__max_depth': [6],\n",
    "              'xgbregressor__learning_rate': [0.1],\n",
    "              'xgbregressor__n_estimators': [100],\n",
    "              'xgbregressor__min_child_weight': [2],\n",
    "              'xgbregressor__subsample': [0.65],\n",
    "              'xgbregressor__colsample_bytree': [0.65]}\n",
    "\n",
    "pipeline = make_pipeline(Imputer(strategy='most_frequent'),\n",
    "                         XGBRegressor(silent = True, objective='reg:linear', nthread=4, seed = 1773))\n",
    "\n",
    "model = GridSearchCV(pipeline,\n",
    "                     parameters, \n",
    "                     #n_iter=60, \n",
    "                     #random_state=1773,\n",
    "                     scoring=make_scorer(rmse, greater_is_better=False), \n",
    "                     cv=KFold(10, random_state=42))"
   ]
  },
  {
   "cell_type": "code",
   "execution_count": 414,
   "metadata": {
    "collapsed": false
   },
   "outputs": [],
   "source": [
    "#0.121633129956"
   ]
  },
  {
   "cell_type": "code",
   "execution_count": 415,
   "metadata": {
    "collapsed": false
   },
   "outputs": [
    {
     "name": "stdout",
     "output_type": "stream",
     "text": [
      "best score: -0.122200874318\n",
      "best parameters: {'xgbregressor__learning_rate': 0.1, 'xgbregressor__subsample': 0.65, 'xgbregressor__n_estimators': 100, 'xgbregressor__colsample_bytree': 0.65, 'xgbregressor__max_depth': 6, 'xgbregressor__min_child_weight': 2}\n",
      "CPU times: user 13.1 s, sys: 113 ms, total: 13.2 s\n",
      "Wall time: 3.45 s\n"
     ]
    }
   ],
   "source": [
    "%%time\n",
    "model.fit(X,y);\n",
    "print 'best score:', model.best_score_\n",
    "print 'best parameters:', model.best_params_"
   ]
  },
  {
   "cell_type": "code",
   "execution_count": 332,
   "metadata": {
    "collapsed": false
   },
   "outputs": [],
   "source": [
    "base_case = X.median()"
   ]
  },
  {
   "cell_type": "code",
   "execution_count": 322,
   "metadata": {
    "collapsed": false
   },
   "outputs": [
    {
     "data": {
      "text/plain": [
       "BldgType_1Fam      1.0\n",
       "BldgType_2fmCon    0.0\n",
       "BldgType_Duplex    0.0\n",
       "BldgType_Twnhs     0.0\n",
       "BldgType_TwnhsE    0.0\n",
       "dtype: float64"
      ]
     },
     "execution_count": 322,
     "metadata": {},
     "output_type": "execute_result"
    }
   ],
   "source": [
    "#BldgType\n",
    "base_case[X.columns[X.columns.map(lambda x: x.split('_')[0] == 'BldgType')]]"
   ]
  },
  {
   "cell_type": "code",
   "execution_count": 341,
   "metadata": {
    "collapsed": true
   },
   "outputs": [],
   "source": [
    "BldgType_1Fam = base_case\n",
    "BldgType_2fmCon = base_case.set_value('BldgType_1Fam', 0).set_value('BldgType_2fmCon', 1)\n",
    "BldgType_Duplex = base_case.set_value('BldgType_1Fam', 0).set_value('BldgType_Duplex', 1)\n",
    "BldgType_Twnhs = base_case.set_value('BldgType_1Fam', 0).set_value('BldgType_Twnhs', 1)\n",
    "BldgType_TwnhsE = base_case.set_value('BldgType_1Fam', 0).set_value('BldgType_TwnhsE', 1)"
   ]
  },
  {
   "cell_type": "code",
   "execution_count": 342,
   "metadata": {
    "collapsed": false
   },
   "outputs": [
    {
     "name": "stdout",
     "output_type": "stream",
     "text": [
      "[ 11.99930954]\n",
      "[ 11.99930954]\n",
      "[ 11.99930954]\n",
      "[ 11.99930954]\n",
      "[ 11.99930954]\n"
     ]
    }
   ],
   "source": [
    "print model.predict(BldgType_1Fam.reshape(1,-1))\n",
    "print model.predict(BldgType_2fmCon.reshape(1,-1))\n",
    "print model.predict(BldgType_Duplex.reshape(1,-1))\n",
    "print model.predict(BldgType_Twnhs.reshape(1,-1))\n",
    "print model.predict(BldgType_TwnhsE.reshape(1,-1))"
   ]
  },
  {
   "cell_type": "code",
   "execution_count": 326,
   "metadata": {
    "collapsed": false
   },
   "outputs": [
    {
     "data": {
      "text/plain": [
       "1stFlrSF                    1087.0\n",
       "2ndFlrSF                       0.0\n",
       "3SsnPorch                      0.0\n",
       "Alley                          0.0\n",
       "BedroomAbvGr                   3.0\n",
       "BsmtCond                       2.0\n",
       "BsmtExposure                   0.0\n",
       "BsmtFinSF1                   383.5\n",
       "BsmtFinSF2                     0.0\n",
       "BsmtFinType1                   3.0\n",
       "BsmtFinType2                   0.0\n",
       "BsmtFullBath                   0.0\n",
       "BsmtHalfBath                   0.0\n",
       "BsmtQual                       2.0\n",
       "BsmtUnfSF                    477.5\n",
       "CentralAir                     1.0\n",
       "Electrical                     4.0\n",
       "EnclosedPorch                  0.0\n",
       "ExterCond                      2.0\n",
       "ExterQual                      1.0\n",
       "Fence                         -1.0\n",
       "FireplaceQu                    1.0\n",
       "Fireplaces                     1.0\n",
       "FullBath                       2.0\n",
       "GarageArea                   480.0\n",
       "GarageCars                     2.0\n",
       "GarageCond                     2.0\n",
       "GarageFinish                   1.0\n",
       "GarageQual                     2.0\n",
       "GarageYrBlt                 1980.0\n",
       "                             ...  \n",
       "RoofMatl_Membran               0.0\n",
       "RoofMatl_Metal                 0.0\n",
       "RoofMatl_Roll                  0.0\n",
       "RoofMatl_Tar&Grv               0.0\n",
       "RoofMatl_WdShake               0.0\n",
       "RoofMatl_WdShngl               0.0\n",
       "RoofStyle_Flat                 0.0\n",
       "RoofStyle_Gable                1.0\n",
       "RoofStyle_Gambrel              0.0\n",
       "RoofStyle_Hip                  0.0\n",
       "RoofStyle_Mansard              0.0\n",
       "RoofStyle_Shed                 0.0\n",
       "SaleCondition_Abnorml          0.0\n",
       "SaleCondition_AdjLand          0.0\n",
       "SaleCondition_Alloca           0.0\n",
       "SaleCondition_Family           0.0\n",
       "SaleCondition_Normal           1.0\n",
       "SaleCondition_Partial          0.0\n",
       "SaleType_COD                   0.0\n",
       "SaleType_CWD                   0.0\n",
       "SaleType_Con                   0.0\n",
       "SaleType_ConLD                 0.0\n",
       "SaleType_ConLI                 0.0\n",
       "SaleType_ConLw                 0.0\n",
       "SaleType_New                   0.0\n",
       "SaleType_Oth                   0.0\n",
       "SaleType_WD                    1.0\n",
       "Utilities_AllPub               1.0\n",
       "Utilities_NoSeWa               0.0\n",
       "BldgType_BldgType_2fmCon       1.0\n",
       "dtype: float64"
      ]
     },
     "execution_count": 326,
     "metadata": {},
     "output_type": "execute_result"
    }
   ],
   "source": [
    "base_case.set_value('BldgType_1Fam', 0).set_value('BldgType_BldgType_2fmCon', 1)"
   ]
  },
  {
   "cell_type": "code",
   "execution_count": 220,
   "metadata": {
    "collapsed": true
   },
   "outputs": [],
   "source": [
    "# # create submission predictions\n",
    "# preds_submission = model.predict(X_submission)\n",
    "\n",
    "# # save submission\n",
    "# pd.DataFrame({'Id': ids_submission, 'SalePrice': np.exp(preds_submission)})\\\n",
    "#   .to_csv('../output/07_randomsearch_XGB.csv', index=False)"
   ]
  },
  {
   "cell_type": "code",
   "execution_count": 23,
   "metadata": {
    "collapsed": false
   },
   "outputs": [],
   "source": [
    "# %matplotlib inline\n",
    "# import matplotlib.pyplot as plt\n",
    "\n",
    "# plt.plot(np.sort(model.cv_results_['mean_test_score']));"
   ]
  },
  {
   "cell_type": "code",
   "execution_count": 24,
   "metadata": {
    "collapsed": false
   },
   "outputs": [
    {
     "name": "stderr",
     "output_type": "stream",
     "text": [
      "/Users/dave/.pyenv/versions/anaconda-2.4.0/lib/python2.7/site-packages/matplotlib/font_manager.py:273: UserWarning: Matplotlib is building the font cache using fc-list. This may take a moment.\n",
      "  warnings.warn('Matplotlib is building the font cache using fc-list. This may take a moment.')\n"
     ]
    }
   ],
   "source": [
    "%matplotlib inline\n",
    "from xgboost import plot_importance\n",
    "from matplotlib import pyplot"
   ]
  },
  {
   "cell_type": "code",
   "execution_count": 25,
   "metadata": {
    "collapsed": false
   },
   "outputs": [],
   "source": [
    "xgb_model = model.best_estimator_.steps[1][1]"
   ]
  },
  {
   "cell_type": "code",
   "execution_count": 26,
   "metadata": {
    "collapsed": true
   },
   "outputs": [],
   "source": [
    "import xgboost as xgb"
   ]
  },
  {
   "cell_type": "code",
   "execution_count": 27,
   "metadata": {
    "collapsed": true
   },
   "outputs": [],
   "source": [
    "import matplotlib.pyplot as plt"
   ]
  },
  {
   "cell_type": "code",
   "execution_count": 28,
   "metadata": {
    "collapsed": false
   },
   "outputs": [],
   "source": [
    "def get_xgb_imp(xgb, feat_names):\n",
    "    from numpy import array\n",
    "    imp_vals = xgb.booster().get_fscore()\n",
    "    imp_dict = {feat_names[i]:float(imp_vals.get('f'+str(i),0.)) for i in range(len(feat_names))}\n",
    "    total = array(imp_dict.values()).sum()\n",
    "    return {k:v/total for k,v in imp_dict.items()}"
   ]
  },
  {
   "cell_type": "code",
   "execution_count": 29,
   "metadata": {
    "collapsed": false
   },
   "outputs": [],
   "source": [
    "var_imp = get_xgb_imp(xgb_model, X.columns)\n",
    "var_imp = pd.DataFrame({'variable': var_imp.keys(), 'imp': var_imp.values()})"
   ]
  },
  {
   "cell_type": "code",
   "execution_count": 30,
   "metadata": {
    "collapsed": false
   },
   "outputs": [],
   "source": [
    "var_imp['main_variable'] = var_imp.variable.map(lambda x: x.split('_')[0])"
   ]
  },
  {
   "cell_type": "code",
   "execution_count": 31,
   "metadata": {
    "collapsed": false
   },
   "outputs": [
    {
     "data": {
      "text/plain": [
       "main_variable\n",
       "GrLivArea        0.060052\n",
       "1stFlrSF         0.054830\n",
       "LotArea          0.047650\n",
       "Neighborhood     0.045039\n",
       "BsmtFinSF1       0.044386\n",
       "GarageArea       0.039164\n",
       "TotalBsmtSF      0.037859\n",
       "OverallQual      0.036554\n",
       "BsmtUnfSF        0.035901\n",
       "YearBuilt        0.032637\n",
       "OverallCond      0.030679\n",
       "2ndFlrSF         0.029373\n",
       "SaleCondition    0.026762\n",
       "MoSold           0.023499\n",
       "OpenPorchSF      0.022846\n",
       "GarageYrBlt      0.022846\n",
       "LotFrontage      0.021540\n",
       "YearRemodAdd     0.020888\n",
       "YrSold           0.019582\n",
       "BsmtExposure     0.019582\n",
       "Exterior1st      0.015666\n",
       "EnclosedPorch    0.014360\n",
       "MasVnrArea       0.014360\n",
       "MSZoning         0.013708\n",
       "WoodDeckSF       0.013708\n",
       "Condition1       0.013055\n",
       "BsmtFinType1     0.012402\n",
       "TotRmsAbvGrd     0.011097\n",
       "Functional       0.010444\n",
       "LandContour      0.009791\n",
       "                   ...   \n",
       "GarageCars       0.005222\n",
       "Fireplaces       0.004569\n",
       "FireplaceQu      0.004569\n",
       "ExterQual        0.004569\n",
       "KitchenAbvGr     0.004569\n",
       "Heating          0.004569\n",
       "CentralAir       0.004569\n",
       "PoolArea         0.003916\n",
       "BsmtQual         0.003916\n",
       "BsmtCond         0.003916\n",
       "Electrical       0.003916\n",
       "HalfBath         0.003916\n",
       "BldgType         0.003264\n",
       "PavedDrive       0.003264\n",
       "Alley            0.002611\n",
       "ExterCond        0.002611\n",
       "GarageCond       0.002611\n",
       "GarageQual       0.002611\n",
       "HouseStyle       0.001958\n",
       "BsmtFinType2     0.001958\n",
       "Condition2       0.001958\n",
       "RoofMatl         0.001958\n",
       "MiscVal          0.001305\n",
       "Street           0.000653\n",
       "LandSlope        0.000653\n",
       "LowQualFinSF     0.000653\n",
       "PoolQC           0.000653\n",
       "BsmtHalfBath     0.000000\n",
       "MiscFeature      0.000000\n",
       "3SsnPorch        0.000000\n",
       "Name: imp, dtype: float64"
      ]
     },
     "execution_count": 31,
     "metadata": {},
     "output_type": "execute_result"
    }
   ],
   "source": [
    "var_imp.groupby('main_variable')['imp'].sum().sort_values(ascending=False)"
   ]
  },
  {
   "cell_type": "code",
   "execution_count": null,
   "metadata": {
    "collapsed": false
   },
   "outputs": [],
   "source": [
    "plot_importance(xgb_model);"
   ]
  }
 ],
 "metadata": {
  "anaconda-cloud": {},
  "kernelspec": {
   "display_name": "Python [Root]",
   "language": "python",
   "name": "Python [Root]"
  },
  "language_info": {
   "codemirror_mode": {
    "name": "ipython",
    "version": 2
   },
   "file_extension": ".py",
   "mimetype": "text/x-python",
   "name": "python",
   "nbconvert_exporter": "python",
   "pygments_lexer": "ipython2",
   "version": "2.7.12"
  }
 },
 "nbformat": 4,
 "nbformat_minor": 0
}
