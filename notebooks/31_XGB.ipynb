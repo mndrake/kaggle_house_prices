{
 "cells": [
  {
   "cell_type": "code",
   "execution_count": 31,
   "metadata": {
    "collapsed": false
   },
   "outputs": [],
   "source": [
    "%matplotlib inline\n",
    "import pandas as pd\n",
    "import numpy as np\n",
    "import xgboost as xgb\n",
    "from random import Random\n",
    "from xgboost import XGBRegressor\n",
    "from sklearn.model_selection import KFold, RandomizedSearchCV, GridSearchCV, cross_val_predict\n",
    "from sklearn.metrics import make_scorer, mean_squared_error\n",
    "from sklearn.pipeline import make_pipeline, BaseEstimator, TransformerMixin\n",
    "from sklearn.preprocessing import Imputer\n",
    "from scipy.stats import hmean"
   ]
  },
  {
   "cell_type": "code",
   "execution_count": 23,
   "metadata": {
    "collapsed": true
   },
   "outputs": [],
   "source": [
    "def rmse(y_true, y_pred):\n",
    "    return np.sqrt(mean_squared_error(y_true, y_pred))"
   ]
  },
  {
   "cell_type": "code",
   "execution_count": 36,
   "metadata": {
    "collapsed": true
   },
   "outputs": [],
   "source": [
    "def load_data():\n",
    "    train = pd.read_csv('../input/train.csv')\n",
    "    test = pd.read_csv('../input/test.csv')\n",
    "    \n",
    "    y = np.log(train['SalePrice'].values)\n",
    "    ids_submission = test['Id'].values\n",
    "    \n",
    "    combined = train.append(test, ignore_index=True).drop(['SalePrice'], axis=1)\n",
    "    \n",
    "    ordered_levels = {\n",
    "        \"Alley\": [\"Grvl\", \"Pave\"],\n",
    "        \"BsmtCond\": [\"Po\", \"Fa\", \"TA\", \"Gd\"],\n",
    "        \"BsmtExposure\": [\"No\", \"Mn\", \"Av\", \"Gd\"],\n",
    "        \"BsmtFinType1\": [\"Unf\", \"LwQ\", \"Rec\", \"BLQ\", \"ALQ\", \"GLQ\"],\n",
    "        \"BsmtFinType2\": [\"Unf\", \"LwQ\", \"Rec\", \"BLQ\", \"ALQ\", \"GLQ\"],\n",
    "        \"BsmtQual\": [\"Fa\", \"TA\", \"Gd\", \"Ex\"],\n",
    "        \"CentralAir\": [\"N\", \"Y\"],\n",
    "        \"Electrical\": [\"Mix\", \"FuseP\", \"FuseF\", \"FuseA\", \"SBrkr\"],\n",
    "        \"ExterCond\": [\"Po\", \"Fa\", \"TA\", \"Gd\", \"Ex\"],\n",
    "        \"ExterQual\": [\"Fa\", \"TA\", \"Gd\", \"Ex\"],\n",
    "        \"Fence\": [\"MnWw\", \"GdWo\", \"MnPrv\", \"GdPrv\"],\n",
    "        \"FireplaceQu\": [\"Po\", \"Fa\", \"TA\", \"Gd\", \"Ex\"],\n",
    "        'Functional': ['Sev', 'Maj2', 'Maj1', 'Mod', 'Min2', 'Min1', 'Typ'],\n",
    "        \"GarageCond\": [\"Po\", \"Fa\", \"TA\", \"Gd\", \"Ex\"],\n",
    "        \"GarageFinish\": [\"Unf\", \"RFn\", \"Fin\"],\n",
    "        \"GarageQual\": [\"Po\", \"Fa\", \"TA\", \"Gd\", \"Ex\"],\n",
    "        \"HeatingQC\": [\"Po\", \"Fa\", \"TA\", \"Gd\", \"Ex\"],\n",
    "        \"KitchenQual\": [\"Fa\", \"TA\", \"Gd\", \"Ex\"],\n",
    "        \"LotShape\": [\"IR3\", \"IR2\", \"IR1\", \"Reg\"],\n",
    "        \"PavedDrive\": [\"N\", \"P\", \"Y\"],\n",
    "        \"PoolQC\": [\"Fa\", \"Gd\", \"Ex\"],\n",
    "        \"Street\": [\"Grvl\", \"Pave\"],   \n",
    "        \"Utilities\": [\"NoSeWa\", \"AllPub\"]\n",
    "    }\n",
    "    \n",
    "    for c in combined.columns:\n",
    "        if combined[c].dtype == 'object':\n",
    "            if c in ordered_levels:\n",
    "                combined[c] = combined[c].astype('category', categories = ordered_levels[c], ordered=True)\n",
    "            else:\n",
    "                combined[c] = combined[c].astype('category')\n",
    "                    \n",
    "    X = combined.iloc[:train.shape[0],:]\n",
    "    X_submission = combined.iloc[train.shape[0]:,:]\n",
    "    \n",
    "    return y, X, X_submission, ids_submission   \n",
    "\n",
    "y, X, X_submission, ids_submission = load_data()"
   ]
  },
  {
   "cell_type": "code",
   "execution_count": 37,
   "metadata": {
    "collapsed": true
   },
   "outputs": [],
   "source": [
    "class ProcessData(TransformerMixin):\n",
    "    def fit(self, X, y=None):\n",
    "        return self\n",
    "    def transform(self, X, y=None):\n",
    "        X = X.copy()\n",
    "        X.drop(['Id'], axis=1, inplace=True)\n",
    "        X[\"HasFireplace\"] = 1 - X[\"FireplaceQu\"].isnull() * 1\n",
    "        X[\"AttchdGarage\"] = (X['GarageType'] == \"Attchd\") * 1\n",
    "                \n",
    "        for c in X.columns:\n",
    "            if X[c].dtype.name == 'category':\n",
    "                if X[c].cat.ordered:\n",
    "                    X[c] = X[c].cat.codes\n",
    "                    \n",
    "        return pd.get_dummies(X)"
   ]
  },
  {
   "cell_type": "code",
   "execution_count": 47,
   "metadata": {
    "collapsed": true
   },
   "outputs": [],
   "source": [
    "model_xgb = make_pipeline(ProcessData(),\n",
    "                      Imputer(strategy='most_frequent'),\n",
    "                      XGBRegressor(silent = True, \n",
    "                                   objective='reg:linear', \n",
    "                                   seed=1773,\n",
    "                                   max_depth=5,\n",
    "                                   learning_rate=0.1,\n",
    "                                   n_estimators=200,\n",
    "                                   min_child_weight=2,\n",
    "                                   subsample=0.65,\n",
    "                                   colsample_bytree=0.65))"
   ]
  },
  {
   "cell_type": "code",
   "execution_count": 49,
   "metadata": {
    "collapsed": true
   },
   "outputs": [],
   "source": [
    "def get_oof_preds(model, X, y, X_sub, n_folds=10, n_iter=1, seed=1234):\n",
    "    preds = np.zeros((np.shape(X)[0], n_iter))\n",
    "    preds_sub = np.zeros((np.shape(X_sub)[0], n_iter))\n",
    "    rng = Random(seed)\n",
    "    for i in range(n_iter):\n",
    "        rs = rng.randint(1,9999)\n",
    "        folds = KFold(n_folds, shuffle=True, random_state=rs)\n",
    "        preds_sub_j = np.zeros((np.shape(X_sub)[0], n_folds))\n",
    "        print 'iter: {}'.format(i)\n",
    "        for j, (train_index, test_index) in enumerate(folds.split(X)):\n",
    "            X_train = X.iloc[train_index, :]\n",
    "            X_test = X.iloc[test_index, :]\n",
    "            y_train = y[train_index]\n",
    "            model.fit(X_train, y_train)\n",
    "            preds[test_index, i] = model.predict(X_test)\n",
    "            preds_sub_j[:,j] = model.predict(X_sub)\n",
    "        preds_sub[:, i] = hmean(preds_sub_j, axis=1)\n",
    "    return preds, preds_sub"
   ]
  },
  {
   "cell_type": "code",
   "execution_count": 50,
   "metadata": {
    "collapsed": true
   },
   "outputs": [],
   "source": [
    "# def get_oof_preds(model, X, y, n_folds=10, n_iter=1, seed=1234):\n",
    "#     preds = np.zeros((np.shape(X)[0], n_iter))\n",
    "#     rng = Random(seed)\n",
    "#     for i in range(n_iter):\n",
    "#         rs = rng.randint(1,9999)\n",
    "#         #print 'iter:', i\n",
    "#         folds = KFold(n_folds, shuffle=True, random_state=rs)\n",
    "#         preds[:, i] = cross_val_predict(model, X, y, cv = folds, n_jobs=8)\n",
    "#     return hmean(preds, axis=1)"
   ]
  },
  {
   "cell_type": "code",
   "execution_count": null,
   "metadata": {
    "collapsed": true
   },
   "outputs": [],
   "source": [
    "xgb_oof_preds = get_oof_preds(model, X, y, n_folds=5, n_iter=5, seed=1337)"
   ]
  },
  {
   "cell_type": "code",
   "execution_count": 41,
   "metadata": {
    "collapsed": false
   },
   "outputs": [
    {
     "name": "stdout",
     "output_type": "stream",
     "text": [
      "CPU times: user 749 ms, sys: 211 ms, total: 959 ms\n",
      "Wall time: 22.1 s\n"
     ]
    }
   ],
   "source": [
    "%%time\n",
    "oof_preds = get_oof_preds(model, X, y, n_folds=5, n_iter=5, seed=1337)"
   ]
  },
  {
   "cell_type": "code",
   "execution_count": null,
   "metadata": {
    "collapsed": true
   },
   "outputs": [],
   "source": [
    "#0.119904547979"
   ]
  },
  {
   "cell_type": "code",
   "execution_count": 43,
   "metadata": {
    "collapsed": false
   },
   "outputs": [
    {
     "name": "stdout",
     "output_type": "stream",
     "text": [
      "mean:  0.119904547979\n"
     ]
    }
   ],
   "source": [
    "print 'mean: ', rmse(y, oof_preds)"
   ]
  },
  {
   "cell_type": "code",
   "execution_count": 44,
   "metadata": {
    "collapsed": false
   },
   "outputs": [
    {
     "name": "stdout",
     "output_type": "stream",
     "text": [
      "-1.02269861587\n",
      "524\n"
     ]
    }
   ],
   "source": [
    "max_error_index = np.argmax(np.abs(y - oof_preds))\n",
    "print (y - oof_preds_mean)[max_error_index]\n",
    "print X['Id'][max_error_index]"
   ]
  },
  {
   "cell_type": "code",
   "execution_count": 45,
   "metadata": {
    "collapsed": false
   },
   "outputs": [
    {
     "data": {
      "image/png": "[encoded data removed]",
      "text/plain": [
       "<matplotlib.figure.Figure at 0x1111ffc50>"
      ]
     },
     "metadata": {},
     "output_type": "display_data"
    }
   ],
   "source": [
    "%matplotlib inline\n",
    "import matplotlib.pyplot as plt\n",
    "plt.scatter(x=oof_preds_hmean, y=y);"
   ]
  }
 ],
 "metadata": {
  "anaconda-cloud": {},
  "kernelspec": {
   "display_name": "Python [Root]",
   "language": "python",
   "name": "Python [Root]"
  },
  "language_info": {
   "codemirror_mode": {
    "name": "ipython",
    "version": 2
   },
   "file_extension": ".py",
   "mimetype": "text/x-python",
   "name": "python",
   "nbconvert_exporter": "python",
   "pygments_lexer": "ipython2",
   "version": "2.7.12"
  }
 },
 "nbformat": 4,
 "nbformat_minor": 0
}
