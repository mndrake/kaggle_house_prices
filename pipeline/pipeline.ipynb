{
 "cells": [
  {
   "cell_type": "code",
   "execution_count": 1,
   "metadata": {
    "collapsed": false
   },
   "outputs": [],
   "source": [
    "import pandas as pd\n",
    "import numpy as np\n",
    "from sklearn.ensemble import BaggingRegressor, BaseEnsemble\n",
    "from sklearn.tree import DecisionTreeRegressor\n",
    "from sklearn.linear_model import Lasso\n",
    "from sklearn.model_selection import GridSearchCV, KFold\n",
    "from sklearn.pipeline import make_pipeline\n",
    "from sklearn.metrics import mean_squared_error\n",
    "from sklearn.preprocessing import Imputer, StandardScaler\n",
    "from house_features import CategoricalFeatures, LinearFeatures, TreeFeatures"
   ]
  },
  {
   "cell_type": "code",
   "execution_count": 2,
   "metadata": {
    "collapsed": false
   },
   "outputs": [],
   "source": [
    "train = pd.read_csv('../input/train.csv')"
   ]
  },
  {
   "cell_type": "code",
   "execution_count": 3,
   "metadata": {
    "collapsed": true
   },
   "outputs": [],
   "source": [
    "model_bagged_lasso = make_pipeline(\n",
    "                            CategoricalFeatures(),\n",
    "                            LinearFeatures(),\n",
    "                            Imputer(strategy='most_frequent'),\n",
    "                            StandardScaler(),\n",
    "                            BaggingRegressor(Lasso(alpha=0.002), n_estimators=50, max_samples=0.4, max_features=1.0, \n",
    "                                             oob_score=True, random_state=1337))"
   ]
  },
  {
   "cell_type": "code",
   "execution_count": 203,
   "metadata": {
    "collapsed": false
   },
   "outputs": [
    {
     "name": "stdout",
     "output_type": "stream",
     "text": [
      "RMSE: 0.127620955983\n"
     ]
    }
   ],
   "source": [
    "model_bagged_lasso.fit(train, np.log(train.SalePrice))\n",
    "oob_preds = model_bagged_lasso.named_steps['baggingregressor'].oob_prediction_\n",
    "score = np.sqrt(mean_squared_error(np.log(train.SalePrice), oob_preds))\n",
    "print \"RMSE: {}\".format(score)"
   ]
  },
  {
   "cell_type": "code",
   "execution_count": 204,
   "metadata": {
    "collapsed": false
   },
   "outputs": [],
   "source": [
    "model_bagged_dt = make_pipeline(\n",
    "                            CategoricalFeatures(),\n",
    "                            TreeFeatures(),\n",
    "                            Imputer(strategy='most_frequent'),\n",
    "                            BaggingRegressor(DecisionTreeRegressor(), n_estimators=400, \n",
    "                                             max_samples=0.6, max_features=0.7, \n",
    "                                             bootstrap=True, bootstrap_features=False, oob_score=True, \n",
    "                                             warm_start=False, n_jobs=1, random_state=1337, verbose=0))"
   ]
  },
  {
   "cell_type": "code",
   "execution_count": 206,
   "metadata": {
    "collapsed": false
   },
   "outputs": [
    {
     "name": "stdout",
     "output_type": "stream",
     "text": [
      "RMSE: 0.138310882524\n"
     ]
    }
   ],
   "source": [
    "model_bagged_dt.fit(train, np.log(train.SalePrice))\n",
    "oob_preds = model_bagged_dt.named_steps['baggingregressor'].oob_prediction_\n",
    "score = np.sqrt(mean_squared_error(np.log(train.SalePrice), oob_preds))\n",
    "print \"RMSE: {}\".format(score)"
   ]
  },
  {
   "cell_type": "code",
   "execution_count": 207,
   "metadata": {
    "collapsed": true
   },
   "outputs": [],
   "source": [
    "oob_preds1 = model_bagged_lasso.named_steps['baggingregressor'].oob_prediction_\n",
    "oob_preds2 = model_bagged_dt.named_steps['baggingregressor'].oob_prediction_"
   ]
  },
  {
   "cell_type": "code",
   "execution_count": 208,
   "metadata": {
    "collapsed": false
   },
   "outputs": [
    {
     "name": "stdout",
     "output_type": "stream",
     "text": [
      "RMSE: 0.124286429321\n"
     ]
    }
   ],
   "source": [
    "oob_preds3 = 0.75 * oob_preds1 + 0.25 * oob_preds2\n",
    "score = np.sqrt(mean_squared_error(np.log(train.SalePrice), oob_preds3))\n",
    "print \"RMSE: {}\".format(score)"
   ]
  },
  {
   "cell_type": "code",
   "execution_count": null,
   "metadata": {
    "collapsed": true
   },
   "outputs": [],
   "source": []
  }
 ],
 "metadata": {
  "anaconda-cloud": {},
  "kernelspec": {
   "display_name": "Python [Root]",
   "language": "python",
   "name": "Python [Root]"
  },
  "language_info": {
   "codemirror_mode": {
    "name": "ipython",
    "version": 2
   },
   "file_extension": ".py",
   "mimetype": "text/x-python",
   "name": "python",
   "nbconvert_exporter": "python",
   "pygments_lexer": "ipython2",
   "version": "2.7.11"
  }
 },
 "nbformat": 4,
 "nbformat_minor": 0
}
