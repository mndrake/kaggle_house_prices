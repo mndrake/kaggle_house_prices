{
 "cells": [
  {
   "cell_type": "code",
   "execution_count": 1,
   "metadata": {
    "collapsed": false
   },
   "outputs": [
    {
     "name": "stderr",
     "output_type": "stream",
     "text": [
      "/Users/dave/.pyenv/versions/anaconda2-4.1.0/lib/python2.7/site-packages/sklearn/cross_validation.py:44: DeprecationWarning: This module was deprecated in version 0.18 in favor of the model_selection module into which all the refactored classes and functions are moved. Also note that the interface of the new CV iterators are different from that of this module. This module will be removed in 0.20.\n",
      "  \"This module will be removed in 0.20.\", DeprecationWarning)\n"
     ]
    }
   ],
   "source": [
    "import numpy as np\n",
    "import pandas as pd\n",
    "from sklearn.linear_model import Lasso\n",
    "from sklearn.metrics import mean_squared_error\n",
    "from sklearn.model_selection import KFold, cross_val_predict\n",
    "from sklearn.pipeline import make_pipeline\n",
    "from sklearn.preprocessing import StandardScaler\n",
    "from sklearn.svm import SVR\n",
    "from sklearn.ensemble import BaggingRegressor\n",
    "from scipy.stats import hmean\n",
    "from tqdm import tnrange, tqdm_notebook, tqdm\n",
    "from xgboost import XGBRegressor\n",
    "import forum_features"
   ]
  },
  {
   "cell_type": "markdown",
   "metadata": {},
   "source": [
    "## scoring methods"
   ]
  },
  {
   "cell_type": "code",
   "execution_count": 2,
   "metadata": {
    "collapsed": true
   },
   "outputs": [],
   "source": [
    "def rmse(y_true, y_pred):\n",
    "    return np.sqrt(mean_squared_error(y_true, y_pred))"
   ]
  },
  {
   "cell_type": "code",
   "execution_count": 3,
   "metadata": {
    "collapsed": false
   },
   "outputs": [],
   "source": [
    "def oob_predictions(model, X, y, X_sub, n_folds=5):\n",
    "    folds = cv=KFold(n_folds, shuffle=True, random_state=42).split(X)\n",
    "    \n",
    "    if type(X).__name__ == 'SparseDataFrame':\n",
    "        X = X.values\n",
    "        X_sub = X_sub.values\n",
    "        \n",
    "    if type(y).__name__ == 'Series':\n",
    "        y = y.values\n",
    "    \n",
    "    train_pred = np.zeros(np.shape(X)[0])\n",
    "    test_pred_i = np.zeros((np.shape(X_sub)[0], n_folds))\n",
    "        \n",
    "    for i in tnrange(n_folds, desc='split'):\n",
    "        train_index, test_index = folds.next()\n",
    "        X_train = X[train_index,:]\n",
    "        X_test = X[test_index,:]\n",
    "        y_train = y[train_index]\n",
    "        model.fit(X_train, y_train)\n",
    "        train_pred[test_index] = model.predict(X_test)\n",
    "        test_pred_i[:,i] = model.predict(X_sub)\n",
    "        \n",
    "    test_pred = hmean(test_pred_i, axis=1)\n",
    "    \n",
    "    print('RMSE: {}'.format(rmse(y, train_pred)))\n",
    "    \n",
    "    return train_pred, test_pred"
   ]
  },
  {
   "cell_type": "markdown",
   "metadata": {},
   "source": [
    "## load data"
   ]
  },
  {
   "cell_type": "code",
   "execution_count": 4,
   "metadata": {
    "collapsed": false
   },
   "outputs": [],
   "source": [
    "X, y, X_submission, ids_submission = forum_features.load_data()"
   ]
  },
  {
   "cell_type": "markdown",
   "metadata": {},
   "source": [
    "## stack results"
   ]
  },
  {
   "cell_type": "code",
   "execution_count": 5,
   "metadata": {
    "collapsed": true
   },
   "outputs": [],
   "source": [
    "regs = [BaggingRegressor(Lasso(alpha=0.00013, max_iter=10000),\n",
    "                         random_state=1337, n_estimators=100, oob_score=True, \n",
    "                         max_samples=0.4, max_features=1.0),\n",
    "        XGBRegressor(colsample_bytree=0.4, gamma=0.04, learning_rate=0.05, max_depth=16,\n",
    "                     min_child_weight=3, n_estimators=1500, reg_alpha=0.65,\n",
    "                     reg_lambda=0.5, subsample=0.95),\n",
    "        make_pipeline(StandardScaler(copy=True, with_mean=False, with_std=False),\n",
    "                      SVR(C=5.0, cache_size=512, coef0=0.0, degree=1,\n",
    "                          epsilon=0.0435, gamma=0.00115, kernel='rbf',\n",
    "                          max_iter=166519567.0, shrinking=True, \n",
    "                          tol=0.0016221625196, verbose=False))]"
   ]
  },
  {
   "cell_type": "code",
   "execution_count": 6,
   "metadata": {
    "collapsed": false
   },
   "outputs": [
    {
     "name": "stdout",
     "output_type": "stream",
     "text": [
      "\n",
      "RMSE: 0.109832474852\n",
      "\n",
      "RMSE: 0.120812359806\n",
      "\n",
      "RMSE: 0.108641420758\n",
      "CPU times: user 9min 4s, sys: 2.56 s, total: 9min 7s\n",
      "Wall time: 9min 8s\n"
     ]
    }
   ],
   "source": [
    "%%time\n",
    "reg_preds = [oob_predictions(reg, X, y, X_submission, 10) for reg in regs]"
   ]
  },
  {
   "cell_type": "code",
   "execution_count": 7,
   "metadata": {
    "collapsed": true
   },
   "outputs": [],
   "source": [
    "reg_train_preds, reg_test_preds = [x for x in zip(*reg_preds)]\n",
    "reg_train_preds = np.exp(np.transpose(reg_train_preds))\n",
    "reg_test_preds = np.exp(np.transpose(reg_test_preds))\n",
    "target = np.exp(y)"
   ]
  },
  {
   "cell_type": "markdown",
   "metadata": {},
   "source": [
    "## blend results"
   ]
  },
  {
   "cell_type": "code",
   "execution_count": 8,
   "metadata": {
    "collapsed": false
   },
   "outputs": [
    {
     "name": "stdout",
     "output_type": "stream",
     "text": [
      "[ 0.39393419  0.0464162   0.57729749]\n"
     ]
    }
   ],
   "source": [
    "metalearner = Lasso(positive=True)\n",
    "metalearner.fit(reg_train_preds, target);\n",
    "print(metalearner.coef_)"
   ]
  },
  {
   "cell_type": "code",
   "execution_count": 9,
   "metadata": {
    "collapsed": false
   },
   "outputs": [
    {
     "name": "stdout",
     "output_type": "stream",
     "text": [
      "\n",
      "RMSE: 19560.4617677\n",
      "RMSE: 0.108177831842\n"
     ]
    }
   ],
   "source": [
    "meta_preds = oob_predictions(metalearner, reg_train_preds, target, reg_test_preds, n_folds=10)\n",
    "print(\"RMSE: {}\".format(rmse(y, np.log(meta_preds[0]))))"
   ]
  },
  {
   "cell_type": "code",
   "execution_count": 10,
   "metadata": {
    "collapsed": false
   },
   "outputs": [],
   "source": [
    "pd.DataFrame({\"id\": ids_submission, \"SalePrice\": meta_preds[1]})\\\n",
    "  .to_csv(\"metalearner_submission.csv\", index = False)"
   ]
  }
 ],
 "metadata": {
  "anaconda-cloud": {},
  "kernelspec": {
   "display_name": "Python [Root]",
   "language": "python",
   "name": "Python [Root]"
  },
  "language_info": {
   "codemirror_mode": {
    "name": "ipython",
    "version": 2
   },
   "file_extension": ".py",
   "mimetype": "text/x-python",
   "name": "python",
   "nbconvert_exporter": "python",
   "pygments_lexer": "ipython2",
   "version": "2.7.11"
  }
 },
 "nbformat": 4,
 "nbformat_minor": 0
}
